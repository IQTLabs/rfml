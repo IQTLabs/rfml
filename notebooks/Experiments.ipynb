{
 "cells": [
  {
   "cell_type": "code",
   "execution_count": 1,
   "id": "67b8f857-62d3-4fa3-bd07-2e1b2d647914",
   "metadata": {},
   "outputs": [],
   "source": [
    "from experiment import * \n",
    "from train_iq import *\n",
    "from train_spec import *\n"
   ]
  },
  {
   "cell_type": "code",
   "execution_count": 2,
   "id": "c78ca9c4-2c35-460d-b27e-49aa9762be3a",
   "metadata": {},
   "outputs": [],
   "source": [
    "exp1 = Experiment(\n",
    "    experiment_name = \"exp1\",\n",
    "    class_list = [\"wifi\",\"anom_wifi\"],\n",
    "    train_dir = [\"data/gamutrf/gamutrf-sd-gr-ieee-wifi/test_offline\"],\n",
    ")"
   ]
  },
  {
   "cell_type": "code",
   "execution_count": 3,
   "id": "d7fd0e68-646e-464c-8df9-a37838c6f960",
   "metadata": {},
   "outputs": [
    {
     "data": {
      "text/plain": [
       "{'experiment_name': 'exp1',\n",
       " 'train_dir': ['data/gamutrf/gamutrf-sd-gr-ieee-wifi/test_offline'],\n",
       " 'class_list': ['wifi', 'anom_wifi'],\n",
       " 'val_dir': None,\n",
       " 'test_dir': None,\n",
       " 'iq_num_samples': 1024,\n",
       " 'iq_only_start_of_burst': True,\n",
       " 'iq_epochs': 40,\n",
       " 'iq_batch_size': 180,\n",
       " 'spec_n_fft': 1024,\n",
       " 'spec_time_dim': 512,\n",
       " 'spec_n_samples': 524288,\n",
       " 'spec_epochs': 40,\n",
       " 'spec_batch_size': 32,\n",
       " 'notes': None}"
      ]
     },
     "execution_count": 3,
     "metadata": {},
     "output_type": "execute_result"
    }
   ],
   "source": [
    "vars(exp1)"
   ]
  },
  {
   "cell_type": "code",
   "execution_count": null,
   "id": "73223f80-6f6d-4541-95ce-c10812eaae5d",
   "metadata": {},
   "outputs": [],
   "source": [
    "exp=exp1\n",
    "train_spec(\n",
    "    train_dataset_path = exp.train_dir,\n",
    "    val_dataset_path = exp.val_dir,\n",
    "    n_fft = exp.spec_n_fft, \n",
    "    time_dim = exp.spec_time_dim,\n",
    "    epochs = exp.spec_epochs, \n",
    "    batch_size = exp.spec_batch_size, \n",
    "    class_list = exp.class_list, \n",
    "    output_dir = exp.experiment_name,\n",
    ")"
   ]
  },
  {
   "cell_type": "code",
   "execution_count": null,
   "id": "bfdb1075-1348-4d7e-b07d-930f7700b667",
   "metadata": {},
   "outputs": [],
   "source": [
    "exp=exp1\n",
    "train_iq(\n",
    "    train_dataset_path = exp.train_dir,\n",
    "    val_dataset_path = exp.val_dir,\n",
    "    num_iq_samples = exp.iq_num_samples, \n",
    "    only_use_start_of_burst = exp.iq_only_start_of_burst,\n",
    "    epochs = exp.iq_epochs, \n",
    "    batch_size = exp.iq_batch_size, \n",
    "    class_list = exp.class_list, \n",
    "    output_dir = exp.experiment_name,\n",
    ")\n"
   ]
  },
  {
   "cell_type": "code",
   "execution_count": null,
   "id": "04d312f3-0233-4802-a100-290c954d4abe",
   "metadata": {},
   "outputs": [],
   "source": [
    "43404"
   ]
  }
 ],
 "metadata": {
  "kernelspec": {
   "display_name": "Python 3 (ipykernel)",
   "language": "python",
   "name": "python3"
  },
  "language_info": {
   "codemirror_mode": {
    "name": "ipython",
    "version": 3
   },
   "file_extension": ".py",
   "mimetype": "text/x-python",
   "name": "python",
   "nbconvert_exporter": "python",
   "pygments_lexer": "ipython3",
   "version": "3.10.9"
  }
 },
 "nbformat": 4,
 "nbformat_minor": 5
}
