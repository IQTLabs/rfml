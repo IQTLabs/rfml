{
 "cells": [
  {
   "cell_type": "code",
   "execution_count": 27,
   "metadata": {},
   "outputs": [],
   "source": [
    "import rfml.data\n",
    "import copy\n",
    "import glob\n",
    "import json\n",
    "from pathlib import Path\n",
    "from datetime import datetime\n"
   ]
  },
  {
   "cell_type": "code",
   "execution_count": 28,
   "metadata": {},
   "outputs": [
    {
     "name": "stdout",
     "output_type": "stream",
     "text": [
      "Saving /data/rfml-dev/rfml-dev/data/gamutrf/gamutrf-birdseye-field-days/pdx_field_day_2022_05_26/testing/dji-mini2-0to100m-0deg-5735mhz-lp-45-gain_20p5Msps_craft_flying-1.sigmf-meta\n",
      "\n"
     ]
    }
   ],
   "source": [
    "\n",
    "def manual_to_sigmf(file, datatype, sample_rate, frequency, iso_date_string):\n",
    "    # change to .sigmf-data\n",
    "    if file.suffix in [\".raw\"]:\n",
    "        file = file.rename(file.with_suffix(\".sigmf-data\"))\n",
    "    else: \n",
    "        raise NotImplementedError\n",
    "    \n",
    "    sigmf_meta = copy.deepcopy(rfml.data.SIGMF_META_DEFAULT)\n",
    "    sigmf_meta[\"global\"][\"core:dataset\"] = str(file)\n",
    "    sigmf_meta[\"global\"][\"core:datatype\"] = datatype\n",
    "    sigmf_meta[\"global\"][\"core:sample_rate\"] = sample_rate\n",
    "    sigmf_meta[\"captures\"][0][\"core:frequency\"] = frequency\n",
    "    sigmf_meta[\"captures\"][0][\"core:datetime\"] = (\n",
    "        datetime.fromisoformat(iso_date_string)\n",
    "        .isoformat(timespec=\"milliseconds\")\n",
    "        .replace(\"+00:00\", \"Z\")\n",
    "    )\n",
    "\n",
    "    with open(file.with_suffix(\".sigmf-meta\"), \"w\") as outfile:\n",
    "        print(f\"Saving {file.with_suffix('.sigmf-meta')}\\n\")\n",
    "        outfile.write(json.dumps(sigmf_meta, indent=4))\n",
    "\n",
    "data_globs = [\n",
    "    (\n",
    "        \"/data/rfml-dev/rfml-dev/data/gamutrf/gamutrf-birdseye-field-days/pdx_field_day_2022_05_26/testing/*.raw\",\n",
    "        {\n",
    "            \"datatype\": \"cf32_le\",\n",
    "            \"sample_rate\": 20500000,\n",
    "            \"frequency\": 5735500000,\n",
    "            \"iso_date_string\": \"2022-05-26\",\n",
    "        }\n",
    "    )\n",
    "]\n",
    "for file_glob, metadata in data_globs:\n",
    "    files = glob.glob(str(Path(file_glob)))\n",
    "    for f in files:\n",
    "        f = Path(f)\n",
    "        manual_to_sigmf(f, metadata[\"datatype\"], metadata[\"sample_rate\"], metadata[\"frequency\"], metadata[\"iso_date_string\"])\n",
    "\n",
    "\n"
   ]
  },
  {
   "cell_type": "code",
   "execution_count": null,
   "metadata": {},
   "outputs": [],
   "source": []
  }
 ],
 "metadata": {
  "kernelspec": {
   "display_name": "rfml",
   "language": "python",
   "name": "python3"
  },
  "language_info": {
   "codemirror_mode": {
    "name": "ipython",
    "version": 3
   },
   "file_extension": ".py",
   "mimetype": "text/x-python",
   "name": "python",
   "nbconvert_exporter": "python",
   "pygments_lexer": "ipython3",
   "version": "3.11.9"
  }
 },
 "nbformat": 4,
 "nbformat_minor": 2
}
