{
 "cells": [
  {
   "cell_type": "code",
   "execution_count": 1,
   "id": "12915353-cdc6-4878-9bc5-67b94ac61976",
   "metadata": {},
   "outputs": [],
   "source": [
    "import numpy as np\n",
    "import matplotlib.pyplot as plt\n",
    "import data\n",
    "import wifi_label_utils"
   ]
  },
  {
   "cell_type": "code",
   "execution_count": 2,
   "id": "cc4b6bd8-9895-4809-b6b3-b092aceaa1ed",
   "metadata": {},
   "outputs": [],
   "source": [
    "filename = \"data/torchsig_test/gamutrf-nz-wifi/gamutrf_ax_gain60_5180000000Hz_20480000sps.raw.sigmf-meta\""
   ]
  },
  {
   "cell_type": "code",
   "execution_count": 11,
   "id": "9e3e6616-260b-488c-ae39-f4b29920a0c5",
   "metadata": {},
   "outputs": [
    {
     "name": "stdout",
     "output_type": "stream",
     "text": [
      "\n",
      "Loaded \n",
      " Data file: data/torchsig_test/gamutrf-nz-wifi/gamutrf_ax_gain60_5180000000Hz_20480000sps.raw.sigmf-data \n",
      " SigMF-Meta file: data/torchsig_test/gamutrf-nz-wifi/gamutrf_ax_gain60_5180000000Hz_20480000sps.raw.sigmf-meta\n",
      "\n",
      "wifi_samples.shape=(20480000,)\n"
     ]
    },
    {
     "data": {
      "image/png": "[encoded data removed]",
      "text/plain": [
       "<Figure size 640x480 with 1 Axes>"
      ]
     },
     "metadata": {},
     "output_type": "display_data"
    }
   ],
   "source": [
    "wifi_data = data.Data(filename)\n",
    "\n",
    "wifi_samples = wifi_data.get_samples(n_samples=int(wifi_data.metadata[\"global\"][\"core:sample_rate\"]*1))\n",
    "#wifi_samples = wifi_data.get_samples()\n",
    "print(f\"{wifi_samples.shape=}\")\n",
    "\n",
    "wifi_avg_pwr = wifi_label_utils.moving_average(wifi_samples, 256)\n",
    "wifi_avg_pwr_db = 10*np.log10(wifi_avg_pwr)\n",
    "\n",
    "plt.figure()\n",
    "plt.plot(wifi_avg_pwr_db[int(26*20480000e-2):int(29*20480000e-2)])\n",
    "plt.show()\n",
    "\n",
    "\n",
    "\n"
   ]
  },
  {
   "cell_type": "code",
   "execution_count": null,
   "id": "9741e7b1-e7fd-4a90-b9ea-78c9ea08f0a4",
   "metadata": {},
   "outputs": [],
   "source": [
    "wifi_data.sigmf_obj.validate()"
   ]
  },
  {
   "cell_type": "code",
   "execution_count": null,
   "id": "f028a726-4fa5-487e-99b5-7b891d55e62b",
   "metadata": {},
   "outputs": [],
   "source": [
    "idx = wifi_label_utils.power_squelch(wifi_samples, threshold=-56, window=256)"
   ]
  },
  {
   "cell_type": "code",
   "execution_count": null,
   "id": "8220ff72-6bf0-4c6a-839e-41587862a7b0",
   "metadata": {
    "scrolled": true
   },
   "outputs": [],
   "source": [
    "wifi_data.sigmf_obj._metadata[wifi_data.sigmf_obj.ANNOTATION_KEY] = []\n",
    "for start,stop in idx:\n",
    "    start, stop = int(start), int(stop)\n",
    "    metadata = {\n",
    "        \"core:label\": \"anom_wifi\",\n",
    "        \"core:freq_lower_edge\": wifi_data.metadata[\"captures\"][0][\"core:frequency\"] - wifi_data.metadata[\"global\"][\"core:sample_rate\"]/2,\n",
    "        \"core:freq_upper_edge\": wifi_data.metadata[\"captures\"][0][\"core:frequency\"] + wifi_data.metadata[\"global\"][\"core:sample_rate\"]/2,\n",
    "    }\n",
    "    wifi_data.sigmf_obj.add_annotation(start, length=stop-start, metadata=metadata)\n"
   ]
  },
  {
   "cell_type": "code",
   "execution_count": null,
   "id": "6a4d2d2c-e099-4c22-b64a-2286d023438c",
   "metadata": {},
   "outputs": [],
   "source": [
    "\n",
    "#wifi_data.sigmf_obj.set_global_field(wifi_data.sigmf_obj.VERSION_KEY, \"1.0.0\")\n",
    "wifi_data.sigmf_obj.tofile(wifi_data.sigmf_meta_filename)"
   ]
  },
  {
   "cell_type": "code",
   "execution_count": null,
   "id": "3352750f-5478-4d2d-885c-b34200a8935c",
   "metadata": {
    "scrolled": true
   },
   "outputs": [],
   "source": [
    "wifi_data.sigmf_obj"
   ]
  },
  {
   "cell_type": "code",
   "execution_count": 15,
   "id": "9e6a5106-6c24-4d4a-8354-4da7f7032b03",
   "metadata": {},
   "outputs": [
    {
     "data": {
      "text/plain": [
       "2048.0"
      ]
     },
     "execution_count": 15,
     "metadata": {},
     "output_type": "execute_result"
    }
   ],
   "source": [
    "20480000 * 0.0001"
   ]
  },
  {
   "cell_type": "code",
   "execution_count": 13,
   "id": "6be9431d-1eb2-4211-891d-928103276f3b",
   "metadata": {},
   "outputs": [
    {
     "data": {
      "text/plain": [
       "0.001"
      ]
     },
     "execution_count": 13,
     "metadata": {},
     "output_type": "execute_result"
    }
   ],
   "source": [
    "1/1000"
   ]
  },
  {
   "cell_type": "code",
   "execution_count": null,
   "id": "9b266293-7f34-4d08-8146-047d4f500e3e",
   "metadata": {},
   "outputs": [],
   "source": []
  }
 ],
 "metadata": {
  "kernelspec": {
   "display_name": "Python 3 (ipykernel)",
   "language": "python",
   "name": "python3"
  },
  "language_info": {
   "codemirror_mode": {
    "name": "ipython",
    "version": 3
   },
   "file_extension": ".py",
   "mimetype": "text/x-python",
   "name": "python",
   "nbconvert_exporter": "python",
   "pygments_lexer": "ipython3",
   "version": "3.10.4"
  }
 },
 "nbformat": 4,
 "nbformat_minor": 5
}
