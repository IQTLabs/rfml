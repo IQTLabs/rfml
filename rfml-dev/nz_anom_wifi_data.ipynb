{
 "cells": [
  {
   "cell_type": "code",
   "execution_count": 1,
   "id": "12915353-cdc6-4878-9bc5-67b94ac61976",
   "metadata": {},
   "outputs": [],
   "source": [
    "import glob\n",
    "\n",
    "import matplotlib.pyplot as plt\n",
    "import numpy as np\n",
    "\n",
    "from tqdm import tqdm\n",
    "\n",
    "import data\n",
    "import wifi_label_utils"
   ]
  },
  {
   "cell_type": "markdown",
   "id": "c26dadce-66a3-48a2-8116-08459985f1fc",
   "metadata": {},
   "source": [
    "# Examine using one file "
   ]
  },
  {
   "cell_type": "code",
   "execution_count": 2,
   "id": "9e3e6616-260b-488c-ae39-f4b29920a0c5",
   "metadata": {},
   "outputs": [
    {
     "name": "stdout",
     "output_type": "stream",
     "text": [
      "\n",
      "Loaded \n",
      " Data file: data/gamutrf/gamutrf-nz-anon-wifi/anomwifi-encoding-0-sendsps-5000000.s16.zst.sigmf-data \n",
      " SigMF-Meta file: data/gamutrf/gamutrf-nz-anon-wifi/anomwifi-encoding-0-sendsps-5000000.s16.zst.sigmf-meta\n",
      "\n"
     ]
    },
    {
     "name": "stderr",
     "output_type": "stream",
     "text": [
      "/home/ltindall/.pyenv/versions/3.10.9/envs/rfml-dev/lib/python3.10/site-packages/sigmf/sigmffile.py:914: UserWarning: Compliant Dataset `data/gamutrf/gamutrf-nz-anon-wifi/anomwifi-encoding-0-sendsps-5000000.s16.zst.sigmf-data` exists but \"core:dataset\" is also defined; using `data/gamutrf/gamutrf-nz-anon-wifi/anomwifi-encoding-0-sendsps-5000000.s16.zst.sigmf-data`\n",
      "  warnings.warn(f'Compliant Dataset `{compliant_data_fn}` exists but '\n"
     ]
    },
    {
     "data": {
      "image/png": "[encoded data removed]",
      "text/plain": [
       "<Figure size 640x480 with 1 Axes>"
      ]
     },
     "metadata": {},
     "output_type": "display_data"
    }
   ],
   "source": [
    "filename = \"data/gamutrf/gamutrf-nz-anon-wifi/anomwifi-encoding-0-sendsps-5000000.s16.zst.sigmf-meta\"\n",
    "data_obj = data.Data(filename)\n",
    "iq_samples = data_obj.get_samples()\n",
    "\n",
    "avg_window_len = 256\n",
    "\n",
    "# To debug or determine threshold \n",
    "avg_pwr = wifi_label_utils.moving_average(iq_samples, avg_window_len)\n",
    "avg_pwr_db = 10*np.log10(avg_pwr)\n",
    "plt.figure()\n",
    "plt.plot(avg_pwr_db[:int(2*20480000e-2)])\n",
    "plt.show()\n",
    "\n",
    "# determine threshold from examing plot \n",
    "threshold = -56\n",
    "\n",
    "wifi_label_utils.annotate_power_squelch(data_obj, threshold, avg_window_len)"
   ]
  },
  {
   "cell_type": "markdown",
   "id": "37bbc292-adf4-40f6-b4a3-21ab4dd355b5",
   "metadata": {},
   "source": [
    "# Batch labelling "
   ]
  },
  {
   "cell_type": "code",
   "execution_count": 3,
   "id": "7bce4de9-f50a-4226-976f-e67413951166",
   "metadata": {},
   "outputs": [
    {
     "name": "stderr",
     "output_type": "stream",
     "text": [
      "  0%|                                                                                    | 0/26 [00:00<?, ?it/s]"
     ]
    },
    {
     "name": "stdout",
     "output_type": "stream",
     "text": [
      "Converting data/gamutrf/gamutrf-nz-anon-wifi/anomwifi-encoding-1-sendsps-10000000.s16.zst to data/gamutrf/gamutrf-nz-anon-wifi/anomwifi-encoding-1-sendsps-10000000.s16.zst.sigmf-data\n",
      "Saving data/gamutrf/gamutrf-nz-anon-wifi/anomwifi-encoding-1-sendsps-10000000.s16.zst.sigmf-meta\n",
      "\n",
      "\n",
      "Loaded \n",
      " Data file: data/gamutrf/gamutrf-nz-anon-wifi/anomwifi-encoding-1-sendsps-10000000.s16.zst.sigmf-data \n",
      " SigMF-Meta file: data/gamutrf/gamutrf-nz-anon-wifi/anomwifi-encoding-1-sendsps-10000000.s16.zst.sigmf-meta\n",
      "\n"
     ]
    },
    {
     "name": "stderr",
     "output_type": "stream",
     "text": [
      "/home/ltindall/.pyenv/versions/3.10.9/envs/rfml-dev/lib/python3.10/site-packages/sigmf/sigmffile.py:914: UserWarning: Compliant Dataset `data/gamutrf/gamutrf-nz-anon-wifi/anomwifi-encoding-1-sendsps-10000000.s16.zst.sigmf-data` exists but \"core:dataset\" is also defined; using `data/gamutrf/gamutrf-nz-anon-wifi/anomwifi-encoding-1-sendsps-10000000.s16.zst.sigmf-data`\n",
      "  warnings.warn(f'Compliant Dataset `{compliant_data_fn}` exists but '\n",
      "  4%|██▉                                                                         | 1/26 [00:24<10:16, 24.68s/it]"
     ]
    },
    {
     "name": "stdout",
     "output_type": "stream",
     "text": [
      "Converting data/gamutrf/gamutrf-nz-anon-wifi/anomwifi-encoding-5-sendsps-5000000.s16.zst to data/gamutrf/gamutrf-nz-anon-wifi/anomwifi-encoding-5-sendsps-5000000.s16.zst.sigmf-data\n",
      "Saving data/gamutrf/gamutrf-nz-anon-wifi/anomwifi-encoding-5-sendsps-5000000.s16.zst.sigmf-meta\n",
      "\n",
      "\n",
      "Loaded \n",
      " Data file: data/gamutrf/gamutrf-nz-anon-wifi/anomwifi-encoding-5-sendsps-5000000.s16.zst.sigmf-data \n",
      " SigMF-Meta file: data/gamutrf/gamutrf-nz-anon-wifi/anomwifi-encoding-5-sendsps-5000000.s16.zst.sigmf-meta\n",
      "\n"
     ]
    },
    {
     "name": "stderr",
     "output_type": "stream",
     "text": [
      "/home/ltindall/.pyenv/versions/3.10.9/envs/rfml-dev/lib/python3.10/site-packages/sigmf/sigmffile.py:914: UserWarning: Compliant Dataset `data/gamutrf/gamutrf-nz-anon-wifi/anomwifi-encoding-5-sendsps-5000000.s16.zst.sigmf-data` exists but \"core:dataset\" is also defined; using `data/gamutrf/gamutrf-nz-anon-wifi/anomwifi-encoding-5-sendsps-5000000.s16.zst.sigmf-data`\n",
      "  warnings.warn(f'Compliant Dataset `{compliant_data_fn}` exists but '\n",
      "  8%|█████▊                                                                      | 2/26 [00:49<09:59, 24.97s/it]"
     ]
    },
    {
     "name": "stdout",
     "output_type": "stream",
     "text": [
      "Converting data/gamutrf/gamutrf-nz-anon-wifi/anomwifi-encoding-2-sendsps-20000000.s16.zst to data/gamutrf/gamutrf-nz-anon-wifi/anomwifi-encoding-2-sendsps-20000000.s16.zst.sigmf-data\n",
      "Saving data/gamutrf/gamutrf-nz-anon-wifi/anomwifi-encoding-2-sendsps-20000000.s16.zst.sigmf-meta\n",
      "\n",
      "\n",
      "Loaded \n",
      " Data file: data/gamutrf/gamutrf-nz-anon-wifi/anomwifi-encoding-2-sendsps-20000000.s16.zst.sigmf-data \n",
      " SigMF-Meta file: data/gamutrf/gamutrf-nz-anon-wifi/anomwifi-encoding-2-sendsps-20000000.s16.zst.sigmf-meta\n",
      "\n"
     ]
    },
    {
     "name": "stderr",
     "output_type": "stream",
     "text": [
      "/home/ltindall/.pyenv/versions/3.10.9/envs/rfml-dev/lib/python3.10/site-packages/sigmf/sigmffile.py:914: UserWarning: Compliant Dataset `data/gamutrf/gamutrf-nz-anon-wifi/anomwifi-encoding-2-sendsps-20000000.s16.zst.sigmf-data` exists but \"core:dataset\" is also defined; using `data/gamutrf/gamutrf-nz-anon-wifi/anomwifi-encoding-2-sendsps-20000000.s16.zst.sigmf-data`\n",
      "  warnings.warn(f'Compliant Dataset `{compliant_data_fn}` exists but '\n",
      " 12%|████████▊                                                                   | 3/26 [01:15<09:38, 25.16s/it]"
     ]
    },
    {
     "name": "stdout",
     "output_type": "stream",
     "text": [
      "Converting data/gamutrf/gamutrf-nz-anon-wifi/anomwifi-encoding-7-sendsps-10000000.s16.zst to data/gamutrf/gamutrf-nz-anon-wifi/anomwifi-encoding-7-sendsps-10000000.s16.zst.sigmf-data\n",
      "Saving data/gamutrf/gamutrf-nz-anon-wifi/anomwifi-encoding-7-sendsps-10000000.s16.zst.sigmf-meta\n",
      "\n",
      "\n",
      "Loaded \n",
      " Data file: data/gamutrf/gamutrf-nz-anon-wifi/anomwifi-encoding-7-sendsps-10000000.s16.zst.sigmf-data \n",
      " SigMF-Meta file: data/gamutrf/gamutrf-nz-anon-wifi/anomwifi-encoding-7-sendsps-10000000.s16.zst.sigmf-meta\n",
      "\n"
     ]
    },
    {
     "name": "stderr",
     "output_type": "stream",
     "text": [
      "/home/ltindall/.pyenv/versions/3.10.9/envs/rfml-dev/lib/python3.10/site-packages/sigmf/sigmffile.py:914: UserWarning: Compliant Dataset `data/gamutrf/gamutrf-nz-anon-wifi/anomwifi-encoding-7-sendsps-10000000.s16.zst.sigmf-data` exists but \"core:dataset\" is also defined; using `data/gamutrf/gamutrf-nz-anon-wifi/anomwifi-encoding-7-sendsps-10000000.s16.zst.sigmf-data`\n",
      "  warnings.warn(f'Compliant Dataset `{compliant_data_fn}` exists but '\n",
      " 15%|███████████▋                                                                | 4/26 [01:39<09:03, 24.72s/it]"
     ]
    },
    {
     "name": "stdout",
     "output_type": "stream",
     "text": [
      "Converting data/gamutrf/gamutrf-nz-anon-wifi/anomwifi-encoding-3-sendsps-5000000.s16.zst to data/gamutrf/gamutrf-nz-anon-wifi/anomwifi-encoding-3-sendsps-5000000.s16.zst.sigmf-data\n",
      "Saving data/gamutrf/gamutrf-nz-anon-wifi/anomwifi-encoding-3-sendsps-5000000.s16.zst.sigmf-meta\n",
      "\n",
      "\n",
      "Loaded \n",
      " Data file: data/gamutrf/gamutrf-nz-anon-wifi/anomwifi-encoding-3-sendsps-5000000.s16.zst.sigmf-data \n",
      " SigMF-Meta file: data/gamutrf/gamutrf-nz-anon-wifi/anomwifi-encoding-3-sendsps-5000000.s16.zst.sigmf-meta\n",
      "\n"
     ]
    },
    {
     "name": "stderr",
     "output_type": "stream",
     "text": [
      "/home/ltindall/.pyenv/versions/3.10.9/envs/rfml-dev/lib/python3.10/site-packages/sigmf/sigmffile.py:914: UserWarning: Compliant Dataset `data/gamutrf/gamutrf-nz-anon-wifi/anomwifi-encoding-3-sendsps-5000000.s16.zst.sigmf-data` exists but \"core:dataset\" is also defined; using `data/gamutrf/gamutrf-nz-anon-wifi/anomwifi-encoding-3-sendsps-5000000.s16.zst.sigmf-data`\n",
      "  warnings.warn(f'Compliant Dataset `{compliant_data_fn}` exists but '\n",
      " 19%|██████████████▌                                                             | 5/26 [02:03<08:36, 24.59s/it]"
     ]
    },
    {
     "name": "stdout",
     "output_type": "stream",
     "text": [
      "Converting data/gamutrf/gamutrf-nz-anon-wifi/anomwifi-encoding-4-sendsps-10000000.s16.zst to data/gamutrf/gamutrf-nz-anon-wifi/anomwifi-encoding-4-sendsps-10000000.s16.zst.sigmf-data\n",
      "Saving data/gamutrf/gamutrf-nz-anon-wifi/anomwifi-encoding-4-sendsps-10000000.s16.zst.sigmf-meta\n",
      "\n",
      "\n",
      "Loaded \n",
      " Data file: data/gamutrf/gamutrf-nz-anon-wifi/anomwifi-encoding-4-sendsps-10000000.s16.zst.sigmf-data \n",
      " SigMF-Meta file: data/gamutrf/gamutrf-nz-anon-wifi/anomwifi-encoding-4-sendsps-10000000.s16.zst.sigmf-meta\n",
      "\n"
     ]
    },
    {
     "name": "stderr",
     "output_type": "stream",
     "text": [
      "/home/ltindall/.pyenv/versions/3.10.9/envs/rfml-dev/lib/python3.10/site-packages/sigmf/sigmffile.py:914: UserWarning: Compliant Dataset `data/gamutrf/gamutrf-nz-anon-wifi/anomwifi-encoding-4-sendsps-10000000.s16.zst.sigmf-data` exists but \"core:dataset\" is also defined; using `data/gamutrf/gamutrf-nz-anon-wifi/anomwifi-encoding-4-sendsps-10000000.s16.zst.sigmf-data`\n",
      "  warnings.warn(f'Compliant Dataset `{compliant_data_fn}` exists but '\n",
      " 23%|█████████████████▌                                                          | 6/26 [02:28<08:14, 24.72s/it]"
     ]
    },
    {
     "name": "stdout",
     "output_type": "stream",
     "text": [
      "Converting data/gamutrf/gamutrf-nz-anon-wifi/anomwifi-encoding-6-sendsps-20000000.s16.zst to data/gamutrf/gamutrf-nz-anon-wifi/anomwifi-encoding-6-sendsps-20000000.s16.zst.sigmf-data\n",
      "Saving data/gamutrf/gamutrf-nz-anon-wifi/anomwifi-encoding-6-sendsps-20000000.s16.zst.sigmf-meta\n",
      "\n",
      "\n",
      "Loaded \n",
      " Data file: data/gamutrf/gamutrf-nz-anon-wifi/anomwifi-encoding-6-sendsps-20000000.s16.zst.sigmf-data \n",
      " SigMF-Meta file: data/gamutrf/gamutrf-nz-anon-wifi/anomwifi-encoding-6-sendsps-20000000.s16.zst.sigmf-meta\n",
      "\n"
     ]
    },
    {
     "name": "stderr",
     "output_type": "stream",
     "text": [
      "/home/ltindall/.pyenv/versions/3.10.9/envs/rfml-dev/lib/python3.10/site-packages/sigmf/sigmffile.py:914: UserWarning: Compliant Dataset `data/gamutrf/gamutrf-nz-anon-wifi/anomwifi-encoding-6-sendsps-20000000.s16.zst.sigmf-data` exists but \"core:dataset\" is also defined; using `data/gamutrf/gamutrf-nz-anon-wifi/anomwifi-encoding-6-sendsps-20000000.s16.zst.sigmf-data`\n",
      "  warnings.warn(f'Compliant Dataset `{compliant_data_fn}` exists but '\n",
      " 27%|████████████████████▍                                                       | 7/26 [02:53<07:48, 24.68s/it]"
     ]
    },
    {
     "name": "stdout",
     "output_type": "stream",
     "text": [
      "Converting data/gamutrf/gamutrf-nz-anon-wifi/anomwifi-encoding-3-sendsps-10000000.s16.zst to data/gamutrf/gamutrf-nz-anon-wifi/anomwifi-encoding-3-sendsps-10000000.s16.zst.sigmf-data\n",
      "Saving data/gamutrf/gamutrf-nz-anon-wifi/anomwifi-encoding-3-sendsps-10000000.s16.zst.sigmf-meta\n",
      "\n",
      "\n",
      "Loaded \n",
      " Data file: data/gamutrf/gamutrf-nz-anon-wifi/anomwifi-encoding-3-sendsps-10000000.s16.zst.sigmf-data \n",
      " SigMF-Meta file: data/gamutrf/gamutrf-nz-anon-wifi/anomwifi-encoding-3-sendsps-10000000.s16.zst.sigmf-meta\n",
      "\n"
     ]
    },
    {
     "name": "stderr",
     "output_type": "stream",
     "text": [
      "/home/ltindall/.pyenv/versions/3.10.9/envs/rfml-dev/lib/python3.10/site-packages/sigmf/sigmffile.py:914: UserWarning: Compliant Dataset `data/gamutrf/gamutrf-nz-anon-wifi/anomwifi-encoding-3-sendsps-10000000.s16.zst.sigmf-data` exists but \"core:dataset\" is also defined; using `data/gamutrf/gamutrf-nz-anon-wifi/anomwifi-encoding-3-sendsps-10000000.s16.zst.sigmf-data`\n",
      "  warnings.warn(f'Compliant Dataset `{compliant_data_fn}` exists but '\n",
      " 31%|███████████████████████▍                                                    | 8/26 [03:17<07:23, 24.65s/it]/home/ltindall/.pyenv/versions/3.10.9/envs/rfml-dev/lib/python3.10/site-packages/sigmf/sigmffile.py:914: UserWarning: Compliant Dataset `data/gamutrf/gamutrf-nz-anon-wifi/anomwifi-encoding-0-sendsps-20000000.s16.zst.sigmf-data` exists but \"core:dataset\" is also defined; using `data/gamutrf/gamutrf-nz-anon-wifi/anomwifi-encoding-0-sendsps-20000000.s16.zst.sigmf-data`\n",
      "  warnings.warn(f'Compliant Dataset `{compliant_data_fn}` exists but '\n"
     ]
    },
    {
     "name": "stdout",
     "output_type": "stream",
     "text": [
      "\n",
      "Loaded \n",
      " Data file: data/gamutrf/gamutrf-nz-anon-wifi/anomwifi-encoding-0-sendsps-20000000.s16.zst.sigmf-data \n",
      " SigMF-Meta file: data/gamutrf/gamutrf-nz-anon-wifi/anomwifi-encoding-0-sendsps-20000000.s16.zst.sigmf-meta\n",
      "\n"
     ]
    },
    {
     "name": "stderr",
     "output_type": "stream",
     "text": [
      " 35%|██████████████████████████▎                                                 | 9/26 [03:39<06:41, 23.64s/it]"
     ]
    },
    {
     "name": "stdout",
     "output_type": "stream",
     "text": [
      "Converting data/gamutrf/gamutrf-nz-anon-wifi/anomwifi-encoding-3-sendsps-20000000.s16.zst to data/gamutrf/gamutrf-nz-anon-wifi/anomwifi-encoding-3-sendsps-20000000.s16.zst.sigmf-data\n",
      "Saving data/gamutrf/gamutrf-nz-anon-wifi/anomwifi-encoding-3-sendsps-20000000.s16.zst.sigmf-meta\n",
      "\n",
      "\n",
      "Loaded \n",
      " Data file: data/gamutrf/gamutrf-nz-anon-wifi/anomwifi-encoding-3-sendsps-20000000.s16.zst.sigmf-data \n",
      " SigMF-Meta file: data/gamutrf/gamutrf-nz-anon-wifi/anomwifi-encoding-3-sendsps-20000000.s16.zst.sigmf-meta\n",
      "\n"
     ]
    },
    {
     "name": "stderr",
     "output_type": "stream",
     "text": [
      "/home/ltindall/.pyenv/versions/3.10.9/envs/rfml-dev/lib/python3.10/site-packages/sigmf/sigmffile.py:914: UserWarning: Compliant Dataset `data/gamutrf/gamutrf-nz-anon-wifi/anomwifi-encoding-3-sendsps-20000000.s16.zst.sigmf-data` exists but \"core:dataset\" is also defined; using `data/gamutrf/gamutrf-nz-anon-wifi/anomwifi-encoding-3-sendsps-20000000.s16.zst.sigmf-data`\n",
      "  warnings.warn(f'Compliant Dataset `{compliant_data_fn}` exists but '\n",
      " 38%|████████████████████████████▊                                              | 10/26 [04:04<06:25, 24.09s/it]"
     ]
    },
    {
     "name": "stdout",
     "output_type": "stream",
     "text": [
      "Converting data/gamutrf/gamutrf-nz-anon-wifi/anomwifi-encoding-5-sendsps-10000000.s16.zst to data/gamutrf/gamutrf-nz-anon-wifi/anomwifi-encoding-5-sendsps-10000000.s16.zst.sigmf-data\n",
      "Saving data/gamutrf/gamutrf-nz-anon-wifi/anomwifi-encoding-5-sendsps-10000000.s16.zst.sigmf-meta\n",
      "\n",
      "\n",
      "Loaded \n",
      " Data file: data/gamutrf/gamutrf-nz-anon-wifi/anomwifi-encoding-5-sendsps-10000000.s16.zst.sigmf-data \n",
      " SigMF-Meta file: data/gamutrf/gamutrf-nz-anon-wifi/anomwifi-encoding-5-sendsps-10000000.s16.zst.sigmf-meta\n",
      "\n"
     ]
    },
    {
     "name": "stderr",
     "output_type": "stream",
     "text": [
      "/home/ltindall/.pyenv/versions/3.10.9/envs/rfml-dev/lib/python3.10/site-packages/sigmf/sigmffile.py:914: UserWarning: Compliant Dataset `data/gamutrf/gamutrf-nz-anon-wifi/anomwifi-encoding-5-sendsps-10000000.s16.zst.sigmf-data` exists but \"core:dataset\" is also defined; using `data/gamutrf/gamutrf-nz-anon-wifi/anomwifi-encoding-5-sendsps-10000000.s16.zst.sigmf-data`\n",
      "  warnings.warn(f'Compliant Dataset `{compliant_data_fn}` exists but '\n",
      " 42%|███████████████████████████████▋                                           | 11/26 [04:29<06:04, 24.30s/it]"
     ]
    },
    {
     "name": "stdout",
     "output_type": "stream",
     "text": [
      "Converting data/gamutrf/gamutrf-nz-anon-wifi/anomwifi-encoding-2-sendsps-5000000.s16.zst to data/gamutrf/gamutrf-nz-anon-wifi/anomwifi-encoding-2-sendsps-5000000.s16.zst.sigmf-data\n",
      "Saving data/gamutrf/gamutrf-nz-anon-wifi/anomwifi-encoding-2-sendsps-5000000.s16.zst.sigmf-meta\n",
      "\n",
      "\n",
      "Loaded \n",
      " Data file: data/gamutrf/gamutrf-nz-anon-wifi/anomwifi-encoding-2-sendsps-5000000.s16.zst.sigmf-data \n",
      " SigMF-Meta file: data/gamutrf/gamutrf-nz-anon-wifi/anomwifi-encoding-2-sendsps-5000000.s16.zst.sigmf-meta\n",
      "\n"
     ]
    },
    {
     "name": "stderr",
     "output_type": "stream",
     "text": [
      "/home/ltindall/.pyenv/versions/3.10.9/envs/rfml-dev/lib/python3.10/site-packages/sigmf/sigmffile.py:914: UserWarning: Compliant Dataset `data/gamutrf/gamutrf-nz-anon-wifi/anomwifi-encoding-2-sendsps-5000000.s16.zst.sigmf-data` exists but \"core:dataset\" is also defined; using `data/gamutrf/gamutrf-nz-anon-wifi/anomwifi-encoding-2-sendsps-5000000.s16.zst.sigmf-data`\n",
      "  warnings.warn(f'Compliant Dataset `{compliant_data_fn}` exists but '\n",
      " 46%|██████████████████████████████████▌                                        | 12/26 [04:52<05:38, 24.17s/it]"
     ]
    },
    {
     "name": "stdout",
     "output_type": "stream",
     "text": [
      "Converting data/gamutrf/gamutrf-nz-anon-wifi/anomwifi-encoding-5-sendsps-20000000.s16.zst to data/gamutrf/gamutrf-nz-anon-wifi/anomwifi-encoding-5-sendsps-20000000.s16.zst.sigmf-data\n",
      "Saving data/gamutrf/gamutrf-nz-anon-wifi/anomwifi-encoding-5-sendsps-20000000.s16.zst.sigmf-meta\n",
      "\n",
      "\n",
      "Loaded \n",
      " Data file: data/gamutrf/gamutrf-nz-anon-wifi/anomwifi-encoding-5-sendsps-20000000.s16.zst.sigmf-data \n",
      " SigMF-Meta file: data/gamutrf/gamutrf-nz-anon-wifi/anomwifi-encoding-5-sendsps-20000000.s16.zst.sigmf-meta\n",
      "\n"
     ]
    },
    {
     "name": "stderr",
     "output_type": "stream",
     "text": [
      "/home/ltindall/.pyenv/versions/3.10.9/envs/rfml-dev/lib/python3.10/site-packages/sigmf/sigmffile.py:914: UserWarning: Compliant Dataset `data/gamutrf/gamutrf-nz-anon-wifi/anomwifi-encoding-5-sendsps-20000000.s16.zst.sigmf-data` exists but \"core:dataset\" is also defined; using `data/gamutrf/gamutrf-nz-anon-wifi/anomwifi-encoding-5-sendsps-20000000.s16.zst.sigmf-data`\n",
      "  warnings.warn(f'Compliant Dataset `{compliant_data_fn}` exists but '\n",
      " 50%|█████████████████████████████████████▌                                     | 13/26 [05:16<05:11, 23.94s/it]/home/ltindall/.pyenv/versions/3.10.9/envs/rfml-dev/lib/python3.10/site-packages/sigmf/sigmffile.py:914: UserWarning: Compliant Dataset `data/gamutrf/gamutrf-nz-anon-wifi/anomwifi-encoding-0-sendsps-10000000.s16.zst.sigmf-data` exists but \"core:dataset\" is also defined; using `data/gamutrf/gamutrf-nz-anon-wifi/anomwifi-encoding-0-sendsps-10000000.s16.zst.sigmf-data`\n",
      "  warnings.warn(f'Compliant Dataset `{compliant_data_fn}` exists but '\n"
     ]
    },
    {
     "name": "stdout",
     "output_type": "stream",
     "text": [
      "\n",
      "Loaded \n",
      " Data file: data/gamutrf/gamutrf-nz-anon-wifi/anomwifi-encoding-0-sendsps-10000000.s16.zst.sigmf-data \n",
      " SigMF-Meta file: data/gamutrf/gamutrf-nz-anon-wifi/anomwifi-encoding-0-sendsps-10000000.s16.zst.sigmf-meta\n",
      "\n"
     ]
    },
    {
     "name": "stderr",
     "output_type": "stream",
     "text": [
      " 54%|████████████████████████████████████████▍                                  | 14/26 [05:36<04:34, 22.88s/it]"
     ]
    },
    {
     "name": "stdout",
     "output_type": "stream",
     "text": [
      "Converting data/gamutrf/gamutrf-nz-anon-wifi/anomwifi-encoding-4-sendsps-20000000.s16.zst to data/gamutrf/gamutrf-nz-anon-wifi/anomwifi-encoding-4-sendsps-20000000.s16.zst.sigmf-data\n",
      "Saving data/gamutrf/gamutrf-nz-anon-wifi/anomwifi-encoding-4-sendsps-20000000.s16.zst.sigmf-meta\n",
      "\n",
      "\n",
      "Loaded \n",
      " Data file: data/gamutrf/gamutrf-nz-anon-wifi/anomwifi-encoding-4-sendsps-20000000.s16.zst.sigmf-data \n",
      " SigMF-Meta file: data/gamutrf/gamutrf-nz-anon-wifi/anomwifi-encoding-4-sendsps-20000000.s16.zst.sigmf-meta\n",
      "\n"
     ]
    },
    {
     "name": "stderr",
     "output_type": "stream",
     "text": [
      "/home/ltindall/.pyenv/versions/3.10.9/envs/rfml-dev/lib/python3.10/site-packages/sigmf/sigmffile.py:914: UserWarning: Compliant Dataset `data/gamutrf/gamutrf-nz-anon-wifi/anomwifi-encoding-4-sendsps-20000000.s16.zst.sigmf-data` exists but \"core:dataset\" is also defined; using `data/gamutrf/gamutrf-nz-anon-wifi/anomwifi-encoding-4-sendsps-20000000.s16.zst.sigmf-data`\n",
      "  warnings.warn(f'Compliant Dataset `{compliant_data_fn}` exists but '\n",
      " 58%|███████████████████████████████████████████▎                               | 15/26 [06:01<04:17, 23.43s/it]"
     ]
    },
    {
     "name": "stdout",
     "output_type": "stream",
     "text": [
      "Converting data/gamutrf/gamutrf-nz-anon-wifi/anomwifi-encoding-6-sendsps-5000000.s16.zst to data/gamutrf/gamutrf-nz-anon-wifi/anomwifi-encoding-6-sendsps-5000000.s16.zst.sigmf-data\n",
      "Saving data/gamutrf/gamutrf-nz-anon-wifi/anomwifi-encoding-6-sendsps-5000000.s16.zst.sigmf-meta\n",
      "\n",
      "\n",
      "Loaded \n",
      " Data file: data/gamutrf/gamutrf-nz-anon-wifi/anomwifi-encoding-6-sendsps-5000000.s16.zst.sigmf-data \n",
      " SigMF-Meta file: data/gamutrf/gamutrf-nz-anon-wifi/anomwifi-encoding-6-sendsps-5000000.s16.zst.sigmf-meta\n",
      "\n"
     ]
    },
    {
     "name": "stderr",
     "output_type": "stream",
     "text": [
      "/home/ltindall/.pyenv/versions/3.10.9/envs/rfml-dev/lib/python3.10/site-packages/sigmf/sigmffile.py:914: UserWarning: Compliant Dataset `data/gamutrf/gamutrf-nz-anon-wifi/anomwifi-encoding-6-sendsps-5000000.s16.zst.sigmf-data` exists but \"core:dataset\" is also defined; using `data/gamutrf/gamutrf-nz-anon-wifi/anomwifi-encoding-6-sendsps-5000000.s16.zst.sigmf-data`\n",
      "  warnings.warn(f'Compliant Dataset `{compliant_data_fn}` exists but '\n",
      " 62%|██████████████████████████████████████████████▏                            | 16/26 [06:24<03:54, 23.42s/it]"
     ]
    },
    {
     "name": "stdout",
     "output_type": "stream",
     "text": [
      "Converting data/gamutrf/gamutrf-nz-anon-wifi/anomwifi-encoding-6-sendsps-10000000.s16.zst to data/gamutrf/gamutrf-nz-anon-wifi/anomwifi-encoding-6-sendsps-10000000.s16.zst.sigmf-data\n",
      "Saving data/gamutrf/gamutrf-nz-anon-wifi/anomwifi-encoding-6-sendsps-10000000.s16.zst.sigmf-meta\n",
      "\n",
      "\n",
      "Loaded \n",
      " Data file: data/gamutrf/gamutrf-nz-anon-wifi/anomwifi-encoding-6-sendsps-10000000.s16.zst.sigmf-data \n",
      " SigMF-Meta file: data/gamutrf/gamutrf-nz-anon-wifi/anomwifi-encoding-6-sendsps-10000000.s16.zst.sigmf-meta\n",
      "\n"
     ]
    },
    {
     "name": "stderr",
     "output_type": "stream",
     "text": [
      "/home/ltindall/.pyenv/versions/3.10.9/envs/rfml-dev/lib/python3.10/site-packages/sigmf/sigmffile.py:914: UserWarning: Compliant Dataset `data/gamutrf/gamutrf-nz-anon-wifi/anomwifi-encoding-6-sendsps-10000000.s16.zst.sigmf-data` exists but \"core:dataset\" is also defined; using `data/gamutrf/gamutrf-nz-anon-wifi/anomwifi-encoding-6-sendsps-10000000.s16.zst.sigmf-data`\n",
      "  warnings.warn(f'Compliant Dataset `{compliant_data_fn}` exists but '\n",
      " 65%|█████████████████████████████████████████████████                          | 17/26 [06:48<03:31, 23.52s/it]"
     ]
    },
    {
     "name": "stdout",
     "output_type": "stream",
     "text": [
      "Converting data/gamutrf/gamutrf-nz-anon-wifi/anomwifi-encoding-0.s16.zst to data/gamutrf/gamutrf-nz-anon-wifi/anomwifi-encoding-0.s16.zst.sigmf-data\n",
      "Saving data/gamutrf/gamutrf-nz-anon-wifi/anomwifi-encoding-0.s16.zst.sigmf-meta\n",
      "\n",
      "\n",
      "Loaded \n",
      " Data file: data/gamutrf/gamutrf-nz-anon-wifi/anomwifi-encoding-0.s16.zst.sigmf-data \n",
      " SigMF-Meta file: data/gamutrf/gamutrf-nz-anon-wifi/anomwifi-encoding-0.s16.zst.sigmf-meta\n",
      "\n"
     ]
    },
    {
     "name": "stderr",
     "output_type": "stream",
     "text": [
      "/home/ltindall/.pyenv/versions/3.10.9/envs/rfml-dev/lib/python3.10/site-packages/sigmf/sigmffile.py:914: UserWarning: Compliant Dataset `data/gamutrf/gamutrf-nz-anon-wifi/anomwifi-encoding-0.s16.zst.sigmf-data` exists but \"core:dataset\" is also defined; using `data/gamutrf/gamutrf-nz-anon-wifi/anomwifi-encoding-0.s16.zst.sigmf-data`\n",
      "  warnings.warn(f'Compliant Dataset `{compliant_data_fn}` exists but '\n",
      " 69%|███████████████████████████████████████████████████▉                       | 18/26 [07:12<03:08, 23.58s/it]"
     ]
    },
    {
     "name": "stdout",
     "output_type": "stream",
     "text": [
      "Converting data/gamutrf/gamutrf-nz-anon-wifi/anomwifi-encoding-4-sendsps-5000000.s16.zst to data/gamutrf/gamutrf-nz-anon-wifi/anomwifi-encoding-4-sendsps-5000000.s16.zst.sigmf-data\n",
      "Saving data/gamutrf/gamutrf-nz-anon-wifi/anomwifi-encoding-4-sendsps-5000000.s16.zst.sigmf-meta\n",
      "\n",
      "\n",
      "Loaded \n",
      " Data file: data/gamutrf/gamutrf-nz-anon-wifi/anomwifi-encoding-4-sendsps-5000000.s16.zst.sigmf-data \n",
      " SigMF-Meta file: data/gamutrf/gamutrf-nz-anon-wifi/anomwifi-encoding-4-sendsps-5000000.s16.zst.sigmf-meta\n",
      "\n"
     ]
    },
    {
     "name": "stderr",
     "output_type": "stream",
     "text": [
      "/home/ltindall/.pyenv/versions/3.10.9/envs/rfml-dev/lib/python3.10/site-packages/sigmf/sigmffile.py:914: UserWarning: Compliant Dataset `data/gamutrf/gamutrf-nz-anon-wifi/anomwifi-encoding-4-sendsps-5000000.s16.zst.sigmf-data` exists but \"core:dataset\" is also defined; using `data/gamutrf/gamutrf-nz-anon-wifi/anomwifi-encoding-4-sendsps-5000000.s16.zst.sigmf-data`\n",
      "  warnings.warn(f'Compliant Dataset `{compliant_data_fn}` exists but '\n",
      " 73%|██████████████████████████████████████████████████████▊                    | 19/26 [07:36<02:46, 23.85s/it]"
     ]
    },
    {
     "name": "stdout",
     "output_type": "stream",
     "text": [
      "Converting data/gamutrf/gamutrf-nz-anon-wifi/anomwifi-encoding-7-sendsps-5000000.s16.zst to data/gamutrf/gamutrf-nz-anon-wifi/anomwifi-encoding-7-sendsps-5000000.s16.zst.sigmf-data\n",
      "Saving data/gamutrf/gamutrf-nz-anon-wifi/anomwifi-encoding-7-sendsps-5000000.s16.zst.sigmf-meta\n",
      "\n",
      "\n",
      "Loaded \n",
      " Data file: data/gamutrf/gamutrf-nz-anon-wifi/anomwifi-encoding-7-sendsps-5000000.s16.zst.sigmf-data \n",
      " SigMF-Meta file: data/gamutrf/gamutrf-nz-anon-wifi/anomwifi-encoding-7-sendsps-5000000.s16.zst.sigmf-meta\n",
      "\n"
     ]
    },
    {
     "name": "stderr",
     "output_type": "stream",
     "text": [
      "/home/ltindall/.pyenv/versions/3.10.9/envs/rfml-dev/lib/python3.10/site-packages/sigmf/sigmffile.py:914: UserWarning: Compliant Dataset `data/gamutrf/gamutrf-nz-anon-wifi/anomwifi-encoding-7-sendsps-5000000.s16.zst.sigmf-data` exists but \"core:dataset\" is also defined; using `data/gamutrf/gamutrf-nz-anon-wifi/anomwifi-encoding-7-sendsps-5000000.s16.zst.sigmf-data`\n",
      "  warnings.warn(f'Compliant Dataset `{compliant_data_fn}` exists but '\n",
      " 77%|█████████████████████████████████████████████████████████▋                 | 20/26 [08:01<02:25, 24.21s/it]"
     ]
    },
    {
     "name": "stdout",
     "output_type": "stream",
     "text": [
      "Converting data/gamutrf/gamutrf-nz-anon-wifi/anomwifi-encoding-7-sendsps-20000000.s16.zst to data/gamutrf/gamutrf-nz-anon-wifi/anomwifi-encoding-7-sendsps-20000000.s16.zst.sigmf-data\n",
      "Saving data/gamutrf/gamutrf-nz-anon-wifi/anomwifi-encoding-7-sendsps-20000000.s16.zst.sigmf-meta\n",
      "\n",
      "\n",
      "Loaded \n",
      " Data file: data/gamutrf/gamutrf-nz-anon-wifi/anomwifi-encoding-7-sendsps-20000000.s16.zst.sigmf-data \n",
      " SigMF-Meta file: data/gamutrf/gamutrf-nz-anon-wifi/anomwifi-encoding-7-sendsps-20000000.s16.zst.sigmf-meta\n",
      "\n"
     ]
    },
    {
     "name": "stderr",
     "output_type": "stream",
     "text": [
      "/home/ltindall/.pyenv/versions/3.10.9/envs/rfml-dev/lib/python3.10/site-packages/sigmf/sigmffile.py:914: UserWarning: Compliant Dataset `data/gamutrf/gamutrf-nz-anon-wifi/anomwifi-encoding-7-sendsps-20000000.s16.zst.sigmf-data` exists but \"core:dataset\" is also defined; using `data/gamutrf/gamutrf-nz-anon-wifi/anomwifi-encoding-7-sendsps-20000000.s16.zst.sigmf-data`\n",
      "  warnings.warn(f'Compliant Dataset `{compliant_data_fn}` exists but '\n",
      " 81%|████████████████████████████████████████████████████████████▌              | 21/26 [08:27<02:02, 24.50s/it]"
     ]
    },
    {
     "name": "stdout",
     "output_type": "stream",
     "text": [
      "\n",
      "Loaded \n",
      " Data file: data/gamutrf/gamutrf-nz-anon-wifi/anomwifi-encoding-0-sendsps-5000000.s16.zst.sigmf-data \n",
      " SigMF-Meta file: data/gamutrf/gamutrf-nz-anon-wifi/anomwifi-encoding-0-sendsps-5000000.s16.zst.sigmf-meta\n",
      "\n"
     ]
    },
    {
     "name": "stderr",
     "output_type": "stream",
     "text": [
      " 85%|███████████████████████████████████████████████████████████████▍           | 22/26 [08:47<01:33, 23.36s/it]"
     ]
    },
    {
     "name": "stdout",
     "output_type": "stream",
     "text": [
      "Converting data/gamutrf/gamutrf-nz-anon-wifi/anomwifi-encoding-1.s16.zst to data/gamutrf/gamutrf-nz-anon-wifi/anomwifi-encoding-1.s16.zst.sigmf-data\n",
      "Saving data/gamutrf/gamutrf-nz-anon-wifi/anomwifi-encoding-1.s16.zst.sigmf-meta\n",
      "\n",
      "\n",
      "Loaded \n",
      " Data file: data/gamutrf/gamutrf-nz-anon-wifi/anomwifi-encoding-1.s16.zst.sigmf-data \n",
      " SigMF-Meta file: data/gamutrf/gamutrf-nz-anon-wifi/anomwifi-encoding-1.s16.zst.sigmf-meta\n",
      "\n"
     ]
    },
    {
     "name": "stderr",
     "output_type": "stream",
     "text": [
      "/home/ltindall/.pyenv/versions/3.10.9/envs/rfml-dev/lib/python3.10/site-packages/sigmf/sigmffile.py:914: UserWarning: Compliant Dataset `data/gamutrf/gamutrf-nz-anon-wifi/anomwifi-encoding-1.s16.zst.sigmf-data` exists but \"core:dataset\" is also defined; using `data/gamutrf/gamutrf-nz-anon-wifi/anomwifi-encoding-1.s16.zst.sigmf-data`\n",
      "  warnings.warn(f'Compliant Dataset `{compliant_data_fn}` exists but '\n",
      " 88%|██████████████████████████████████████████████████████████████████▎        | 23/26 [09:11<01:10, 23.40s/it]"
     ]
    },
    {
     "name": "stdout",
     "output_type": "stream",
     "text": [
      "Converting data/gamutrf/gamutrf-nz-anon-wifi/anomwifi-encoding-1-sendsps-20000000.s16.zst to data/gamutrf/gamutrf-nz-anon-wifi/anomwifi-encoding-1-sendsps-20000000.s16.zst.sigmf-data\n",
      "Saving data/gamutrf/gamutrf-nz-anon-wifi/anomwifi-encoding-1-sendsps-20000000.s16.zst.sigmf-meta\n",
      "\n",
      "\n",
      "Loaded \n",
      " Data file: data/gamutrf/gamutrf-nz-anon-wifi/anomwifi-encoding-1-sendsps-20000000.s16.zst.sigmf-data \n",
      " SigMF-Meta file: data/gamutrf/gamutrf-nz-anon-wifi/anomwifi-encoding-1-sendsps-20000000.s16.zst.sigmf-meta\n",
      "\n"
     ]
    },
    {
     "name": "stderr",
     "output_type": "stream",
     "text": [
      "/home/ltindall/.pyenv/versions/3.10.9/envs/rfml-dev/lib/python3.10/site-packages/sigmf/sigmffile.py:914: UserWarning: Compliant Dataset `data/gamutrf/gamutrf-nz-anon-wifi/anomwifi-encoding-1-sendsps-20000000.s16.zst.sigmf-data` exists but \"core:dataset\" is also defined; using `data/gamutrf/gamutrf-nz-anon-wifi/anomwifi-encoding-1-sendsps-20000000.s16.zst.sigmf-data`\n",
      "  warnings.warn(f'Compliant Dataset `{compliant_data_fn}` exists but '\n",
      " 92%|█████████████████████████████████████████████████████████████████████▏     | 24/26 [09:35<00:47, 23.50s/it]"
     ]
    },
    {
     "name": "stdout",
     "output_type": "stream",
     "text": [
      "Converting data/gamutrf/gamutrf-nz-anon-wifi/anomwifi-encoding-2-sendsps-10000000.s16.zst to data/gamutrf/gamutrf-nz-anon-wifi/anomwifi-encoding-2-sendsps-10000000.s16.zst.sigmf-data\n",
      "Saving data/gamutrf/gamutrf-nz-anon-wifi/anomwifi-encoding-2-sendsps-10000000.s16.zst.sigmf-meta\n",
      "\n",
      "\n",
      "Loaded \n",
      " Data file: data/gamutrf/gamutrf-nz-anon-wifi/anomwifi-encoding-2-sendsps-10000000.s16.zst.sigmf-data \n",
      " SigMF-Meta file: data/gamutrf/gamutrf-nz-anon-wifi/anomwifi-encoding-2-sendsps-10000000.s16.zst.sigmf-meta\n",
      "\n"
     ]
    },
    {
     "name": "stderr",
     "output_type": "stream",
     "text": [
      "/home/ltindall/.pyenv/versions/3.10.9/envs/rfml-dev/lib/python3.10/site-packages/sigmf/sigmffile.py:914: UserWarning: Compliant Dataset `data/gamutrf/gamutrf-nz-anon-wifi/anomwifi-encoding-2-sendsps-10000000.s16.zst.sigmf-data` exists but \"core:dataset\" is also defined; using `data/gamutrf/gamutrf-nz-anon-wifi/anomwifi-encoding-2-sendsps-10000000.s16.zst.sigmf-data`\n",
      "  warnings.warn(f'Compliant Dataset `{compliant_data_fn}` exists but '\n",
      " 96%|████████████████████████████████████████████████████████████████████████   | 25/26 [09:58<00:23, 23.53s/it]"
     ]
    },
    {
     "name": "stdout",
     "output_type": "stream",
     "text": [
      "Converting data/gamutrf/gamutrf-nz-anon-wifi/anomwifi-encoding-1-sendsps-5000000.s16.zst to data/gamutrf/gamutrf-nz-anon-wifi/anomwifi-encoding-1-sendsps-5000000.s16.zst.sigmf-data\n",
      "Saving data/gamutrf/gamutrf-nz-anon-wifi/anomwifi-encoding-1-sendsps-5000000.s16.zst.sigmf-meta\n",
      "\n",
      "\n",
      "Loaded \n",
      " Data file: data/gamutrf/gamutrf-nz-anon-wifi/anomwifi-encoding-1-sendsps-5000000.s16.zst.sigmf-data \n",
      " SigMF-Meta file: data/gamutrf/gamutrf-nz-anon-wifi/anomwifi-encoding-1-sendsps-5000000.s16.zst.sigmf-meta\n",
      "\n"
     ]
    },
    {
     "name": "stderr",
     "output_type": "stream",
     "text": [
      "/home/ltindall/.pyenv/versions/3.10.9/envs/rfml-dev/lib/python3.10/site-packages/sigmf/sigmffile.py:914: UserWarning: Compliant Dataset `data/gamutrf/gamutrf-nz-anon-wifi/anomwifi-encoding-1-sendsps-5000000.s16.zst.sigmf-data` exists but \"core:dataset\" is also defined; using `data/gamutrf/gamutrf-nz-anon-wifi/anomwifi-encoding-1-sendsps-5000000.s16.zst.sigmf-data`\n",
      "  warnings.warn(f'Compliant Dataset `{compliant_data_fn}` exists but '\n",
      "100%|███████████████████████████████████████████████████████████████████████████| 26/26 [10:22<00:00, 23.93s/it]\n"
     ]
    }
   ],
   "source": [
    "directory = \"data/gamutrf/gamutrf-nz-anon-wifi/\"\n",
    "\n",
    "for filename in tqdm(glob.glob(directory+\"*.sigmf-meta\")):\n",
    "    data_obj = data.Data(filename)\n",
    "    avg_window_len = 256\n",
    "    threshold = -56\n",
    "    wifi_label_utils.annotate_power_squelch(data_obj, threshold, avg_window_len)\n"
   ]
  },
  {
   "cell_type": "code",
   "execution_count": null,
   "id": "71632cb5-1843-48e2-8bd7-a1f7be6af41a",
   "metadata": {},
   "outputs": [],
   "source": []
  }
 ],
 "metadata": {
  "kernelspec": {
   "display_name": "Python 3 (ipykernel)",
   "language": "python",
   "name": "python3"
  },
  "language_info": {
   "codemirror_mode": {
    "name": "ipython",
    "version": 3
   },
   "file_extension": ".py",
   "mimetype": "text/x-python",
   "name": "python",
   "nbconvert_exporter": "python",
   "pygments_lexer": "ipython3",
   "version": "3.10.9"
  }
 },
 "nbformat": 4,
 "nbformat_minor": 5
}
