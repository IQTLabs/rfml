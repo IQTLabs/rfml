{
 "cells": [
  {
   "cell_type": "code",
   "execution_count": 1,
   "id": "12915353-cdc6-4878-9bc5-67b94ac61976",
   "metadata": {},
   "outputs": [],
   "source": [
    "import numpy as np\n",
    "import matplotlib.pyplot as plt\n",
    "import data\n",
    "import wifi_label_utils"
   ]
  },
  {
   "cell_type": "code",
   "execution_count": 2,
   "id": "cc4b6bd8-9895-4809-b6b3-b092aceaa1ed",
   "metadata": {},
   "outputs": [],
   "source": [
    "nz_anom_metadata_filename = \"data/anomwifi-encoding-0-sendsps-20000000.s16.zst.sigmf-meta\""
   ]
  },
  {
   "cell_type": "code",
   "execution_count": 3,
   "id": "9e3e6616-260b-488c-ae39-f4b29920a0c5",
   "metadata": {},
   "outputs": [
    {
     "name": "stdout",
     "output_type": "stream",
     "text": [
      "\n",
      "Loaded \n",
      " Data file: data/anomwifi-encoding-0-sendsps-20000000.s16.zst.sigmf-data \n",
      " SigMF-Meta file: data/anomwifi-encoding-0-sendsps-20000000.s16.zst.sigmf-meta\n",
      "\n"
     ]
    },
    {
     "name": "stderr",
     "output_type": "stream",
     "text": [
      "/Users/ltindall/.pyenv/versions/3.10.4/envs/gamutrf/lib/python3.10/site-packages/sigmf/sigmffile.py:876: UserWarning: Compliant Dataset `data/anomwifi-encoding-0-sendsps-20000000.s16.zst.sigmf-data` exists but \"core:dataset\" is also defined; using `data/anomwifi-encoding-0-sendsps-20000000.s16.zst.sigmf-data`\n",
      "  warnings.warn(f'Compliant Dataset `{compliant_data_fn}` exists but '\n"
     ]
    },
    {
     "name": "stdout",
     "output_type": "stream",
     "text": [
      "wifi_samples.shape=(409600000,)\n"
     ]
    }
   ],
   "source": [
    "wifi_data = data.Data(nz_anom_metadata_filename)\n",
    "\n",
    "#wifi_samples = wifi_data.get_samples(n_samples=int(wifi_data.metadata[\"global\"][\"core:sample_rate\"]*1))\n",
    "wifi_samples = wifi_data.get_samples()\n",
    "print(f\"{wifi_samples.shape=}\")\n",
    "\n",
    "wifi_avg_pwr = wifi_label_utils.moving_average(wifi_samples, 256)\n",
    "wifi_avg_pwr_db = 10*np.log10(wifi_avg_pwr)\n",
    "\n",
    "# plt.figure()\n",
    "# plt.plot(wifi_avg_pwr_db[:int(2*20480000e-2)])\n",
    "# plt.show()\n",
    "\n",
    "idx = wifi_label_utils.power_squelch(wifi_samples, threshold=-56, window=256)\n",
    "\n"
   ]
  },
  {
   "cell_type": "code",
   "execution_count": 4,
   "id": "8220ff72-6bf0-4c6a-839e-41587862a7b0",
   "metadata": {
    "scrolled": true
   },
   "outputs": [],
   "source": [
    "wifi_data.sigmf_obj._metadata[wifi_data.sigmf_obj.ANNOTATION_KEY] = []\n",
    "for start,stop in idx:\n",
    "    start, stop = int(start), int(stop)\n",
    "    metadata = {\n",
    "        \"core:label\": \"anom_wifi\",\n",
    "        \"core:freq_lower_edge\": wifi_data.metadata[\"captures\"][0][\"core:frequency\"] - wifi_data.metadata[\"global\"][\"core:sample_rate\"]/2,\n",
    "        \"core:freq_upper_edge\": wifi_data.metadata[\"captures\"][0][\"core:frequency\"] + wifi_data.metadata[\"global\"][\"core:sample_rate\"]/2,\n",
    "    }\n",
    "    wifi_data.sigmf_obj.add_annotation(start, length=stop-start, metadata=metadata)\n"
   ]
  },
  {
   "cell_type": "code",
   "execution_count": 5,
   "id": "6a4d2d2c-e099-4c22-b64a-2286d023438c",
   "metadata": {},
   "outputs": [],
   "source": [
    "wifi_data.sigmf_obj.tofile(wifi_data.sigmf_meta_filename)"
   ]
  },
  {
   "cell_type": "code",
   "execution_count": null,
   "id": "3352750f-5478-4d2d-885c-b34200a8935c",
   "metadata": {},
   "outputs": [],
   "source": []
  }
 ],
 "metadata": {
  "kernelspec": {
   "display_name": "Python 3 (ipykernel)",
   "language": "python",
   "name": "python3"
  },
  "language_info": {
   "codemirror_mode": {
    "name": "ipython",
    "version": 3
   },
   "file_extension": ".py",
   "mimetype": "text/x-python",
   "name": "python",
   "nbconvert_exporter": "python",
   "pygments_lexer": "ipython3",
   "version": "3.10.4"
  }
 },
 "nbformat": 4,
 "nbformat_minor": 5
}
