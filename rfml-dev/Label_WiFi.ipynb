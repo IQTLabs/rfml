{
 "cells": [
  {
   "cell_type": "code",
   "execution_count": null,
   "id": "e75609cf-9d59-48bc-8bee-c4921381c3c1",
   "metadata": {},
   "outputs": [],
   "source": [
    "import glob\n",
    "\n",
    "from pathlib import Path\n",
    "from tqdm import tqdm\n",
    "\n",
    "import annotation_utils"
   ]
  },
  {
   "cell_type": "code",
   "execution_count": null,
   "id": "02dc6048-5d4d-4cfb-b7b1-bdc44b968225",
   "metadata": {},
   "outputs": [],
   "source": [
    "s3_data = {\n",
    "    \"anom_wifi\": [\n",
    "        # \"data/gamutrf/gamutrf-nz-anon-wifi/*.sigmf-meta\",\n",
    "        \"data/gamutrf/gamutrf-wifi-and-anom-bladerf/anom*.sigmf-meta\"\n",
    "    ],\n",
    "    \"wifi\": [\n",
    "        # \"data/gamutrf/gamutrf-nz-nonanon-wifi/*.sigmf-meta\",\n",
    "        \"data/gamutrf/gamutrf-wifi-and-anom-bladerf/wifi*.sigmf-meta\",\n",
    "        # \"data/gamutrf/gamutrf-nz-wifi/*.sigmf-meta\",\n",
    "    ],\n",
    "}\n",
    "        "
   ]
  },
  {
   "cell_type": "code",
   "execution_count": null,
   "id": "f87bdbd6-85ed-48c3-9e1c-68ef7fb0ca49",
   "metadata": {
    "scrolled": true
   },
   "outputs": [],
   "source": [
    "for label in s3_data:\n",
    "    for data_glob in s3_data[label]:\n",
    "        for f in tqdm(glob.glob(str(Path(data_glob)))):\n",
    "            annotation_utils.annotate(f, label=label, avg_window_len=256, avg_duration=3, debug=True)"
   ]
  },
  {
   "cell_type": "code",
   "execution_count": null,
   "id": "470cac24-7cb4-4670-83a8-c93fe81c7962",
   "metadata": {},
   "outputs": [],
   "source": []
  },
  {
   "cell_type": "code",
   "execution_count": null,
   "id": "b61384c3-9b9b-4334-82a9-efb23cf4827d",
   "metadata": {
    "editable": true,
    "slideshow": {
     "slide_type": ""
    },
    "tags": []
   },
   "outputs": [],
   "source": []
  }
 ],
 "metadata": {
  "kernelspec": {
   "display_name": "Python 3 (ipykernel)",
   "language": "python",
   "name": "python3"
  },
  "language_info": {
   "codemirror_mode": {
    "name": "ipython",
    "version": 3
   },
   "file_extension": ".py",
   "mimetype": "text/x-python",
   "name": "python",
   "nbconvert_exporter": "python",
   "pygments_lexer": "ipython3",
   "version": "3.10.9"
  }
 },
 "nbformat": 4,
 "nbformat_minor": 5
}
