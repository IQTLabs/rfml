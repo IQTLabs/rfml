{
 "cells": [
  {
   "cell_type": "code",
   "execution_count": null,
   "id": "c2108293-ee1c-4f04-8e51-542f7597cf34",
   "metadata": {},
   "outputs": [],
   "source": [
    "import data"
   ]
  },
  {
   "cell_type": "code",
   "execution_count": null,
   "id": "a7b243d5",
   "metadata": {},
   "outputs": [],
   "source": [
    "sig_data = data.Data(\"gamutrf_recording_ettus__gain40_1675089435_5735500000Hz_20480000sps.s16.zst\")\n",
    "#sig_data = data.Data(\"gamutrf_recording_ettus__gain40_1675089435_5735500000Hz_20480000sps.s16.sigmf-meta\")"
   ]
  },
  {
   "cell_type": "markdown",
   "id": "e1c7e506",
   "metadata": {},
   "source": [
    "### Export SigMF Data"
   ]
  },
  {
   "cell_type": "code",
   "execution_count": null,
   "id": "3c2188de",
   "metadata": {},
   "outputs": [],
   "source": [
    "sig_data.export_sigmf_data()"
   ]
  },
  {
   "cell_type": "markdown",
   "id": "8a27540c",
   "metadata": {},
   "source": [
    "### Generate Spectrograms"
   ]
  },
  {
   "cell_type": "code",
   "execution_count": null,
   "id": "3128fb11",
   "metadata": {},
   "outputs": [],
   "source": [
    "n_fft = 1024\n",
    "time_dim = 512 # equivalent to tune_step_fft parameter in GamutRF\n",
    "n_samples = n_fft * time_dim\n",
    "sig_data.generate_spectrograms(n_samples, n_fft)"
   ]
  },
  {
   "cell_type": "markdown",
   "id": "82447721",
   "metadata": {},
   "source": [
    "*Use a 3rd party tool like AnyLabeling to apply labels to the exported spectrograms*"
   ]
  },
  {
   "cell_type": "markdown",
   "id": "f2f36390",
   "metadata": {},
   "source": [
    "## Import Labelled Spectrograms"
   ]
  },
  {
   "cell_type": "code",
   "execution_count": null,
   "id": "487a6d69",
   "metadata": {},
   "outputs": [],
   "source": [
    "sig_data.import_labelme_spectrograms()"
   ]
  },
  {
   "cell_type": "markdown",
   "id": "4a5a3161",
   "metadata": {},
   "source": [
    "### Export IQ Annotations"
   ]
  },
  {
   "cell_type": "code",
   "execution_count": null,
   "id": "f9defcbd",
   "metadata": {},
   "outputs": [],
   "source": [
    "sig_data.export_annotation_iq()"
   ]
  },
  {
   "cell_type": "markdown",
   "id": "d436f74f",
   "metadata": {},
   "source": [
    "## Import from an S3 bucket\n",
    "\n",
    "This is a small helper script to download dataset from S3\n",
    "To use with AWS SSO do: `aws sso login` in the VS Code Terminal"
   ]
  },
  {
   "cell_type": "code",
   "execution_count": null,
   "id": "10253376",
   "metadata": {},
   "outputs": [],
   "source": [
    "import boto3\n",
    "import os\n",
    "\n",
    "s3_client = boto3.client('s3')\n",
    "\n",
    "def download_dir(prefix, local, bucket, client=s3_client):\n",
    "    \"\"\"\n",
    "    params:\n",
    "    - prefix: pattern to match in s3\n",
    "    - local: local path to folder in which to place files\n",
    "    - bucket: s3 bucket with target contents\n",
    "    - client: initialized s3 client object\n",
    "    \"\"\"\n",
    "    keys = []\n",
    "    dirs = []\n",
    "    next_token = ''\n",
    "    base_kwargs = {\n",
    "        'Bucket':bucket,\n",
    "        'Prefix':prefix,\n",
    "    }\n",
    "    while next_token is not None:\n",
    "        kwargs = base_kwargs.copy()\n",
    "        if next_token != '':\n",
    "            kwargs.update({'ContinuationToken': next_token})\n",
    "        results = client.list_objects_v2(**kwargs)\n",
    "        contents = results.get('Contents')\n",
    "        for i in contents:\n",
    "            k = i.get('Key')\n",
    "            if k[-1] != '/':\n",
    "                keys.append(k)\n",
    "            else:\n",
    "                dirs.append(k)\n",
    "        next_token = results.get('NextContinuationToken')\n",
    "    for d in dirs:\n",
    "        dest_pathname = os.path.join(local, d)\n",
    "        if not os.path.exists(os.path.dirname(dest_pathname)):\n",
    "            os.makedirs(os.path.dirname(dest_pathname))\n",
    "    for k in keys:\n",
    "        dest_pathname = os.path.join(local, k)\n",
    "        if not os.path.exists(os.path.dirname(dest_pathname)):\n",
    "            os.makedirs(os.path.dirname(dest_pathname))\n",
    "        client.download_file(bucket, k, dest_pathname)\n",
    "\n",
    "download_dir(\"01_30_23/\", \"gamutrf-arl\", \"gamutrf-arl\")"
   ]
  },
  {
   "cell_type": "code",
   "execution_count": null,
   "id": "7d87811c",
   "metadata": {},
   "outputs": [],
   "source": []
  }
 ],
 "metadata": {
  "kernelspec": {
   "display_name": "Python 3 (ipykernel)",
   "language": "python",
   "name": "python3"
  },
  "language_info": {
   "codemirror_mode": {
    "name": "ipython",
    "version": 3
   },
   "file_extension": ".py",
   "mimetype": "text/x-python",
   "name": "python",
   "nbconvert_exporter": "python",
   "pygments_lexer": "ipython3",
   "version": "3.12.2"
  }
 },
 "nbformat": 4,
 "nbformat_minor": 5
}
