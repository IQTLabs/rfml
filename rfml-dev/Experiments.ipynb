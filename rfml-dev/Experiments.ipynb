{
 "cells": [
  {
   "cell_type": "code",
   "execution_count": 1,
   "id": "67b8f857-62d3-4fa3-bd07-2e1b2d647914",
   "metadata": {},
   "outputs": [],
   "source": [
    "import json\n",
    "from datetime import datetime\n",
    "\n",
    "from pathlib import Path\n",
    "from train_iq import *\n",
    "from train_spec import *\n"
   ]
  },
  {
   "cell_type": "code",
   "execution_count": 2,
   "id": "7d3ad85e-3045-4174-8fdc-ae76b35c289d",
   "metadata": {},
   "outputs": [],
   "source": [
    "class Experiment():\n",
    "    def __init__(\n",
    "        self, \n",
    "        experiment_name,\n",
    "        class_list,\n",
    "        train_dir, \n",
    "        val_dir = None, \n",
    "        test_dir = None, \n",
    "        iq_num_samples = 1024, \n",
    "        iq_only_start_of_burst = True,\n",
    "        iq_epochs = 40,\n",
    "        iq_batch_size = 180,\n",
    "        spec_n_fft = 1024,\n",
    "        spec_time_dim = 512,\n",
    "        spec_epochs = 40,\n",
    "        spec_batch_size = 32,\n",
    "        notes = None,\n",
    "    ):\n",
    "        self.experiment_name = experiment_name\n",
    "        self.train_dir = train_dir\n",
    "        self.class_list = class_list\n",
    "        self.val_dir = val_dir\n",
    "        self.test_dir = test_dir\n",
    "        self.iq_num_samples = iq_num_samples\n",
    "        self.iq_only_start_of_burst = iq_only_start_of_burst\n",
    "        self.iq_epochs = iq_epochs\n",
    "        self.iq_batch_size = iq_batch_size\n",
    "        self.spec_n_fft = spec_n_fft\n",
    "        self.spec_time_dim = spec_time_dim\n",
    "        self.spec_n_samples = spec_n_fft * spec_time_dim\n",
    "        self.spec_epochs = spec_epochs\n",
    "        self.spec_batch_size = spec_batch_size\n",
    "        self.notes = notes\n",
    "\n",
    "        with open(Path(self.experiment_name,f\"{self.experiment_name}_info_{datetime.now().strftime('%m_%d_%Y_%H_%M_%S')}.json\"), \"w\") as f:\n",
    "            f.write(json.dumps(vars(self), indent=4))\n",
    "\n",
    "    def __repr__(self):\n",
    "        return str(vars(self))"
   ]
  },
  {
   "cell_type": "code",
   "execution_count": 3,
   "id": "c78ca9c4-2c35-460d-b27e-49aa9762be3a",
   "metadata": {},
   "outputs": [],
   "source": [
    "exp1 = Experiment(\n",
    "    experiment_name = \"exp1\",\n",
    "    class_list = [\"wifi\",\"anom_wifi\"],\n",
    "    train_dir = [\"data/gamutrf/gamutrf-sd-gr-ieee-wifi/test_offline\"],\n",
    ")"
   ]
  },
  {
   "cell_type": "code",
   "execution_count": 4,
   "id": "d7fd0e68-646e-464c-8df9-a37838c6f960",
   "metadata": {},
   "outputs": [
    {
     "data": {
      "text/plain": [
       "{'experiment_name': 'exp1',\n",
       " 'train_dir': ['data/gamutrf/gamutrf-sd-gr-ieee-wifi/test_offline'],\n",
       " 'class_list': ['wifi', 'anom_wifi'],\n",
       " 'val_dir': None,\n",
       " 'test_dir': None,\n",
       " 'iq_num_samples': 1024,\n",
       " 'iq_only_start_of_burst': True,\n",
       " 'iq_epochs': 40,\n",
       " 'iq_batch_size': 180,\n",
       " 'spec_n_fft': 1024,\n",
       " 'spec_time_dim': 512,\n",
       " 'spec_n_samples': 524288,\n",
       " 'spec_epochs': 40,\n",
       " 'spec_batch_size': 32,\n",
       " 'notes': None}"
      ]
     },
     "execution_count": 4,
     "metadata": {},
     "output_type": "execute_result"
    }
   ],
   "source": [
    "vars(exp1)"
   ]
  },
  {
   "cell_type": "code",
   "execution_count": 5,
   "id": "73223f80-6f6d-4541-95ce-c10812eaae5d",
   "metadata": {},
   "outputs": [
    {
     "name": "stdout",
     "output_type": "stream",
     "text": [
      "data_directories=['data/gamutrf/gamutrf-sd-gr-ieee-wifi/test_offline']\n",
      "data_directory='data/gamutrf/gamutrf-sd-gr-ieee-wifi/test_offline'\n"
     ]
    },
    {
     "name": "stderr",
     "output_type": "stream",
     "text": [
      "  0%|                                                                                    | 0/2 [00:00<?, ?it/s]"
     ]
    },
    {
     "name": "stdout",
     "output_type": "stream",
     "text": [
      "\n",
      "Loaded \n",
      " Data file: data/gamutrf/gamutrf-sd-gr-ieee-wifi/test_offline/anomwifi-encoding-0-sendsps-10000000.s16.zst.sigmf-data \n",
      " SigMF-Meta file: data/gamutrf/gamutrf-sd-gr-ieee-wifi/test_offline/anomwifi-encoding-0-sendsps-10000000.s16.zst.sigmf-meta\n",
      "\n"
     ]
    },
    {
     "name": "stderr",
     "output_type": "stream",
     "text": [
      "/home/ltindall/.pyenv/versions/3.10.9/envs/rfml-dev/lib/python3.10/site-packages/sigmf/sigmffile.py:914: UserWarning: Compliant Dataset `data/gamutrf/gamutrf-sd-gr-ieee-wifi/test_offline/anomwifi-encoding-0-sendsps-10000000.s16.zst.sigmf-data` exists but \"core:dataset\" is also defined; using `data/gamutrf/gamutrf-sd-gr-ieee-wifi/test_offline/anomwifi-encoding-0-sendsps-10000000.s16.zst.sigmf-data`\n",
      "  warnings.warn(f'Compliant Dataset `{compliant_data_fn}` exists but '\n",
      "/home/ltindall/rfml-dev/rfml-dev/data.py:919: UserWarning: Matching spectrogram could not be found for annotation: {'core:freq_lower_edge': 5275520000.0, 'core:freq_upper_edge': 5284640000.0, 'core:label': 'anom_wifi', 'core:sample_count': 44392, 'core:sample_start': 23056854}\n",
      "  warnings.warn(\n",
      "/home/ltindall/rfml-dev/rfml-dev/data.py:919: UserWarning: Matching spectrogram could not be found for annotation: {'core:freq_lower_edge': 5275760000.0, 'core:freq_upper_edge': 5285280000.0, 'core:label': 'anom_wifi', 'core:sample_count': 44387, 'core:sample_start': 23588127}\n",
      "  warnings.warn(\n",
      "/home/ltindall/rfml-dev/rfml-dev/data.py:919: UserWarning: Matching spectrogram could not be found for annotation: {'core:freq_lower_edge': 5275040000.0, 'core:freq_upper_edge': 5284320000.0, 'core:label': 'anom_wifi', 'core:sample_count': 44384, 'core:sample_start': 24625029}\n",
      "  warnings.warn(\n",
      "/home/ltindall/rfml-dev/rfml-dev/data.py:919: UserWarning: Matching spectrogram could not be found for annotation: {'core:freq_lower_edge': 5275520000.0, 'core:freq_upper_edge': 5285280000.0, 'core:label': 'anom_wifi', 'core:sample_count': 17451, 'core:sample_start': 29883535}\n",
      "  warnings.warn(\n",
      "/home/ltindall/rfml-dev/rfml-dev/data.py:919: UserWarning: Matching spectrogram could not be found for annotation: {'core:freq_lower_edge': 5274720000.0, 'core:freq_upper_edge': 5284080000.0, 'core:label': 'anom_wifi', 'core:sample_count': 41224, 'core:sample_start': 35108775}\n",
      "  warnings.warn(\n",
      "/home/ltindall/rfml-dev/rfml-dev/data.py:919: UserWarning: Matching spectrogram could not be found for annotation: {'core:freq_lower_edge': 5275600000.0, 'core:freq_upper_edge': 5284640000.0, 'core:label': 'anom_wifi', 'core:sample_count': 28163, 'core:sample_start': 35630295}\n",
      "  warnings.warn(\n",
      "/home/ltindall/rfml-dev/rfml-dev/data.py:919: UserWarning: Matching spectrogram could not be found for annotation: {'core:freq_lower_edge': 5275600000.0, 'core:freq_upper_edge': 5284800000.0, 'core:label': 'anom_wifi', 'core:sample_count': 33033, 'core:sample_start': 36685318}\n",
      "  warnings.warn(\n",
      "/home/ltindall/rfml-dev/rfml-dev/data.py:919: UserWarning: Matching spectrogram could not be found for annotation: {'core:freq_lower_edge': 5274640000.0, 'core:freq_upper_edge': 5284800000.0, 'core:label': 'anom_wifi', 'core:sample_count': 11268, 'core:sample_start': 39320925}\n",
      "  warnings.warn(\n",
      "/home/ltindall/rfml-dev/rfml-dev/data.py:919: UserWarning: Matching spectrogram could not be found for annotation: {'core:freq_lower_edge': 5274880000.0, 'core:freq_upper_edge': 5284720000.0, 'core:label': 'anom_wifi', 'core:sample_count': 12077, 'core:sample_start': 48753986}\n",
      "  warnings.warn(\n",
      "/home/ltindall/rfml-dev/rfml-dev/data.py:919: UserWarning: Matching spectrogram could not be found for annotation: {'core:freq_lower_edge': 5274800000.0, 'core:freq_upper_edge': 5284960000.0, 'core:label': 'anom_wifi', 'core:sample_count': 10289, 'core:sample_start': 58711911}\n",
      "  warnings.warn(\n",
      "/home/ltindall/rfml-dev/rfml-dev/data.py:919: UserWarning: Matching spectrogram could not be found for annotation: {'core:freq_lower_edge': 5275520000.0, 'core:freq_upper_edge': 5285280000.0, 'core:label': 'anom_wifi', 'core:sample_count': 15868, 'core:sample_start': 62907456}\n",
      "  warnings.warn(\n",
      "/home/ltindall/rfml-dev/rfml-dev/data.py:919: UserWarning: Matching spectrogram could not be found for annotation: {'core:freq_lower_edge': 5275600000.0, 'core:freq_upper_edge': 5284960000.0, 'core:label': 'anom_wifi', 'core:sample_count': 35323, 'core:sample_start': 65505692}\n",
      "  warnings.warn(\n",
      "/home/ltindall/rfml-dev/rfml-dev/data.py:919: UserWarning: Matching spectrogram could not be found for annotation: {'core:freq_lower_edge': 5275360000.0, 'core:freq_upper_edge': 5284640000.0, 'core:label': 'anom_wifi', 'core:sample_count': 21452, 'core:sample_start': 68141379}\n",
      "  warnings.warn(\n",
      "/home/ltindall/rfml-dev/rfml-dev/data.py:919: UserWarning: Matching spectrogram could not be found for annotation: {'core:freq_lower_edge': 5275120000.0, 'core:freq_upper_edge': 5284240000.0, 'core:label': 'anom_wifi', 'core:sample_count': 43521, 'core:sample_start': 73894870}\n",
      "  warnings.warn(\n",
      "/home/ltindall/rfml-dev/rfml-dev/data.py:919: UserWarning: Matching spectrogram could not be found for annotation: {'core:freq_lower_edge': 5275040000.0, 'core:freq_upper_edge': 5284720000.0, 'core:label': 'anom_wifi', 'core:sample_count': 16193, 'core:sample_start': 78107953}\n",
      "  warnings.warn(\n",
      "/home/ltindall/rfml-dev/rfml-dev/data.py:919: UserWarning: Matching spectrogram could not be found for annotation: {'core:freq_lower_edge': 5275600000.0, 'core:freq_upper_edge': 5285280000.0, 'core:label': 'anom_wifi', 'core:sample_count': 17660, 'core:sample_start': 85969963}\n",
      "  warnings.warn(\n",
      "/home/ltindall/rfml-dev/rfml-dev/data.py:919: UserWarning: Matching spectrogram could not be found for annotation: {'core:freq_lower_edge': 5275680000.0, 'core:freq_upper_edge': 5284800000.0, 'core:label': 'anom_wifi', 'core:sample_count': 31409, 'core:sample_start': 99604832}\n",
      "  warnings.warn(\n",
      "/home/ltindall/rfml-dev/rfml-dev/data.py:919: UserWarning: Matching spectrogram could not be found for annotation: {'core:freq_lower_edge': 5275360000.0, 'core:freq_upper_edge': 5284480000.0, 'core:label': 'anom_wifi', 'core:sample_count': 31419, 'core:sample_start': 116900500}\n",
      "  warnings.warn(\n",
      "/home/ltindall/rfml-dev/rfml-dev/data.py:919: UserWarning: Matching spectrogram could not be found for annotation: {'core:freq_lower_edge': 5275600000.0, 'core:freq_upper_edge': 5285280000.0, 'core:label': 'anom_wifi', 'core:sample_count': 19277, 'core:sample_start': 124767317}\n",
      "  warnings.warn(\n",
      "/home/ltindall/rfml-dev/rfml-dev/data.py:919: UserWarning: Matching spectrogram could not be found for annotation: {'core:freq_lower_edge': 5275600000.0, 'core:freq_upper_edge': 5284960000.0, 'core:label': 'anom_wifi', 'core:sample_count': 21954, 'core:sample_start': 132640279}\n",
      "  warnings.warn(\n",
      "/home/ltindall/rfml-dev/rfml-dev/data.py:919: UserWarning: Matching spectrogram could not be found for annotation: {'core:freq_lower_edge': 5275120000.0, 'core:freq_upper_edge': 5284800000.0, 'core:label': 'anom_wifi', 'core:sample_count': 11883, 'core:sample_start': 144695233}\n",
      "  warnings.warn(\n",
      "/home/ltindall/rfml-dev/rfml-dev/data.py:919: UserWarning: Matching spectrogram could not be found for annotation: {'core:freq_lower_edge': 5275760000.0, 'core:freq_upper_edge': 5285360000.0, 'core:label': 'anom_wifi', 'core:sample_count': 39111, 'core:sample_start': 145192017}\n",
      "  warnings.warn(\n",
      "/home/ltindall/rfml-dev/rfml-dev/data.py:919: UserWarning: Matching spectrogram could not be found for annotation: {'core:freq_lower_edge': 5274720000.0, 'core:freq_upper_edge': 5284240000.0, 'core:label': 'anom_wifi', 'core:sample_count': 17817, 'core:sample_start': 153598990}\n",
      "  warnings.warn(\n",
      "/home/ltindall/rfml-dev/rfml-dev/data.py:919: UserWarning: Matching spectrogram could not be found for annotation: {'core:freq_lower_edge': 5274720000.0, 'core:freq_upper_edge': 5284160000.0, 'core:label': 'anom_wifi', 'core:sample_count': 28790, 'core:sample_start': 154117926}\n",
      "  warnings.warn(\n",
      "/home/ltindall/rfml-dev/rfml-dev/data.py:919: UserWarning: Matching spectrogram could not be found for annotation: {'core:freq_lower_edge': 5275440000.0, 'core:freq_upper_edge': 5284800000.0, 'core:label': 'anom_wifi', 'core:sample_count': 23388, 'core:sample_start': 155177972}\n",
      "  warnings.warn(\n",
      "/home/ltindall/rfml-dev/rfml-dev/data.py:919: UserWarning: Matching spectrogram could not be found for annotation: {'core:freq_lower_edge': 5275280000.0, 'core:freq_upper_edge': 5284560000.0, 'core:label': 'anom_wifi', 'core:sample_count': 19446, 'core:sample_start': 157270860}\n",
      "  warnings.warn(\n",
      "/home/ltindall/rfml-dev/rfml-dev/data.py:919: UserWarning: Matching spectrogram could not be found for annotation: {'core:freq_lower_edge': 5275360000.0, 'core:freq_upper_edge': 5284640000.0, 'core:label': 'anom_wifi', 'core:sample_count': 27786, 'core:sample_start': 179297109}\n",
      "  warnings.warn(\n",
      "/home/ltindall/rfml-dev/rfml-dev/data.py:919: UserWarning: Matching spectrogram could not be found for annotation: {'core:freq_lower_edge': 5275040000.0, 'core:freq_upper_edge': 5284320000.0, 'core:label': 'anom_wifi', 'core:sample_count': 27799, 'core:sample_start': 179807342}\n",
      "  warnings.warn(\n",
      "/home/ltindall/rfml-dev/rfml-dev/data.py:919: UserWarning: Matching spectrogram could not be found for annotation: {'core:freq_lower_edge': 5275360000.0, 'core:freq_upper_edge': 5284800000.0, 'core:label': 'anom_wifi', 'core:sample_count': 18952, 'core:sample_start': 198169411}\n",
      "  warnings.warn(\n",
      "/home/ltindall/rfml-dev/rfml-dev/data.py:919: UserWarning: Matching spectrogram could not be found for annotation: {'core:freq_lower_edge': 5275360000.0, 'core:freq_upper_edge': 5284720000.0, 'core:label': 'anom_wifi', 'core:sample_count': 29929, 'core:sample_start': 207091401}\n",
      "  warnings.warn(\n",
      "/home/ltindall/rfml-dev/rfml-dev/data.py:919: UserWarning: Matching spectrogram could not be found for annotation: {'core:freq_lower_edge': 5273920000.0, 'core:freq_upper_edge': 5285280000.0, 'core:label': 'anom_wifi', 'core:sample_count': 8156, 'core:sample_start': 209187149}\n",
      "  warnings.warn(\n",
      "/home/ltindall/rfml-dev/rfml-dev/data.py:919: UserWarning: Matching spectrogram could not be found for annotation: {'core:freq_lower_edge': 5275360000.0, 'core:freq_upper_edge': 5284720000.0, 'core:label': 'anom_wifi', 'core:sample_count': 30052, 'core:sample_start': 223342693}\n",
      "  warnings.warn(\n",
      "/home/ltindall/rfml-dev/rfml-dev/data.py:919: UserWarning: Matching spectrogram could not be found for annotation: {'core:freq_lower_edge': 5274880000.0, 'core:freq_upper_edge': 5284320000.0, 'core:label': 'anom_wifi', 'core:sample_count': 40231, 'core:sample_start': 224896098}\n",
      "  warnings.warn(\n",
      "/home/ltindall/rfml-dev/rfml-dev/data.py:919: UserWarning: Matching spectrogram could not be found for annotation: {'core:freq_lower_edge': 5275280000.0, 'core:freq_upper_edge': 5284400000.0, 'core:label': 'anom_wifi', 'core:sample_count': 32233, 'core:sample_start': 231714910}\n",
      "  warnings.warn(\n",
      "/home/ltindall/rfml-dev/rfml-dev/data.py:919: UserWarning: Matching spectrogram could not be found for annotation: {'core:freq_lower_edge': 5275280000.0, 'core:freq_upper_edge': 5284640000.0, 'core:label': 'anom_wifi', 'core:sample_count': 42240, 'core:sample_start': 239040955}\n",
      "  warnings.warn(\n",
      "/home/ltindall/rfml-dev/rfml-dev/data.py:919: UserWarning: Matching spectrogram could not be found for annotation: {'core:freq_lower_edge': 5274720000.0, 'core:freq_upper_edge': 5284240000.0, 'core:label': 'anom_wifi', 'core:sample_count': 21886, 'core:sample_start': 247456371}\n",
      "  warnings.warn(\n",
      "/home/ltindall/rfml-dev/rfml-dev/data.py:919: UserWarning: Matching spectrogram could not be found for annotation: {'core:freq_lower_edge': 5275680000.0, 'core:freq_upper_edge': 5284960000.0, 'core:label': 'anom_wifi', 'core:sample_count': 35793, 'core:sample_start': 253198794}\n",
      "  warnings.warn(\n",
      "/home/ltindall/rfml-dev/rfml-dev/data.py:919: UserWarning: Matching spectrogram could not be found for annotation: {'core:freq_lower_edge': 5275200000.0, 'core:freq_upper_edge': 5284320000.0, 'core:label': 'anom_wifi', 'core:sample_count': 35832, 'core:sample_start': 253725849}\n",
      "  warnings.warn(\n",
      "/home/ltindall/rfml-dev/rfml-dev/data.py:919: UserWarning: Matching spectrogram could not be found for annotation: {'core:freq_lower_edge': 5275760000.0, 'core:freq_upper_edge': 5285120000.0, 'core:label': 'anom_wifi', 'core:sample_count': 42676, 'core:sample_start': 254278399}\n",
      "  warnings.warn(\n",
      "/home/ltindall/rfml-dev/rfml-dev/data.py:919: UserWarning: Matching spectrogram could not be found for annotation: {'core:freq_lower_edge': 5275040000.0, 'core:freq_upper_edge': 5284320000.0, 'core:label': 'anom_wifi', 'core:sample_count': 20731, 'core:sample_start': 257933619}\n",
      "  warnings.warn(\n",
      "/home/ltindall/rfml-dev/rfml-dev/data.py:919: UserWarning: Matching spectrogram could not be found for annotation: {'core:freq_lower_edge': 5275200000.0, 'core:freq_upper_edge': 5284800000.0, 'core:label': 'anom_wifi', 'core:sample_count': 17810, 'core:sample_start': 259522428}\n",
      "  warnings.warn(\n",
      "/home/ltindall/rfml-dev/rfml-dev/data.py:919: UserWarning: Matching spectrogram could not be found for annotation: {'core:freq_lower_edge': 5274720000.0, 'core:freq_upper_edge': 5284240000.0, 'core:label': 'anom_wifi', 'core:sample_count': 27166, 'core:sample_start': 277853036}\n",
      "  warnings.warn(\n",
      "/home/ltindall/rfml-dev/rfml-dev/data.py:919: UserWarning: Matching spectrogram could not be found for annotation: {'core:freq_lower_edge': 5275760000.0, 'core:freq_upper_edge': 5285280000.0, 'core:label': 'anom_wifi', 'core:sample_count': 40249, 'core:sample_start': 290941643}\n",
      "  warnings.warn(\n",
      "/home/ltindall/rfml-dev/rfml-dev/data.py:919: UserWarning: Matching spectrogram could not be found for annotation: {'core:freq_lower_edge': 5275440000.0, 'core:freq_upper_edge': 5284640000.0, 'core:label': 'anom_wifi', 'core:sample_count': 33475, 'core:sample_start': 296723803}\n",
      "  warnings.warn(\n",
      "/home/ltindall/rfml-dev/rfml-dev/data.py:919: UserWarning: Matching spectrogram could not be found for annotation: {'core:freq_lower_edge': 5274800000.0, 'core:freq_upper_edge': 5284320000.0, 'core:label': 'anom_wifi', 'core:sample_count': 25655, 'core:sample_start': 300408317}\n",
      "  warnings.warn(\n",
      "/home/ltindall/rfml-dev/rfml-dev/data.py:919: UserWarning: Matching spectrogram could not be found for annotation: {'core:freq_lower_edge': 5274720000.0, 'core:freq_upper_edge': 5284400000.0, 'core:label': 'anom_wifi', 'core:sample_count': 37956, 'core:sample_start': 306672470}\n",
      "  warnings.warn(\n",
      "/home/ltindall/rfml-dev/rfml-dev/data.py:919: UserWarning: Matching spectrogram could not be found for annotation: {'core:freq_lower_edge': 5275360000.0, 'core:freq_upper_edge': 5284640000.0, 'core:label': 'anom_wifi', 'core:sample_count': 25741, 'core:sample_start': 352833318}\n",
      "  warnings.warn(\n",
      "/home/ltindall/rfml-dev/rfml-dev/data.py:919: UserWarning: Matching spectrogram could not be found for annotation: {'core:freq_lower_edge': 5275360000.0, 'core:freq_upper_edge': 5284880000.0, 'core:label': 'anom_wifi', 'core:sample_count': 25379, 'core:sample_start': 358587943}\n",
      "  warnings.warn(\n",
      "/home/ltindall/rfml-dev/rfml-dev/data.py:919: UserWarning: Matching spectrogram could not be found for annotation: {'core:freq_lower_edge': 5275440000.0, 'core:freq_upper_edge': 5284960000.0, 'core:label': 'anom_wifi', 'core:sample_count': 15784, 'core:sample_start': 359125105}\n",
      "  warnings.warn(\n",
      "/home/ltindall/rfml-dev/rfml-dev/data.py:919: UserWarning: Matching spectrogram could not be found for annotation: {'core:freq_lower_edge': 5275280000.0, 'core:freq_upper_edge': 5284400000.0, 'core:label': 'anom_wifi', 'core:sample_count': 30540, 'core:sample_start': 362781456}\n",
      "  warnings.warn(\n",
      "/home/ltindall/rfml-dev/rfml-dev/data.py:919: UserWarning: Matching spectrogram could not be found for annotation: {'core:freq_lower_edge': 5275120000.0, 'core:freq_upper_edge': 5284400000.0, 'core:label': 'anom_wifi', 'core:sample_count': 41411, 'core:sample_start': 381148516}\n",
      "  warnings.warn(\n",
      "/home/ltindall/rfml-dev/rfml-dev/data.py:919: UserWarning: Matching spectrogram could not be found for annotation: {'core:freq_lower_edge': 5275360000.0, 'core:freq_upper_edge': 5284800000.0, 'core:label': 'anom_wifi', 'core:sample_count': 17322, 'core:sample_start': 397409053}\n",
      "  warnings.warn(\n",
      "/home/ltindall/rfml-dev/rfml-dev/data.py:919: UserWarning: Matching spectrogram could not be found for annotation: {'core:freq_lower_edge': 5275600000.0, 'core:freq_upper_edge': 5284800000.0, 'core:label': 'anom_wifi', 'core:sample_count': 28088, 'core:sample_start': 405793928}\n",
      "  warnings.warn(\n"
     ]
    },
    {
     "name": "stdout",
     "output_type": "stream",
     "text": [
      "Saving data/gamutrf/gamutrf-sd-gr-ieee-wifi/test_offline/anomwifi-encoding-0-sendsps-10000000.s16.zst.sigmf-meta\n",
      "\n",
      "Writing YOLO txt label files\n"
     ]
    },
    {
     "name": "stderr",
     "output_type": "stream",
     "text": [
      "\n",
      "  0%|                                                                                 | 0/1409 [00:00<?, ?it/s]\u001b[A\n",
      "  8%|█████▎                                                               | 108/1409 [00:00<00:01, 1076.68it/s]\u001b[A\n",
      " 17%|███████████▊                                                         | 241/1409 [00:00<00:00, 1219.76it/s]\u001b[A\n",
      " 26%|█████████████████▊                                                   | 363/1409 [00:00<00:00, 1143.78it/s]\u001b[A\n",
      " 34%|███████████████████████▍                                             | 479/1409 [00:00<00:00, 1147.78it/s]\u001b[A\n",
      " 42%|█████████████████████████████▏                                       | 595/1409 [00:00<00:00, 1082.17it/s]\u001b[A\n",
      " 51%|███████████████████████████████████▍                                 | 724/1409 [00:00<00:00, 1145.64it/s]\u001b[A\n",
      "100%|████████████████████████████████████████████████████████████████████| 1409/1409 [00:00<00:00, 1889.31it/s]\u001b[A\n",
      " 50%|██████████████████████████████████████                                      | 1/2 [00:04<00:04,  4.12s/it]/home/ltindall/.pyenv/versions/3.10.9/envs/rfml-dev/lib/python3.10/site-packages/sigmf/sigmffile.py:914: UserWarning: Compliant Dataset `data/gamutrf/gamutrf-sd-gr-ieee-wifi/test_offline/wifi-encoding-0-sendsps-10000000.s16.zst.sigmf-data` exists but \"core:dataset\" is also defined; using `data/gamutrf/gamutrf-sd-gr-ieee-wifi/test_offline/wifi-encoding-0-sendsps-10000000.s16.zst.sigmf-data`\n",
      "  warnings.warn(f'Compliant Dataset `{compliant_data_fn}` exists but '\n"
     ]
    },
    {
     "name": "stdout",
     "output_type": "stream",
     "text": [
      "Saving data/gamutrf/gamutrf-sd-gr-ieee-wifi/test_offline/anomwifi-encoding-0-sendsps-10000000.s16.zst.sigmf-meta\n",
      "\n",
      "\n",
      "Loaded \n",
      " Data file: data/gamutrf/gamutrf-sd-gr-ieee-wifi/test_offline/wifi-encoding-0-sendsps-10000000.s16.zst.sigmf-data \n",
      " SigMF-Meta file: data/gamutrf/gamutrf-sd-gr-ieee-wifi/test_offline/wifi-encoding-0-sendsps-10000000.s16.zst.sigmf-meta\n",
      "\n"
     ]
    },
    {
     "name": "stderr",
     "output_type": "stream",
     "text": [
      "/home/ltindall/rfml-dev/rfml-dev/data.py:919: UserWarning: Matching spectrogram could not be found for annotation: {'core:freq_lower_edge': 5275360000.0, 'core:freq_upper_edge': 5284800000.0, 'core:label': 'wifi', 'core:sample_count': 29934, 'core:sample_start': 38266584}\n",
      "  warnings.warn(\n",
      "/home/ltindall/rfml-dev/rfml-dev/data.py:919: UserWarning: Matching spectrogram could not be found for annotation: {'core:freq_lower_edge': 5275360000.0, 'core:freq_upper_edge': 5284560000.0, 'core:label': 'wifi', 'core:sample_count': 37827, 'core:sample_start': 40340658}\n",
      "  warnings.warn(\n",
      "/home/ltindall/rfml-dev/rfml-dev/data.py:919: UserWarning: Matching spectrogram could not be found for annotation: {'core:freq_lower_edge': 5275520000.0, 'core:freq_upper_edge': 5284880000.0, 'core:label': 'wifi', 'core:sample_count': 38121, 'core:sample_start': 42443419}\n",
      "  warnings.warn(\n",
      "/home/ltindall/rfml-dev/rfml-dev/data.py:919: UserWarning: Matching spectrogram could not be found for annotation: {'core:freq_lower_edge': 5274720000.0, 'core:freq_upper_edge': 5284160000.0, 'core:label': 'wifi', 'core:sample_count': 31410, 'core:sample_start': 47706753}\n",
      "  warnings.warn(\n",
      "/home/ltindall/rfml-dev/rfml-dev/data.py:919: UserWarning: Matching spectrogram could not be found for annotation: {'core:freq_lower_edge': 5275040000.0, 'core:freq_upper_edge': 5284800000.0, 'core:label': 'wifi', 'core:sample_count': 19761, 'core:sample_start': 52935809}\n",
      "  warnings.warn(\n",
      "/home/ltindall/rfml-dev/rfml-dev/data.py:919: UserWarning: Matching spectrogram could not be found for annotation: {'core:freq_lower_edge': 5274720000.0, 'core:freq_upper_edge': 5284240000.0, 'core:label': 'wifi', 'core:sample_count': 24879, 'core:sample_start': 73391050}\n",
      "  warnings.warn(\n",
      "/home/ltindall/rfml-dev/rfml-dev/data.py:919: UserWarning: Matching spectrogram could not be found for annotation: {'core:freq_lower_edge': 5274720000.0, 'core:freq_upper_edge': 5284160000.0, 'core:label': 'wifi', 'core:sample_count': 43022, 'core:sample_start': 77041842}\n",
      "  warnings.warn(\n",
      "/home/ltindall/rfml-dev/rfml-dev/data.py:919: UserWarning: Matching spectrogram could not be found for annotation: {'core:freq_lower_edge': 5275360000.0, 'core:freq_upper_edge': 5284640000.0, 'core:label': 'wifi', 'core:sample_count': 36819, 'core:sample_start': 80719614}\n",
      "  warnings.warn(\n",
      "/home/ltindall/rfml-dev/rfml-dev/data.py:919: UserWarning: Matching spectrogram could not be found for annotation: {'core:freq_lower_edge': 5275520000.0, 'core:freq_upper_edge': 5284560000.0, 'core:label': 'wifi', 'core:sample_count': 38608, 'core:sample_start': 83849712}\n",
      "  warnings.warn(\n",
      "/home/ltindall/rfml-dev/rfml-dev/data.py:919: UserWarning: Matching spectrogram could not be found for annotation: {'core:freq_lower_edge': 5274720000.0, 'core:freq_upper_edge': 5285120000.0, 'core:label': 'wifi', 'core:sample_count': 11065, 'core:sample_start': 88079996}\n",
      "  warnings.warn(\n",
      "/home/ltindall/rfml-dev/rfml-dev/data.py:919: UserWarning: Matching spectrogram could not be found for annotation: {'core:freq_lower_edge': 5275360000.0, 'core:freq_upper_edge': 5285440000.0, 'core:label': 'wifi', 'core:sample_count': 21531, 'core:sample_start': 113237855}\n",
      "  warnings.warn(\n",
      "/home/ltindall/rfml-dev/rfml-dev/data.py:919: UserWarning: Matching spectrogram could not be found for annotation: {'core:freq_lower_edge': 5275600000.0, 'core:freq_upper_edge': 5285040000.0, 'core:label': 'wifi', 'core:sample_count': 42349, 'core:sample_start': 117930441}\n",
      "  warnings.warn(\n",
      "/home/ltindall/rfml-dev/rfml-dev/data.py:919: UserWarning: Matching spectrogram could not be found for annotation: {'core:freq_lower_edge': 5275120000.0, 'core:freq_upper_edge': 5284720000.0, 'core:label': 'wifi', 'core:sample_count': 23224, 'core:sample_start': 126863451}\n",
      "  warnings.warn(\n",
      "/home/ltindall/rfml-dev/rfml-dev/data.py:919: UserWarning: Matching spectrogram could not be found for annotation: {'core:freq_lower_edge': 5275360000.0, 'core:freq_upper_edge': 5284640000.0, 'core:label': 'wifi', 'core:sample_count': 32855, 'core:sample_start': 128434768}\n",
      "  warnings.warn(\n",
      "/home/ltindall/rfml-dev/rfml-dev/data.py:919: UserWarning: Matching spectrogram could not be found for annotation: {'core:freq_lower_edge': 5275440000.0, 'core:freq_upper_edge': 5284800000.0, 'core:label': 'wifi', 'core:sample_count': 26351, 'core:sample_start': 144160391}\n",
      "  warnings.warn(\n",
      "/home/ltindall/rfml-dev/rfml-dev/data.py:919: UserWarning: Matching spectrogram could not be found for annotation: {'core:freq_lower_edge': 5275360000.0, 'core:freq_upper_edge': 5285360000.0, 'core:label': 'wifi', 'core:sample_count': 16786, 'core:sample_start': 149421364}\n",
      "  warnings.warn(\n",
      "/home/ltindall/rfml-dev/rfml-dev/data.py:919: UserWarning: Matching spectrogram could not be found for annotation: {'core:freq_lower_edge': 5275280000.0, 'core:freq_upper_edge': 5285280000.0, 'core:label': 'wifi', 'core:sample_count': 16814, 'core:sample_start': 150460334}\n",
      "  warnings.warn(\n",
      "/home/ltindall/rfml-dev/rfml-dev/data.py:919: UserWarning: Matching spectrogram could not be found for annotation: {'core:freq_lower_edge': 5275040000.0, 'core:freq_upper_edge': 5285040000.0, 'core:label': 'wifi', 'core:sample_count': 25827, 'core:sample_start': 158845368}\n",
      "  warnings.warn(\n",
      "/home/ltindall/rfml-dev/rfml-dev/data.py:919: UserWarning: Matching spectrogram could not be found for annotation: {'core:freq_lower_edge': 5275120000.0, 'core:freq_upper_edge': 5285200000.0, 'core:label': 'wifi', 'core:sample_count': 21298, 'core:sample_start': 161479268}\n",
      "  warnings.warn(\n",
      "/home/ltindall/rfml-dev/rfml-dev/data.py:919: UserWarning: Matching spectrogram could not be found for annotation: {'core:freq_lower_edge': 5274720000.0, 'core:freq_upper_edge': 5284240000.0, 'core:label': 'wifi', 'core:sample_count': 21000, 'core:sample_start': 208645958}\n",
      "  warnings.warn(\n",
      "/home/ltindall/rfml-dev/rfml-dev/data.py:919: UserWarning: Matching spectrogram could not be found for annotation: {'core:freq_lower_edge': 5274720000.0, 'core:freq_upper_edge': 5285120000.0, 'core:label': 'wifi', 'core:sample_count': 10885, 'core:sample_start': 217574774}\n",
      "  warnings.warn(\n",
      "/home/ltindall/rfml-dev/rfml-dev/data.py:919: UserWarning: Matching spectrogram could not be found for annotation: {'core:freq_lower_edge': 5275200000.0, 'core:freq_upper_edge': 5284640000.0, 'core:label': 'wifi', 'core:sample_count': 39594, 'core:sample_start': 220687828}\n",
      "  warnings.warn(\n",
      "/home/ltindall/rfml-dev/rfml-dev/data.py:919: UserWarning: Matching spectrogram could not be found for annotation: {'core:freq_lower_edge': 5275440000.0, 'core:freq_upper_edge': 5284640000.0, 'core:label': 'wifi', 'core:sample_count': 20948, 'core:sample_start': 233812226}\n",
      "  warnings.warn(\n",
      "/home/ltindall/rfml-dev/rfml-dev/data.py:919: UserWarning: Matching spectrogram could not be found for annotation: {'core:freq_lower_edge': 5275040000.0, 'core:freq_upper_edge': 5284640000.0, 'core:label': 'wifi', 'core:sample_count': 20441, 'core:sample_start': 239057164}\n",
      "  warnings.warn(\n",
      "/home/ltindall/rfml-dev/rfml-dev/data.py:919: UserWarning: Matching spectrogram could not be found for annotation: {'core:freq_lower_edge': 5274800000.0, 'core:freq_upper_edge': 5285360000.0, 'core:label': 'wifi', 'core:sample_count': 10272, 'core:sample_start': 239597035}\n",
      "  warnings.warn(\n",
      "/home/ltindall/rfml-dev/rfml-dev/data.py:919: UserWarning: Matching spectrogram could not be found for annotation: {'core:freq_lower_edge': 5275360000.0, 'core:freq_upper_edge': 5284720000.0, 'core:label': 'wifi', 'core:sample_count': 34179, 'core:sample_start': 240112755}\n",
      "  warnings.warn(\n",
      "/home/ltindall/rfml-dev/rfml-dev/data.py:919: UserWarning: Matching spectrogram could not be found for annotation: {'core:freq_lower_edge': 5275120000.0, 'core:freq_upper_edge': 5284400000.0, 'core:label': 'wifi', 'core:sample_count': 28734, 'core:sample_start': 247449837}\n",
      "  warnings.warn(\n",
      "/home/ltindall/rfml-dev/rfml-dev/data.py:919: UserWarning: Matching spectrogram could not be found for annotation: {'core:freq_lower_edge': 5275360000.0, 'core:freq_upper_edge': 5284640000.0, 'core:label': 'wifi', 'core:sample_count': 37273, 'core:sample_start': 257401735}\n",
      "  warnings.warn(\n",
      "/home/ltindall/rfml-dev/rfml-dev/data.py:919: UserWarning: Matching spectrogram could not be found for annotation: {'core:freq_lower_edge': 5275440000.0, 'core:freq_upper_edge': 5284560000.0, 'core:label': 'wifi', 'core:sample_count': 29588, 'core:sample_start': 258986577}\n",
      "  warnings.warn(\n",
      "/home/ltindall/rfml-dev/rfml-dev/data.py:919: UserWarning: Matching spectrogram could not be found for annotation: {'core:freq_lower_edge': 5275040000.0, 'core:freq_upper_edge': 5284640000.0, 'core:label': 'wifi', 'core:sample_count': 14851, 'core:sample_start': 262662717}\n",
      "  warnings.warn(\n",
      "/home/ltindall/rfml-dev/rfml-dev/data.py:919: UserWarning: Matching spectrogram could not be found for annotation: {'core:freq_lower_edge': 5274960000.0, 'core:freq_upper_edge': 5284160000.0, 'core:label': 'wifi', 'core:sample_count': 38946, 'core:sample_start': 264236303}\n",
      "  warnings.warn(\n",
      "/home/ltindall/rfml-dev/rfml-dev/data.py:919: UserWarning: Matching spectrogram could not be found for annotation: {'core:freq_lower_edge': 5275440000.0, 'core:freq_upper_edge': 5284640000.0, 'core:label': 'wifi', 'core:sample_count': 29759, 'core:sample_start': 267361448}\n",
      "  warnings.warn(\n",
      "/home/ltindall/rfml-dev/rfml-dev/data.py:919: UserWarning: Matching spectrogram could not be found for annotation: {'core:freq_lower_edge': 5275360000.0, 'core:freq_upper_edge': 5284400000.0, 'core:label': 'wifi', 'core:sample_count': 41685, 'core:sample_start': 267905196}\n",
      "  warnings.warn(\n",
      "/home/ltindall/rfml-dev/rfml-dev/data.py:919: UserWarning: Matching spectrogram could not be found for annotation: {'core:freq_lower_edge': 5275520000.0, 'core:freq_upper_edge': 5284960000.0, 'core:label': 'wifi', 'core:sample_count': 34642, 'core:sample_start': 296718643}\n",
      "  warnings.warn(\n",
      "/home/ltindall/rfml-dev/rfml-dev/data.py:919: UserWarning: Matching spectrogram could not be found for annotation: {'core:freq_lower_edge': 5275520000.0, 'core:freq_upper_edge': 5284800000.0, 'core:label': 'wifi', 'core:sample_count': 36119, 'core:sample_start': 298302492}\n",
      "  warnings.warn(\n",
      "/home/ltindall/rfml-dev/rfml-dev/data.py:919: UserWarning: Matching spectrogram could not be found for annotation: {'core:freq_lower_edge': 5274800000.0, 'core:freq_upper_edge': 5284400000.0, 'core:label': 'wifi', 'core:sample_count': 34787, 'core:sample_start': 322940736}\n",
      "  warnings.warn(\n",
      "/home/ltindall/rfml-dev/rfml-dev/data.py:919: UserWarning: Matching spectrogram could not be found for annotation: {'core:freq_lower_edge': 5275120000.0, 'core:freq_upper_edge': 5284880000.0, 'core:label': 'wifi', 'core:sample_count': 29706, 'core:sample_start': 333445539}\n",
      "  warnings.warn(\n",
      "/home/ltindall/rfml-dev/rfml-dev/data.py:919: UserWarning: Matching spectrogram could not be found for annotation: {'core:freq_lower_edge': 5275280000.0, 'core:freq_upper_edge': 5284720000.0, 'core:label': 'wifi', 'core:sample_count': 40010, 'core:sample_start': 338676946}\n",
      "  warnings.warn(\n",
      "/home/ltindall/rfml-dev/rfml-dev/data.py:919: UserWarning: Matching spectrogram could not be found for annotation: {'core:freq_lower_edge': 5275280000.0, 'core:freq_upper_edge': 5284800000.0, 'core:label': 'wifi', 'core:sample_count': 27464, 'core:sample_start': 341300002}\n",
      "  warnings.warn(\n",
      "/home/ltindall/rfml-dev/rfml-dev/data.py:919: UserWarning: Matching spectrogram could not be found for annotation: {'core:freq_lower_edge': 5275360000.0, 'core:freq_upper_edge': 5285280000.0, 'core:label': 'wifi', 'core:sample_count': 16472, 'core:sample_start': 342352223}\n",
      "  warnings.warn(\n",
      "/home/ltindall/rfml-dev/rfml-dev/data.py:919: UserWarning: Matching spectrogram could not be found for annotation: {'core:freq_lower_edge': 5275440000.0, 'core:freq_upper_edge': 5284880000.0, 'core:label': 'wifi', 'core:sample_count': 41361, 'core:sample_start': 356504670}\n",
      "  warnings.warn(\n",
      "/home/ltindall/rfml-dev/rfml-dev/data.py:919: UserWarning: Matching spectrogram could not be found for annotation: {'core:freq_lower_edge': 5275360000.0, 'core:freq_upper_edge': 5284720000.0, 'core:label': 'wifi', 'core:sample_count': 40192, 'core:sample_start': 360706195}\n",
      "  warnings.warn(\n",
      "/home/ltindall/rfml-dev/rfml-dev/data.py:919: UserWarning: Matching spectrogram could not be found for annotation: {'core:freq_lower_edge': 5274880000.0, 'core:freq_upper_edge': 5284320000.0, 'core:label': 'wifi', 'core:sample_count': 32516, 'core:sample_start': 369086092}\n",
      "  warnings.warn(\n",
      "/home/ltindall/rfml-dev/rfml-dev/data.py:919: UserWarning: Matching spectrogram could not be found for annotation: {'core:freq_lower_edge': 5275280000.0, 'core:freq_upper_edge': 5285120000.0, 'core:label': 'wifi', 'core:sample_count': 14972, 'core:sample_start': 370142694}\n",
      "  warnings.warn(\n",
      "/home/ltindall/rfml-dev/rfml-dev/data.py:919: UserWarning: Matching spectrogram could not be found for annotation: {'core:freq_lower_edge': 5274720000.0, 'core:freq_upper_edge': 5284400000.0, 'core:label': 'wifi', 'core:sample_count': 21654, 'core:sample_start': 381671576}\n",
      "  warnings.warn(\n",
      "/home/ltindall/rfml-dev/rfml-dev/data.py:919: UserWarning: Matching spectrogram could not be found for annotation: {'core:freq_lower_edge': 5275040000.0, 'core:freq_upper_edge': 5284480000.0, 'core:label': 'wifi', 'core:sample_count': 35962, 'core:sample_start': 383246182}\n",
      "  warnings.warn(\n",
      "/home/ltindall/rfml-dev/rfml-dev/data.py:919: UserWarning: Matching spectrogram could not be found for annotation: {'core:freq_lower_edge': 5275440000.0, 'core:freq_upper_edge': 5284800000.0, 'core:label': 'wifi', 'core:sample_count': 40872, 'core:sample_start': 392681859}\n",
      "  warnings.warn(\n",
      "/home/ltindall/rfml-dev/rfml-dev/data.py:919: UserWarning: Matching spectrogram could not be found for annotation: {'core:freq_lower_edge': 5275040000.0, 'core:freq_upper_edge': 5284560000.0, 'core:label': 'wifi', 'core:sample_count': 27478, 'core:sample_start': 393732455}\n",
      "  warnings.warn(\n",
      "/home/ltindall/rfml-dev/rfml-dev/data.py:919: UserWarning: Matching spectrogram could not be found for annotation: {'core:freq_lower_edge': 5275600000.0, 'core:freq_upper_edge': 5285280000.0, 'core:label': 'wifi', 'core:sample_count': 21244, 'core:sample_start': 398448055}\n",
      "  warnings.warn(\n",
      "/home/ltindall/rfml-dev/rfml-dev/data.py:919: UserWarning: Matching spectrogram could not be found for annotation: {'core:freq_lower_edge': 5275200000.0, 'core:freq_upper_edge': 5284560000.0, 'core:label': 'wifi', 'core:sample_count': 40063, 'core:sample_start': 401079213}\n",
      "  warnings.warn(\n"
     ]
    },
    {
     "name": "stdout",
     "output_type": "stream",
     "text": [
      "Saving data/gamutrf/gamutrf-sd-gr-ieee-wifi/test_offline/wifi-encoding-0-sendsps-10000000.s16.zst.sigmf-meta\n",
      "\n",
      "Writing YOLO txt label files\n"
     ]
    },
    {
     "name": "stderr",
     "output_type": "stream",
     "text": [
      "\n",
      "  0%|                                                                                 | 0/1408 [00:00<?, ?it/s]\u001b[A\n",
      "  8%|█████▏                                                               | 107/1408 [00:00<00:01, 1062.69it/s]\u001b[A\n",
      " 15%|██████████▋                                                          | 218/1408 [00:00<00:01, 1087.50it/s]\u001b[A\n",
      " 25%|█████████████████▏                                                   | 351/1408 [00:00<00:00, 1196.78it/s]\u001b[A\n",
      " 33%|███████████████████████                                              | 471/1408 [00:00<00:00, 1176.04it/s]\u001b[A\n",
      " 42%|████████████████████████████▉                                        | 590/1408 [00:00<00:00, 1179.30it/s]\u001b[A\n",
      " 50%|██████████████████████████████████▋                                  | 708/1408 [00:00<00:00, 1100.59it/s]\u001b[A\n",
      "100%|████████████████████████████████████████████████████████████████████| 1408/1408 [00:00<00:00, 1913.30it/s]\u001b[A\n",
      "100%|████████████████████████████████████████████████████████████████████████████| 2/2 [00:08<00:00,  4.13s/it]\n"
     ]
    },
    {
     "name": "stdout",
     "output_type": "stream",
     "text": [
      "Saving data/gamutrf/gamutrf-sd-gr-ieee-wifi/test_offline/wifi-encoding-0-sendsps-10000000.s16.zst.sigmf-meta\n",
      "\n",
      "data/random_split exists, overwriting...\n",
      "Writing data.yaml\n",
      "Ultralytics YOLOv8.2.17 🚀 Python-3.10.9 torch-2.2.2+cu118 CUDA:0 (NVIDIA TITAN RTX, 24218MiB)\n",
      "\u001b[34m\u001b[1mengine/trainer: \u001b[0mtask=detect, mode=train, model=yolov8n.pt, data=data.yaml, epochs=40, time=None, patience=100, batch=32, imgsz=640, save=True, save_period=-1, cache=False, device=None, workers=8, project=exp1, name=05_17_2024_20_57_55, exist_ok=False, pretrained=True, optimizer=auto, verbose=True, seed=0, deterministic=True, single_cls=False, rect=False, cos_lr=False, close_mosaic=10, resume=False, amp=True, fraction=1.0, profile=False, freeze=None, multi_scale=False, overlap_mask=True, mask_ratio=4, dropout=0.0, val=True, split=val, save_json=False, save_hybrid=False, conf=None, iou=0.7, max_det=300, half=False, dnn=False, plots=True, source=None, vid_stride=1, stream_buffer=False, visualize=False, augment=False, agnostic_nms=False, classes=None, retina_masks=False, embed=None, show=False, save_frames=False, save_txt=False, save_conf=False, save_crop=False, show_labels=True, show_conf=True, show_boxes=True, line_width=None, format=torchscript, keras=False, optimize=False, int8=False, dynamic=False, simplify=False, opset=None, workspace=4, nms=False, lr0=0.01, lrf=0.01, momentum=0.937, weight_decay=0.0005, warmup_epochs=3.0, warmup_momentum=0.8, warmup_bias_lr=0.1, box=7.5, cls=0.5, dfl=1.5, pose=12.0, kobj=1.0, label_smoothing=0.0, nbs=64, hsv_h=0.015, hsv_s=0.7, hsv_v=0.4, degrees=0.0, translate=0.1, scale=0.5, shear=0.0, perspective=0.0, flipud=0.0, fliplr=0.5, bgr=0.0, mosaic=1.0, mixup=0.0, copy_paste=0.0, auto_augment=randaugment, erasing=0.4, crop_fraction=1.0, cfg=None, tracker=botsort.yaml, save_dir=exp1/exp1/spec_logs/05_17_2024_20_57_55\n",
      "Overriding model.yaml nc=80 with nc=2\n",
      "\n",
      "                   from  n    params  module                                       arguments                     \n",
      "  0                  -1  1       464  ultralytics.nn.modules.conv.Conv             [3, 16, 3, 2]                 \n",
      "  1                  -1  1      4672  ultralytics.nn.modules.conv.Conv             [16, 32, 3, 2]                \n",
      "  2                  -1  1      7360  ultralytics.nn.modules.block.C2f             [32, 32, 1, True]             \n",
      "  3                  -1  1     18560  ultralytics.nn.modules.conv.Conv             [32, 64, 3, 2]                \n",
      "  4                  -1  2     49664  ultralytics.nn.modules.block.C2f             [64, 64, 2, True]             \n",
      "  5                  -1  1     73984  ultralytics.nn.modules.conv.Conv             [64, 128, 3, 2]               \n",
      "  6                  -1  2    197632  ultralytics.nn.modules.block.C2f             [128, 128, 2, True]           \n",
      "  7                  -1  1    295424  ultralytics.nn.modules.conv.Conv             [128, 256, 3, 2]              \n",
      "  8                  -1  1    460288  ultralytics.nn.modules.block.C2f             [256, 256, 1, True]           \n",
      "  9                  -1  1    164608  ultralytics.nn.modules.block.SPPF            [256, 256, 5]                 \n",
      " 10                  -1  1         0  torch.nn.modules.upsampling.Upsample         [None, 2, 'nearest']          \n",
      " 11             [-1, 6]  1         0  ultralytics.nn.modules.conv.Concat           [1]                           \n",
      " 12                  -1  1    148224  ultralytics.nn.modules.block.C2f             [384, 128, 1]                 \n",
      " 13                  -1  1         0  torch.nn.modules.upsampling.Upsample         [None, 2, 'nearest']          \n",
      " 14             [-1, 4]  1         0  ultralytics.nn.modules.conv.Concat           [1]                           \n",
      " 15                  -1  1     37248  ultralytics.nn.modules.block.C2f             [192, 64, 1]                  \n",
      " 16                  -1  1     36992  ultralytics.nn.modules.conv.Conv             [64, 64, 3, 2]                \n",
      " 17            [-1, 12]  1         0  ultralytics.nn.modules.conv.Concat           [1]                           \n",
      " 18                  -1  1    123648  ultralytics.nn.modules.block.C2f             [192, 128, 1]                 \n",
      " 19                  -1  1    147712  ultralytics.nn.modules.conv.Conv             [128, 128, 3, 2]              \n",
      " 20             [-1, 9]  1         0  ultralytics.nn.modules.conv.Concat           [1]                           \n",
      " 21                  -1  1    493056  ultralytics.nn.modules.block.C2f             [384, 256, 1]                 \n",
      " 22        [15, 18, 21]  1    751702  ultralytics.nn.modules.head.Detect           [2, [64, 128, 256]]           \n",
      "Model summary: 225 layers, 3011238 parameters, 3011222 gradients, 8.2 GFLOPs\n",
      "\n",
      "Transferred 319/355 items from pretrained weights\n",
      "\u001b[34m\u001b[1mTensorBoard: \u001b[0mStart with 'tensorboard --logdir exp1/exp1/spec_logs/05_17_2024_20_57_55', view at http://localhost:6006/\n",
      "Freezing layer 'model.22.dfl.conv.weight'\n",
      "\u001b[34m\u001b[1mAMP: \u001b[0mrunning Automatic Mixed Precision (AMP) checks with YOLOv8n...\n",
      "\u001b[34m\u001b[1mAMP: \u001b[0mchecks passed ✅\n"
     ]
    },
    {
     "name": "stderr",
     "output_type": "stream",
     "text": [
      "\u001b[34m\u001b[1mtrain: \u001b[0mScanning /home/ltindall/data/random_split/train/labels... 1004 images, 0 backgrounds, 1 corrupt: 100%|██\u001b[0m"
     ]
    },
    {
     "name": "stdout",
     "output_type": "stream",
     "text": [
      "\u001b[34m\u001b[1mtrain: \u001b[0mWARNING ⚠️ /home/ltindall/data/random_split/train/images/wifi-encoding-0-sendsps-10000000.s16.zst.sigmf-data_361234432.png: ignoring corrupt image/label: negative label values [ -0.0019531]\n"
     ]
    },
    {
     "name": "stderr",
     "output_type": "stream",
     "text": [
      "\n"
     ]
    },
    {
     "name": "stdout",
     "output_type": "stream",
     "text": [
      "\u001b[34m\u001b[1mtrain: \u001b[0mNew cache created: /home/ltindall/data/random_split/train/labels.cache\n"
     ]
    },
    {
     "name": "stderr",
     "output_type": "stream",
     "text": [
      "\u001b[34m\u001b[1mval: \u001b[0mScanning /home/ltindall/data/random_split/val/labels... 251 images, 0 backgrounds, 0 corrupt: 100%|███████\u001b[0m"
     ]
    },
    {
     "name": "stdout",
     "output_type": "stream",
     "text": [
      "\u001b[34m\u001b[1mval: \u001b[0mNew cache created: /home/ltindall/data/random_split/val/labels.cache\n"
     ]
    },
    {
     "name": "stderr",
     "output_type": "stream",
     "text": [
      "\n"
     ]
    },
    {
     "name": "stdout",
     "output_type": "stream",
     "text": [
      "Plotting labels to exp1/exp1/spec_logs/05_17_2024_20_57_55/labels.jpg... \n",
      "\u001b[34m\u001b[1moptimizer:\u001b[0m 'optimizer=auto' found, ignoring 'lr0=0.01' and 'momentum=0.937' and determining best 'optimizer', 'lr0' and 'momentum' automatically... \n",
      "\u001b[34m\u001b[1moptimizer:\u001b[0m AdamW(lr=0.001667, momentum=0.9) with parameter groups 57 weight(decay=0.0), 64 weight(decay=0.0005), 63 bias(decay=0.0)\n",
      "\u001b[34m\u001b[1mTensorBoard: \u001b[0mmodel graph visualization added ✅\n",
      "Image sizes 640 train, 640 val\n",
      "Using 8 dataloader workers\n",
      "Logging results to \u001b[1mexp1/exp1/spec_logs/05_17_2024_20_57_55\u001b[0m\n",
      "Starting training for 40 epochs...\n",
      "\n",
      "      Epoch    GPU_mem   box_loss   cls_loss   dfl_loss  Instances       Size\n"
     ]
    },
    {
     "name": "stderr",
     "output_type": "stream",
     "text": [
      "       1/40      4.62G      1.788      2.965      1.557         30        640: 100%|██████████| 32/32 [00:05<00\n",
      "                 Class     Images  Instances      Box(P          R      mAP50  mAP50-95): 100%|██████████| 4/4 "
     ]
    },
    {
     "name": "stdout",
     "output_type": "stream",
     "text": [
      "                   all        251        346    0.00436      0.943     0.0847     0.0512\n"
     ]
    },
    {
     "name": "stderr",
     "output_type": "stream",
     "text": [
      "\n"
     ]
    },
    {
     "name": "stdout",
     "output_type": "stream",
     "text": [
      "\n",
      "      Epoch    GPU_mem   box_loss   cls_loss   dfl_loss  Instances       Size\n"
     ]
    },
    {
     "name": "stderr",
     "output_type": "stream",
     "text": [
      "       2/40      4.58G       1.19      1.737      1.337         37        640: 100%|██████████| 32/32 [00:04<00\n",
      "                 Class     Images  Instances      Box(P          R      mAP50  mAP50-95): 100%|██████████| 4/4 "
     ]
    },
    {
     "name": "stdout",
     "output_type": "stream",
     "text": [
      "                   all        251        346     0.0253      0.911      0.435      0.307\n"
     ]
    },
    {
     "name": "stderr",
     "output_type": "stream",
     "text": [
      "\n"
     ]
    },
    {
     "name": "stdout",
     "output_type": "stream",
     "text": [
      "\n",
      "      Epoch    GPU_mem   box_loss   cls_loss   dfl_loss  Instances       Size\n"
     ]
    },
    {
     "name": "stderr",
     "output_type": "stream",
     "text": [
      "       3/40      4.58G      1.183      1.601      1.294         28        640: 100%|██████████| 32/32 [00:04<00\n",
      "                 Class     Images  Instances      Box(P          R      mAP50  mAP50-95): 100%|██████████| 4/4 "
     ]
    },
    {
     "name": "stdout",
     "output_type": "stream",
     "text": [
      "                   all        251        346      0.471      0.644      0.466      0.323\n"
     ]
    },
    {
     "name": "stderr",
     "output_type": "stream",
     "text": [
      "\n"
     ]
    },
    {
     "name": "stdout",
     "output_type": "stream",
     "text": [
      "\n",
      "      Epoch    GPU_mem   box_loss   cls_loss   dfl_loss  Instances       Size\n"
     ]
    },
    {
     "name": "stderr",
     "output_type": "stream",
     "text": [
      "       4/40      4.58G      1.069      1.439      1.255         33        640: 100%|██████████| 32/32 [00:04<00\n",
      "                 Class     Images  Instances      Box(P          R      mAP50  mAP50-95): 100%|██████████| 4/4 "
     ]
    },
    {
     "name": "stdout",
     "output_type": "stream",
     "text": [
      "                   all        251        346      0.452       0.95        0.5      0.292\n"
     ]
    },
    {
     "name": "stderr",
     "output_type": "stream",
     "text": [
      "\n"
     ]
    },
    {
     "name": "stdout",
     "output_type": "stream",
     "text": [
      "\n",
      "      Epoch    GPU_mem   box_loss   cls_loss   dfl_loss  Instances       Size\n"
     ]
    },
    {
     "name": "stderr",
     "output_type": "stream",
     "text": [
      "       5/40      4.58G      1.043      1.364      1.242         27        640: 100%|██████████| 32/32 [00:04<00\n",
      "                 Class     Images  Instances      Box(P          R      mAP50  mAP50-95): 100%|██████████| 4/4 "
     ]
    },
    {
     "name": "stdout",
     "output_type": "stream",
     "text": [
      "                   all        251        346      0.462      0.878      0.505      0.368\n"
     ]
    },
    {
     "name": "stderr",
     "output_type": "stream",
     "text": [
      "\n"
     ]
    },
    {
     "name": "stdout",
     "output_type": "stream",
     "text": [
      "\n",
      "      Epoch    GPU_mem   box_loss   cls_loss   dfl_loss  Instances       Size\n"
     ]
    },
    {
     "name": "stderr",
     "output_type": "stream",
     "text": [
      "       6/40      4.55G      1.067      1.306      1.248         30        640: 100%|██████████| 32/32 [00:04<00\n",
      "                 Class     Images  Instances      Box(P          R      mAP50  mAP50-95): 100%|██████████| 4/4 "
     ]
    },
    {
     "name": "stdout",
     "output_type": "stream",
     "text": [
      "                   all        251        346      0.453      0.801      0.481       0.28\n"
     ]
    },
    {
     "name": "stderr",
     "output_type": "stream",
     "text": [
      "\n"
     ]
    },
    {
     "name": "stdout",
     "output_type": "stream",
     "text": [
      "\n",
      "      Epoch    GPU_mem   box_loss   cls_loss   dfl_loss  Instances       Size\n"
     ]
    },
    {
     "name": "stderr",
     "output_type": "stream",
     "text": [
      "       7/40      4.58G       1.04      1.243      1.248         50        640: 100%|██████████| 32/32 [00:04<00\n",
      "                 Class     Images  Instances      Box(P          R      mAP50  mAP50-95): 100%|██████████| 4/4 "
     ]
    },
    {
     "name": "stdout",
     "output_type": "stream",
     "text": [
      "                   all        251        346      0.466       0.92        0.5      0.355\n"
     ]
    },
    {
     "name": "stderr",
     "output_type": "stream",
     "text": [
      "\n"
     ]
    },
    {
     "name": "stdout",
     "output_type": "stream",
     "text": [
      "\n",
      "      Epoch    GPU_mem   box_loss   cls_loss   dfl_loss  Instances       Size\n"
     ]
    },
    {
     "name": "stderr",
     "output_type": "stream",
     "text": [
      "       8/40      4.58G     0.9658      1.184       1.22         33        640: 100%|██████████| 32/32 [00:04<00\n",
      "                 Class     Images  Instances      Box(P          R      mAP50  mAP50-95): 100%|██████████| 4/4 "
     ]
    },
    {
     "name": "stdout",
     "output_type": "stream",
     "text": [
      "                   all        251        346      0.473      0.938      0.499      0.328\n"
     ]
    },
    {
     "name": "stderr",
     "output_type": "stream",
     "text": [
      "\n"
     ]
    },
    {
     "name": "stdout",
     "output_type": "stream",
     "text": [
      "\n",
      "      Epoch    GPU_mem   box_loss   cls_loss   dfl_loss  Instances       Size\n"
     ]
    },
    {
     "name": "stderr",
     "output_type": "stream",
     "text": [
      "       9/40      4.58G     0.9269      1.154      1.215         37        640: 100%|██████████| 32/32 [00:04<00\n",
      "                 Class     Images  Instances      Box(P          R      mAP50  mAP50-95): 100%|██████████| 4/4 "
     ]
    },
    {
     "name": "stdout",
     "output_type": "stream",
     "text": [
      "                   all        251        346      0.463      0.918      0.504      0.353\n"
     ]
    },
    {
     "name": "stderr",
     "output_type": "stream",
     "text": [
      "\n"
     ]
    },
    {
     "name": "stdout",
     "output_type": "stream",
     "text": [
      "\n",
      "      Epoch    GPU_mem   box_loss   cls_loss   dfl_loss  Instances       Size\n"
     ]
    },
    {
     "name": "stderr",
     "output_type": "stream",
     "text": [
      "      10/40      4.58G     0.9462      1.152      1.218         41        640: 100%|██████████| 32/32 [00:04<00\n",
      "                 Class     Images  Instances      Box(P          R      mAP50  mAP50-95): 100%|██████████| 4/4 "
     ]
    },
    {
     "name": "stdout",
     "output_type": "stream",
     "text": [
      "                   all        251        346      0.474      0.925      0.509      0.338\n"
     ]
    },
    {
     "name": "stderr",
     "output_type": "stream",
     "text": [
      "\n"
     ]
    },
    {
     "name": "stdout",
     "output_type": "stream",
     "text": [
      "\n",
      "      Epoch    GPU_mem   box_loss   cls_loss   dfl_loss  Instances       Size\n"
     ]
    },
    {
     "name": "stderr",
     "output_type": "stream",
     "text": [
      "      11/40      4.59G      1.003      1.146      1.213         27        640: 100%|██████████| 32/32 [00:04<00\n",
      "                 Class     Images  Instances      Box(P          R      mAP50  mAP50-95): 100%|██████████| 4/4 "
     ]
    },
    {
     "name": "stdout",
     "output_type": "stream",
     "text": [
      "                   all        251        346      0.471      0.875      0.502      0.351\n"
     ]
    },
    {
     "name": "stderr",
     "output_type": "stream",
     "text": [
      "\n"
     ]
    },
    {
     "name": "stdout",
     "output_type": "stream",
     "text": [
      "\n",
      "      Epoch    GPU_mem   box_loss   cls_loss   dfl_loss  Instances       Size\n"
     ]
    },
    {
     "name": "stderr",
     "output_type": "stream",
     "text": [
      "      12/40      4.58G     0.9489      1.111      1.223         41        640: 100%|██████████| 32/32 [00:04<00\n",
      "                 Class     Images  Instances      Box(P          R      mAP50  mAP50-95): 100%|██████████| 4/4 "
     ]
    },
    {
     "name": "stdout",
     "output_type": "stream",
     "text": [
      "                   all        251        346      0.475      0.912       0.51       0.36\n"
     ]
    },
    {
     "name": "stderr",
     "output_type": "stream",
     "text": [
      "\n"
     ]
    },
    {
     "name": "stdout",
     "output_type": "stream",
     "text": [
      "\n",
      "      Epoch    GPU_mem   box_loss   cls_loss   dfl_loss  Instances       Size\n"
     ]
    },
    {
     "name": "stderr",
     "output_type": "stream",
     "text": [
      "      13/40      4.58G     0.9004      1.081      1.216         37        640: 100%|██████████| 32/32 [00:04<00\n",
      "                 Class     Images  Instances      Box(P          R      mAP50  mAP50-95): 100%|██████████| 4/4 "
     ]
    },
    {
     "name": "stdout",
     "output_type": "stream",
     "text": [
      "                   all        251        346      0.477      0.954       0.52      0.379\n"
     ]
    },
    {
     "name": "stderr",
     "output_type": "stream",
     "text": [
      "\n"
     ]
    },
    {
     "name": "stdout",
     "output_type": "stream",
     "text": [
      "\n",
      "      Epoch    GPU_mem   box_loss   cls_loss   dfl_loss  Instances       Size\n"
     ]
    },
    {
     "name": "stderr",
     "output_type": "stream",
     "text": [
      "      14/40      4.55G     0.8837      1.069       1.21         31        640: 100%|██████████| 32/32 [00:04<00\n",
      "                 Class     Images  Instances      Box(P          R      mAP50  mAP50-95): 100%|██████████| 4/4 "
     ]
    },
    {
     "name": "stdout",
     "output_type": "stream",
     "text": [
      "                   all        251        346      0.475      0.947      0.513      0.396\n"
     ]
    },
    {
     "name": "stderr",
     "output_type": "stream",
     "text": [
      "\n"
     ]
    },
    {
     "name": "stdout",
     "output_type": "stream",
     "text": [
      "\n",
      "      Epoch    GPU_mem   box_loss   cls_loss   dfl_loss  Instances       Size\n"
     ]
    },
    {
     "name": "stderr",
     "output_type": "stream",
     "text": [
      "      15/40      4.58G     0.8659       1.04      1.194         26        640: 100%|██████████| 32/32 [00:04<00\n",
      "                 Class     Images  Instances      Box(P          R      mAP50  mAP50-95): 100%|██████████| 4/4 "
     ]
    },
    {
     "name": "stdout",
     "output_type": "stream",
     "text": [
      "                   all        251        346      0.479      0.942      0.506      0.388\n"
     ]
    },
    {
     "name": "stderr",
     "output_type": "stream",
     "text": [
      "\n"
     ]
    },
    {
     "name": "stdout",
     "output_type": "stream",
     "text": [
      "\n",
      "      Epoch    GPU_mem   box_loss   cls_loss   dfl_loss  Instances       Size\n"
     ]
    },
    {
     "name": "stderr",
     "output_type": "stream",
     "text": [
      "      16/40      4.58G     0.8506      1.047      1.191         47        640: 100%|██████████| 32/32 [00:04<00\n",
      "                 Class     Images  Instances      Box(P          R      mAP50  mAP50-95): 100%|██████████| 4/4 "
     ]
    },
    {
     "name": "stdout",
     "output_type": "stream",
     "text": [
      "                   all        251        346      0.472      0.917      0.512      0.368\n"
     ]
    },
    {
     "name": "stderr",
     "output_type": "stream",
     "text": [
      "\n"
     ]
    },
    {
     "name": "stdout",
     "output_type": "stream",
     "text": [
      "\n",
      "      Epoch    GPU_mem   box_loss   cls_loss   dfl_loss  Instances       Size\n"
     ]
    },
    {
     "name": "stderr",
     "output_type": "stream",
     "text": [
      "      17/40      4.58G     0.8371       1.03       1.19         34        640: 100%|██████████| 32/32 [00:04<00\n",
      "                 Class     Images  Instances      Box(P          R      mAP50  mAP50-95): 100%|██████████| 4/4 "
     ]
    },
    {
     "name": "stdout",
     "output_type": "stream",
     "text": [
      "                   all        251        346      0.484      0.939      0.525      0.401\n"
     ]
    },
    {
     "name": "stderr",
     "output_type": "stream",
     "text": [
      "\n"
     ]
    },
    {
     "name": "stdout",
     "output_type": "stream",
     "text": [
      "\n",
      "      Epoch    GPU_mem   box_loss   cls_loss   dfl_loss  Instances       Size\n"
     ]
    },
    {
     "name": "stderr",
     "output_type": "stream",
     "text": [
      "      18/40      4.58G     0.8449      1.028        1.2         35        640: 100%|██████████| 32/32 [00:04<00\n",
      "                 Class     Images  Instances      Box(P          R      mAP50  mAP50-95): 100%|██████████| 4/4 "
     ]
    },
    {
     "name": "stdout",
     "output_type": "stream",
     "text": [
      "                   all        251        346      0.472      0.938      0.517      0.391\n"
     ]
    },
    {
     "name": "stderr",
     "output_type": "stream",
     "text": [
      "\n"
     ]
    },
    {
     "name": "stdout",
     "output_type": "stream",
     "text": [
      "\n",
      "      Epoch    GPU_mem   box_loss   cls_loss   dfl_loss  Instances       Size\n"
     ]
    },
    {
     "name": "stderr",
     "output_type": "stream",
     "text": [
      "      19/40      4.58G     0.8098      1.006       1.19         34        640: 100%|██████████| 32/32 [00:04<00\n",
      "                 Class     Images  Instances      Box(P          R      mAP50  mAP50-95): 100%|██████████| 4/4 "
     ]
    },
    {
     "name": "stdout",
     "output_type": "stream",
     "text": [
      "                   all        251        346      0.489      0.888      0.514        0.4\n"
     ]
    },
    {
     "name": "stderr",
     "output_type": "stream",
     "text": [
      "\n"
     ]
    },
    {
     "name": "stdout",
     "output_type": "stream",
     "text": [
      "\n",
      "      Epoch    GPU_mem   box_loss   cls_loss   dfl_loss  Instances       Size\n"
     ]
    },
    {
     "name": "stderr",
     "output_type": "stream",
     "text": [
      "      20/40      4.55G     0.8416      1.017      1.191         30        640: 100%|██████████| 32/32 [00:04<00\n",
      "                 Class     Images  Instances      Box(P          R      mAP50  mAP50-95): 100%|██████████| 4/4 "
     ]
    },
    {
     "name": "stdout",
     "output_type": "stream",
     "text": [
      "                   all        251        346      0.464      0.951      0.523      0.403\n"
     ]
    },
    {
     "name": "stderr",
     "output_type": "stream",
     "text": [
      "\n"
     ]
    },
    {
     "name": "stdout",
     "output_type": "stream",
     "text": [
      "\n",
      "      Epoch    GPU_mem   box_loss   cls_loss   dfl_loss  Instances       Size\n"
     ]
    },
    {
     "name": "stderr",
     "output_type": "stream",
     "text": [
      "      21/40      4.58G     0.8568      1.024      1.196         35        640: 100%|██████████| 32/32 [00:04<00\n",
      "                 Class     Images  Instances      Box(P          R      mAP50  mAP50-95): 100%|██████████| 4/4 "
     ]
    },
    {
     "name": "stdout",
     "output_type": "stream",
     "text": [
      "                   all        251        346       0.48      0.895      0.519      0.393\n"
     ]
    },
    {
     "name": "stderr",
     "output_type": "stream",
     "text": [
      "\n"
     ]
    },
    {
     "name": "stdout",
     "output_type": "stream",
     "text": [
      "\n",
      "      Epoch    GPU_mem   box_loss   cls_loss   dfl_loss  Instances       Size\n"
     ]
    },
    {
     "name": "stderr",
     "output_type": "stream",
     "text": [
      "      22/40      4.58G     0.8241          1      1.175         34        640: 100%|██████████| 32/32 [00:04<00\n",
      "                 Class     Images  Instances      Box(P          R      mAP50  mAP50-95): 100%|██████████| 4/4 "
     ]
    },
    {
     "name": "stdout",
     "output_type": "stream",
     "text": [
      "                   all        251        346      0.474      0.934      0.514      0.403\n"
     ]
    },
    {
     "name": "stderr",
     "output_type": "stream",
     "text": [
      "\n"
     ]
    },
    {
     "name": "stdout",
     "output_type": "stream",
     "text": [
      "\n",
      "      Epoch    GPU_mem   box_loss   cls_loss   dfl_loss  Instances       Size\n"
     ]
    },
    {
     "name": "stderr",
     "output_type": "stream",
     "text": [
      "      23/40      4.55G     0.8013     0.9925       1.17         36        640: 100%|██████████| 32/32 [00:04<00\n",
      "                 Class     Images  Instances      Box(P          R      mAP50  mAP50-95): 100%|██████████| 4/4 "
     ]
    },
    {
     "name": "stdout",
     "output_type": "stream",
     "text": [
      "                   all        251        346      0.482      0.945      0.522      0.407\n"
     ]
    },
    {
     "name": "stderr",
     "output_type": "stream",
     "text": [
      "\n"
     ]
    },
    {
     "name": "stdout",
     "output_type": "stream",
     "text": [
      "\n",
      "      Epoch    GPU_mem   box_loss   cls_loss   dfl_loss  Instances       Size\n"
     ]
    },
    {
     "name": "stderr",
     "output_type": "stream",
     "text": [
      "      24/40      4.58G     0.7917     0.9873      1.166         38        640: 100%|██████████| 32/32 [00:04<00\n",
      "                 Class     Images  Instances      Box(P          R      mAP50  mAP50-95): 100%|██████████| 4/4 "
     ]
    },
    {
     "name": "stdout",
     "output_type": "stream",
     "text": [
      "                   all        251        346      0.476      0.913      0.509      0.392\n"
     ]
    },
    {
     "name": "stderr",
     "output_type": "stream",
     "text": [
      "\n"
     ]
    },
    {
     "name": "stdout",
     "output_type": "stream",
     "text": [
      "\n",
      "      Epoch    GPU_mem   box_loss   cls_loss   dfl_loss  Instances       Size\n"
     ]
    },
    {
     "name": "stderr",
     "output_type": "stream",
     "text": [
      "      25/40      4.58G     0.7796     0.9825      1.169         40        640: 100%|██████████| 32/32 [00:04<00\n",
      "                 Class     Images  Instances      Box(P          R      mAP50  mAP50-95): 100%|██████████| 4/4 "
     ]
    },
    {
     "name": "stdout",
     "output_type": "stream",
     "text": [
      "                   all        251        346       0.49      0.913       0.52      0.393\n"
     ]
    },
    {
     "name": "stderr",
     "output_type": "stream",
     "text": [
      "\n"
     ]
    },
    {
     "name": "stdout",
     "output_type": "stream",
     "text": [
      "\n",
      "      Epoch    GPU_mem   box_loss   cls_loss   dfl_loss  Instances       Size\n"
     ]
    },
    {
     "name": "stderr",
     "output_type": "stream",
     "text": [
      "      26/40      4.58G     0.7855     0.9811      1.178         37        640: 100%|██████████| 32/32 [00:04<00\n",
      "                 Class     Images  Instances      Box(P          R      mAP50  mAP50-95): 100%|██████████| 4/4 "
     ]
    },
    {
     "name": "stdout",
     "output_type": "stream",
     "text": [
      "                   all        251        346      0.475       0.92      0.516      0.412\n"
     ]
    },
    {
     "name": "stderr",
     "output_type": "stream",
     "text": [
      "\n"
     ]
    },
    {
     "name": "stdout",
     "output_type": "stream",
     "text": [
      "\n",
      "      Epoch    GPU_mem   box_loss   cls_loss   dfl_loss  Instances       Size\n"
     ]
    },
    {
     "name": "stderr",
     "output_type": "stream",
     "text": [
      "      27/40      4.58G     0.7762     0.9736      1.176         26        640: 100%|██████████| 32/32 [00:04<00\n",
      "                 Class     Images  Instances      Box(P          R      mAP50  mAP50-95): 100%|██████████| 4/4 "
     ]
    },
    {
     "name": "stdout",
     "output_type": "stream",
     "text": [
      "                   all        251        346      0.483      0.937      0.513      0.398\n"
     ]
    },
    {
     "name": "stderr",
     "output_type": "stream",
     "text": [
      "\n"
     ]
    },
    {
     "name": "stdout",
     "output_type": "stream",
     "text": [
      "\n",
      "      Epoch    GPU_mem   box_loss   cls_loss   dfl_loss  Instances       Size\n"
     ]
    },
    {
     "name": "stderr",
     "output_type": "stream",
     "text": [
      "      28/40      4.58G     0.7755     0.9716      1.174         27        640: 100%|██████████| 32/32 [00:04<00\n",
      "                 Class     Images  Instances      Box(P          R      mAP50  mAP50-95): 100%|██████████| 4/4 "
     ]
    },
    {
     "name": "stdout",
     "output_type": "stream",
     "text": [
      "                   all        251        346      0.478      0.909      0.526      0.417\n"
     ]
    },
    {
     "name": "stderr",
     "output_type": "stream",
     "text": [
      "\n"
     ]
    },
    {
     "name": "stdout",
     "output_type": "stream",
     "text": [
      "\n",
      "      Epoch    GPU_mem   box_loss   cls_loss   dfl_loss  Instances       Size\n"
     ]
    },
    {
     "name": "stderr",
     "output_type": "stream",
     "text": [
      "      29/40      4.58G     0.7395     0.9636       1.17         31        640: 100%|██████████| 32/32 [00:04<00\n",
      "                 Class     Images  Instances      Box(P          R      mAP50  mAP50-95): 100%|██████████| 4/4 "
     ]
    },
    {
     "name": "stdout",
     "output_type": "stream",
     "text": [
      "                   all        251        346      0.467      0.951      0.521      0.411\n"
     ]
    },
    {
     "name": "stderr",
     "output_type": "stream",
     "text": [
      "\n"
     ]
    },
    {
     "name": "stdout",
     "output_type": "stream",
     "text": [
      "\n",
      "      Epoch    GPU_mem   box_loss   cls_loss   dfl_loss  Instances       Size\n"
     ]
    },
    {
     "name": "stderr",
     "output_type": "stream",
     "text": [
      "      30/40      4.55G     0.7565     0.9724      1.169         36        640: 100%|██████████| 32/32 [00:04<00\n",
      "                 Class     Images  Instances      Box(P          R      mAP50  mAP50-95): 100%|██████████| 4/4 "
     ]
    },
    {
     "name": "stdout",
     "output_type": "stream",
     "text": [
      "                   all        251        346      0.476      0.933      0.512      0.411\n"
     ]
    },
    {
     "name": "stderr",
     "output_type": "stream",
     "text": [
      "\n"
     ]
    },
    {
     "name": "stdout",
     "output_type": "stream",
     "text": [
      "Closing dataloader mosaic\n",
      "\n",
      "      Epoch    GPU_mem   box_loss   cls_loss   dfl_loss  Instances       Size\n"
     ]
    },
    {
     "name": "stderr",
     "output_type": "stream",
     "text": [
      "      31/40      4.73G     0.8345     0.9887      1.181         15        640: 100%|██████████| 32/32 [00:04<00\n",
      "                 Class     Images  Instances      Box(P          R      mAP50  mAP50-95): 100%|██████████| 4/4 "
     ]
    },
    {
     "name": "stdout",
     "output_type": "stream",
     "text": [
      "                   all        251        346       0.48      0.923      0.516      0.407\n"
     ]
    },
    {
     "name": "stderr",
     "output_type": "stream",
     "text": [
      "\n"
     ]
    },
    {
     "name": "stdout",
     "output_type": "stream",
     "text": [
      "\n",
      "      Epoch    GPU_mem   box_loss   cls_loss   dfl_loss  Instances       Size\n"
     ]
    },
    {
     "name": "stderr",
     "output_type": "stream",
     "text": [
      "      32/40      4.55G     0.8035      0.958      1.185         16        640: 100%|██████████| 32/32 [00:04<00\n",
      "                 Class     Images  Instances      Box(P          R      mAP50  mAP50-95): 100%|██████████| 4/4 "
     ]
    },
    {
     "name": "stdout",
     "output_type": "stream",
     "text": [
      "                   all        251        346      0.493      0.953      0.516      0.405\n"
     ]
    },
    {
     "name": "stderr",
     "output_type": "stream",
     "text": [
      "\n"
     ]
    },
    {
     "name": "stdout",
     "output_type": "stream",
     "text": [
      "\n",
      "      Epoch    GPU_mem   box_loss   cls_loss   dfl_loss  Instances       Size\n"
     ]
    },
    {
     "name": "stderr",
     "output_type": "stream",
     "text": [
      "      33/40      4.55G     0.8145     0.9481      1.203         18        640: 100%|██████████| 32/32 [00:04<00\n",
      "                 Class     Images  Instances      Box(P          R      mAP50  mAP50-95): 100%|██████████| 4/4 "
     ]
    },
    {
     "name": "stdout",
     "output_type": "stream",
     "text": [
      "                   all        251        346      0.479      0.898      0.511      0.404\n"
     ]
    },
    {
     "name": "stderr",
     "output_type": "stream",
     "text": [
      "\n"
     ]
    },
    {
     "name": "stdout",
     "output_type": "stream",
     "text": [
      "\n",
      "      Epoch    GPU_mem   box_loss   cls_loss   dfl_loss  Instances       Size\n"
     ]
    },
    {
     "name": "stderr",
     "output_type": "stream",
     "text": [
      "      34/40      4.55G     0.7859      0.948       1.18         20        640: 100%|██████████| 32/32 [00:04<00\n",
      "                 Class     Images  Instances      Box(P          R      mAP50  mAP50-95): 100%|██████████| 4/4 "
     ]
    },
    {
     "name": "stdout",
     "output_type": "stream",
     "text": [
      "                   all        251        346      0.482      0.932      0.515      0.404\n"
     ]
    },
    {
     "name": "stderr",
     "output_type": "stream",
     "text": [
      "\n"
     ]
    },
    {
     "name": "stdout",
     "output_type": "stream",
     "text": [
      "\n",
      "      Epoch    GPU_mem   box_loss   cls_loss   dfl_loss  Instances       Size\n"
     ]
    },
    {
     "name": "stderr",
     "output_type": "stream",
     "text": [
      "      35/40      4.55G     0.7964     0.9367      1.169         18        640: 100%|██████████| 32/32 [00:04<00\n",
      "                 Class     Images  Instances      Box(P          R      mAP50  mAP50-95): 100%|██████████| 4/4 "
     ]
    },
    {
     "name": "stdout",
     "output_type": "stream",
     "text": [
      "                   all        251        346      0.488      0.946      0.515      0.415\n"
     ]
    },
    {
     "name": "stderr",
     "output_type": "stream",
     "text": [
      "\n"
     ]
    },
    {
     "name": "stdout",
     "output_type": "stream",
     "text": [
      "\n",
      "      Epoch    GPU_mem   box_loss   cls_loss   dfl_loss  Instances       Size\n"
     ]
    },
    {
     "name": "stderr",
     "output_type": "stream",
     "text": [
      "      36/40      4.55G     0.7585     0.9312      1.163         14        640: 100%|██████████| 32/32 [00:04<00\n",
      "                 Class     Images  Instances      Box(P          R      mAP50  mAP50-95): 100%|██████████| 4/4 "
     ]
    },
    {
     "name": "stdout",
     "output_type": "stream",
     "text": [
      "                   all        251        346      0.483      0.937      0.515      0.416\n"
     ]
    },
    {
     "name": "stderr",
     "output_type": "stream",
     "text": [
      "\n"
     ]
    },
    {
     "name": "stdout",
     "output_type": "stream",
     "text": [
      "\n",
      "      Epoch    GPU_mem   box_loss   cls_loss   dfl_loss  Instances       Size\n"
     ]
    },
    {
     "name": "stderr",
     "output_type": "stream",
     "text": [
      "      37/40      4.55G     0.7744     0.9291      1.169         16        640: 100%|██████████| 32/32 [00:04<00\n",
      "                 Class     Images  Instances      Box(P          R      mAP50  mAP50-95): 100%|██████████| 4/4 "
     ]
    },
    {
     "name": "stdout",
     "output_type": "stream",
     "text": [
      "                   all        251        346      0.487       0.94      0.516       0.41\n"
     ]
    },
    {
     "name": "stderr",
     "output_type": "stream",
     "text": [
      "\n"
     ]
    },
    {
     "name": "stdout",
     "output_type": "stream",
     "text": [
      "\n",
      "      Epoch    GPU_mem   box_loss   cls_loss   dfl_loss  Instances       Size\n"
     ]
    },
    {
     "name": "stderr",
     "output_type": "stream",
     "text": [
      "      38/40      4.55G     0.7583     0.9229      1.166         15        640: 100%|██████████| 32/32 [00:04<00\n",
      "                 Class     Images  Instances      Box(P          R      mAP50  mAP50-95): 100%|██████████| 4/4 "
     ]
    },
    {
     "name": "stdout",
     "output_type": "stream",
     "text": [
      "                   all        251        346      0.494      0.937       0.51      0.414\n"
     ]
    },
    {
     "name": "stderr",
     "output_type": "stream",
     "text": [
      "\n"
     ]
    },
    {
     "name": "stdout",
     "output_type": "stream",
     "text": [
      "\n",
      "      Epoch    GPU_mem   box_loss   cls_loss   dfl_loss  Instances       Size\n"
     ]
    },
    {
     "name": "stderr",
     "output_type": "stream",
     "text": [
      "      39/40      4.55G     0.7282     0.9098      1.167         16        640: 100%|██████████| 32/32 [00:04<00\n",
      "                 Class     Images  Instances      Box(P          R      mAP50  mAP50-95): 100%|██████████| 4/4 "
     ]
    },
    {
     "name": "stdout",
     "output_type": "stream",
     "text": [
      "                   all        251        346      0.489      0.957      0.516      0.416\n"
     ]
    },
    {
     "name": "stderr",
     "output_type": "stream",
     "text": [
      "\n"
     ]
    },
    {
     "name": "stdout",
     "output_type": "stream",
     "text": [
      "\n",
      "      Epoch    GPU_mem   box_loss   cls_loss   dfl_loss  Instances       Size\n"
     ]
    },
    {
     "name": "stderr",
     "output_type": "stream",
     "text": [
      "      40/40      4.55G     0.7288     0.9006      1.157         19        640: 100%|██████████| 32/32 [00:04<00\n",
      "                 Class     Images  Instances      Box(P          R      mAP50  mAP50-95): 100%|██████████| 4/4 "
     ]
    },
    {
     "name": "stdout",
     "output_type": "stream",
     "text": [
      "                   all        251        346      0.489      0.954      0.517      0.424\n"
     ]
    },
    {
     "name": "stderr",
     "output_type": "stream",
     "text": [
      "\n"
     ]
    },
    {
     "name": "stdout",
     "output_type": "stream",
     "text": [
      "\n",
      "40 epochs completed in 0.059 hours.\n",
      "Optimizer stripped from exp1/exp1/spec_logs/05_17_2024_20_57_55/weights/last.pt, 6.2MB\n",
      "Optimizer stripped from exp1/exp1/spec_logs/05_17_2024_20_57_55/weights/best.pt, 6.2MB\n",
      "\n",
      "Validating exp1/exp1/spec_logs/05_17_2024_20_57_55/weights/best.pt...\n",
      "Ultralytics YOLOv8.2.17 🚀 Python-3.10.9 torch-2.2.2+cu118 CUDA:0 (NVIDIA TITAN RTX, 24218MiB)\n",
      "Model summary (fused): 168 layers, 3006038 parameters, 0 gradients, 8.1 GFLOPs\n"
     ]
    },
    {
     "name": "stderr",
     "output_type": "stream",
     "text": [
      "                 Class     Images  Instances      Box(P          R      mAP50  mAP50-95): 100%|██████████| 4/4 \n"
     ]
    },
    {
     "name": "stdout",
     "output_type": "stream",
     "text": [
      "                   all        251        346      0.489      0.954      0.515      0.423\n",
      "                  wifi        251        163      0.459      0.951      0.485      0.401\n",
      "             anom_wifi        251        183       0.52      0.956      0.546      0.445\n",
      "Speed: 0.1ms preprocess, 0.5ms inference, 0.0ms loss, 0.7ms postprocess per image\n",
      "Results saved to \u001b[1mexp1/exp1/spec_logs/05_17_2024_20_57_55\u001b[0m\n"
     ]
    }
   ],
   "source": [
    "exp=exp1\n",
    "train_spec(\n",
    "    train_dataset_path = exp.train_dir,\n",
    "    val_dataset_path = exp.val_dir,\n",
    "    n_fft = exp.spec_n_fft, \n",
    "    time_dim = exp.spec_time_dim,\n",
    "    epochs = exp.spec_epochs, \n",
    "    batch_size = exp.spec_batch_size, \n",
    "    class_list = exp.class_list, \n",
    "    output_dir = exp.experiment_name,\n",
    ")"
   ]
  },
  {
   "cell_type": "code",
   "execution_count": 6,
   "id": "bfdb1075-1348-4d7e-b07d-930f7700b667",
   "metadata": {},
   "outputs": [
    {
     "name": "stdout",
     "output_type": "stream",
     "text": [
      "{'train_dataset_path': ['data/gamutrf/gamutrf-sd-gr-ieee-wifi/test_offline'], 'val_dataset_path': None, 'num_iq_samples': 1024, 'only_use_start_of_burst': True, 'epochs': 40, 'batch_size': 180, 'class_list': ['wifi', 'anom_wifi'], 'logs_dir': None, 'output_dir': 'exp1'}\n",
      "\n",
      "Visualizing Dataset\n",
      "\n",
      "Class List: ['wifi', 'anom_wifi']\n",
      "len(dataset)=1807\n",
      "{'wifi': 903, 'anom_wifi': 904}\n"
     ]
    },
    {
     "data": {
      "text/plain": [
       "<Figure size 1600x1600 with 100 Axes>"
      ]
     },
     "metadata": {},
     "output_type": "display_data"
    },
    {
     "ename": "NameError",
     "evalue": "name 'exit' is not defined",
     "output_type": "error",
     "traceback": [
      "\u001b[0;31m---------------------------------------------------------------------------\u001b[0m",
      "\u001b[0;31mNameError\u001b[0m                                 Traceback (most recent call last)",
      "Cell \u001b[0;32mIn[6], line 2\u001b[0m\n\u001b[1;32m      1\u001b[0m exp\u001b[38;5;241m=\u001b[39mexp1\n\u001b[0;32m----> 2\u001b[0m \u001b[43mtrain_iq\u001b[49m\u001b[43m(\u001b[49m\n\u001b[1;32m      3\u001b[0m \u001b[43m    \u001b[49m\u001b[43mtrain_dataset_path\u001b[49m\u001b[43m \u001b[49m\u001b[38;5;241;43m=\u001b[39;49m\u001b[43m \u001b[49m\u001b[43mexp\u001b[49m\u001b[38;5;241;43m.\u001b[39;49m\u001b[43mtrain_dir\u001b[49m\u001b[43m,\u001b[49m\n\u001b[1;32m      4\u001b[0m \u001b[43m    \u001b[49m\u001b[43mval_dataset_path\u001b[49m\u001b[43m \u001b[49m\u001b[38;5;241;43m=\u001b[39;49m\u001b[43m \u001b[49m\u001b[43mexp\u001b[49m\u001b[38;5;241;43m.\u001b[39;49m\u001b[43mval_dir\u001b[49m\u001b[43m,\u001b[49m\n\u001b[1;32m      5\u001b[0m \u001b[43m    \u001b[49m\u001b[43mnum_iq_samples\u001b[49m\u001b[43m \u001b[49m\u001b[38;5;241;43m=\u001b[39;49m\u001b[43m \u001b[49m\u001b[43mexp\u001b[49m\u001b[38;5;241;43m.\u001b[39;49m\u001b[43miq_num_samples\u001b[49m\u001b[43m,\u001b[49m\u001b[43m \u001b[49m\n\u001b[1;32m      6\u001b[0m \u001b[43m    \u001b[49m\u001b[43monly_use_start_of_burst\u001b[49m\u001b[43m \u001b[49m\u001b[38;5;241;43m=\u001b[39;49m\u001b[43m \u001b[49m\u001b[43mexp\u001b[49m\u001b[38;5;241;43m.\u001b[39;49m\u001b[43miq_only_start_of_burst\u001b[49m\u001b[43m,\u001b[49m\n\u001b[1;32m      7\u001b[0m \u001b[43m    \u001b[49m\u001b[43mepochs\u001b[49m\u001b[43m \u001b[49m\u001b[38;5;241;43m=\u001b[39;49m\u001b[43m \u001b[49m\u001b[43mexp\u001b[49m\u001b[38;5;241;43m.\u001b[39;49m\u001b[43miq_epochs\u001b[49m\u001b[43m,\u001b[49m\u001b[43m \u001b[49m\n\u001b[1;32m      8\u001b[0m \u001b[43m    \u001b[49m\u001b[43mbatch_size\u001b[49m\u001b[43m \u001b[49m\u001b[38;5;241;43m=\u001b[39;49m\u001b[43m \u001b[49m\u001b[43mexp\u001b[49m\u001b[38;5;241;43m.\u001b[39;49m\u001b[43miq_batch_size\u001b[49m\u001b[43m,\u001b[49m\u001b[43m \u001b[49m\n\u001b[1;32m      9\u001b[0m \u001b[43m    \u001b[49m\u001b[43mclass_list\u001b[49m\u001b[43m \u001b[49m\u001b[38;5;241;43m=\u001b[39;49m\u001b[43m \u001b[49m\u001b[43mexp\u001b[49m\u001b[38;5;241;43m.\u001b[39;49m\u001b[43mclass_list\u001b[49m\u001b[43m,\u001b[49m\u001b[43m \u001b[49m\n\u001b[1;32m     10\u001b[0m \u001b[43m    \u001b[49m\u001b[43moutput_dir\u001b[49m\u001b[43m \u001b[49m\u001b[38;5;241;43m=\u001b[39;49m\u001b[43m \u001b[49m\u001b[43mexp\u001b[49m\u001b[38;5;241;43m.\u001b[39;49m\u001b[43mexperiment_name\u001b[49m\u001b[43m,\u001b[49m\n\u001b[1;32m     11\u001b[0m \u001b[43m)\u001b[49m\n",
      "File \u001b[0;32m~/rfml-dev/rfml-dev/train_iq.py:94\u001b[0m, in \u001b[0;36mtrain_iq\u001b[0;34m(train_dataset_path, val_dataset_path, num_iq_samples, only_use_start_of_burst, epochs, batch_size, class_list, logs_dir, output_dir)\u001b[0m\n\u001b[1;32m     90\u001b[0m logs_dir\u001b[38;5;241m.\u001b[39mmkdir(parents\u001b[38;5;241m=\u001b[39m\u001b[38;5;28;01mTrue\u001b[39;00m)\n\u001b[1;32m     92\u001b[0m visualize_dataset(train_dataset_path, num_iq_samples, logs_dir, class_list\u001b[38;5;241m=\u001b[39mclass_list)\n\u001b[0;32m---> 94\u001b[0m \u001b[43mexit\u001b[49m()\n\u001b[1;32m     95\u001b[0m \u001b[38;5;66;03m# # SigMF based Model Training\u001b[39;00m\n\u001b[1;32m     97\u001b[0m eb_no\u001b[38;5;241m=\u001b[39m\u001b[38;5;28;01mFalse\u001b[39;00m\n",
      "\u001b[0;31mNameError\u001b[0m: name 'exit' is not defined"
     ]
    }
   ],
   "source": [
    "exp=exp1\n",
    "train_iq(\n",
    "    train_dataset_path = exp.train_dir,\n",
    "    val_dataset_path = exp.val_dir,\n",
    "    num_iq_samples = exp.iq_num_samples, \n",
    "    only_use_start_of_burst = exp.iq_only_start_of_burst,\n",
    "    epochs = exp.iq_epochs, \n",
    "    batch_size = exp.iq_batch_size, \n",
    "    class_list = exp.class_list, \n",
    "    output_dir = exp.experiment_name,\n",
    ")\n"
   ]
  },
  {
   "cell_type": "code",
   "execution_count": null,
   "id": "04d312f3-0233-4802-a100-290c954d4abe",
   "metadata": {},
   "outputs": [],
   "source": [
    "43404"
   ]
  }
 ],
 "metadata": {
  "kernelspec": {
   "display_name": "Python 3 (ipykernel)",
   "language": "python",
   "name": "python3"
  },
  "language_info": {
   "codemirror_mode": {
    "name": "ipython",
    "version": 3
   },
   "file_extension": ".py",
   "mimetype": "text/x-python",
   "name": "python",
   "nbconvert_exporter": "python",
   "pygments_lexer": "ipython3",
   "version": "3.10.9"
  }
 },
 "nbformat": 4,
 "nbformat_minor": 5
}
