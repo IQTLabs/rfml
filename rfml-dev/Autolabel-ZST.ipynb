{
 "cells": [
  {
   "cell_type": "code",
   "execution_count": null,
   "metadata": {},
   "outputs": [],
   "source": [
    "import data\n",
    "import auto_label"
   ]
  },
  {
   "cell_type": "code",
   "execution_count": null,
   "metadata": {},
   "outputs": [],
   "source": [
    "import os\n",
    "\n",
    "def Autolabel_ZST(file:str):\n",
    "    sig_data = data.Data(file)\n",
    "    print(f\"File: {file}\")\n",
    "    # print(f\"Sample Rate: {sig_data.sample_rate}\")\n",
    "    # print(f\"Center Frequency: {sig_data.center_freq}\")\n",
    "    # print(f\"Duration: {sig_data.duration}\")\n",
    "    print(\"Exporting SIGMF data...\")\n",
    "    sig_data.export_sigmf_data()\n",
    "    n_fft = 1024\n",
    "    time_dim = 512 # equivalent to tune_step_fft parameter in GamutRF\n",
    "    n_samples = n_fft * time_dim\n",
    "    print(f\"Generating spectrograms with n_samples = {n_samples} and n_fft = {n_fft}...\")\n",
    "    sig_data.generate_spectrograms(n_samples, n_fft)\n",
    "    print(\"Auto-labeling spectrograms...\")\n",
    "    sig_data.auto_label_spectrograms(\"dji\")\n",
    "    print(\"Exporting annotation IQ data...\")\n",
    "    sig_data.export_annotation_iq()\n",
    "\n",
    "def Autolabel_ZST_Directory(path:str):\n",
    "    if os.path.isdir(path):\n",
    "        for file in os.listdir(path):\n",
    "            if file.endswith('.zst'):\n",
    "                # Process the file here\n",
    "                full_path = os.path.join(path, file)\n",
    "                print(full_path)\n",
    "                Autolabel_ZST(full_path)\n",
    "    else:\n",
    "        print(f\"{path} is not a directory.\")\n",
    "    "
   ]
  },
  {
   "cell_type": "code",
   "execution_count": null,
   "metadata": {},
   "outputs": [],
   "source": [
    "Autolabel_ZST_Directory(\"gamutrf-arl/01_30_23/mini2\")"
   ]
  },
  {
   "cell_type": "code",
   "execution_count": null,
   "metadata": {},
   "outputs": [],
   "source": []
  }
 ],
 "metadata": {
  "kernelspec": {
   "display_name": "rfml-dev-Rt5ZGM-V-py3.12",
   "language": "python",
   "name": "python3"
  },
  "language_info": {
   "codemirror_mode": {
    "name": "ipython",
    "version": 3
   },
   "file_extension": ".py",
   "mimetype": "text/x-python",
   "name": "python",
   "nbconvert_exporter": "python",
   "pygments_lexer": "ipython3",
   "version": "3.12.2"
  }
 },
 "nbformat": 4,
 "nbformat_minor": 2
}
