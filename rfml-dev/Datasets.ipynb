{
 "cells": [
  {
   "cell_type": "code",
   "execution_count": 1,
   "id": "eee8008a-5745-48e5-8d8a-d219514757aa",
   "metadata": {},
   "outputs": [],
   "source": [
    "data_directory = \"data/gamutrf/gamutrf-sd-gr-ieee-wifi/test_offline/\"\n",
    "\n",
    "# I/Q dataset paramters\n",
    "num_iq_samples = 1024\n",
    "only_use_start_of_burst = True\n",
    "\n",
    "# Spectrogram parameters\n",
    "n_fft = 1024\n",
    "time_dim = 512\n",
    "n_samples = n_fft * time_dim\n",
    "yolo_class_list = [\"wifi\", \"anom_wifi\"]"
   ]
  },
  {
   "cell_type": "markdown",
   "id": "da50772c-a1fb-4946-ade0-5f63a1bde799",
   "metadata": {},
   "source": [
    "# I/Q dataset"
   ]
  },
  {
   "cell_type": "code",
   "execution_count": 2,
   "id": "12f25ae3-67ad-41e7-9a2d-da3c206518b4",
   "metadata": {},
   "outputs": [
    {
     "name": "stdout",
     "output_type": "stream",
     "text": [
      "Adding anom_wifi to class list\n",
      "Adding wifi to class list\n",
      "Class List: ['anom_wifi', 'wifi']\n",
      "\n",
      "Dataset info:\n",
      "len(dataset)=1807, class_counts={'anom_wifi': 904, 'wifi': 903}\n"
     ]
    }
   ],
   "source": [
    "import numpy as np\n",
    "import torchsig.transforms as ST\n",
    "from sigmf_pytorch_dataset import SigMFDataset\n",
    "\n",
    "transform = ST.Compose([\n",
    "    ST.Normalize(norm=np.inf),\n",
    "    ST.ComplexTo2D(),\n",
    "])\n",
    "\n",
    "dataset = SigMFDataset( \n",
    "    root=data_directory, \n",
    "    sample_count= num_iq_samples, \n",
    "    transform = transform,\n",
    "    only_first_samples=only_use_start_of_burst,\n",
    ")\n",
    "\n",
    "class_counts = {dataset.class_list[k]:v for k,v in dataset.get_class_counts().items()}\n",
    "print(\"\\nDataset info:\")\n",
    "print(f\"{len(dataset)=}, {class_counts=}\")"
   ]
  },
  {
   "cell_type": "markdown",
   "id": "5620b777-3fe7-4ba1-afb7-64962438e2f9",
   "metadata": {},
   "source": [
    "# Spectrogram dataset"
   ]
  },
  {
   "cell_type": "code",
   "execution_count": 3,
   "id": "4ab3fe50-0a3f-450e-b1b9-3e514daf8732",
   "metadata": {},
   "outputs": [],
   "source": [
    "import glob\n",
    "\n",
    "from pathlib import Path\n",
    "from tqdm import tqdm\n",
    "\n",
    "from data import *"
   ]
  },
  {
   "cell_type": "markdown",
   "id": "0c48d5fe-5b19-45de-95b0-8ef5d42f84ee",
   "metadata": {},
   "source": [
    "# Convert SigMF to spectrograms and YOLO labels (only needs to run once)"
   ]
  },
  {
   "cell_type": "code",
   "execution_count": 4,
   "id": "84f435b9-9228-4d94-a88d-3cc95391984f",
   "metadata": {
    "scrolled": true
   },
   "outputs": [
    {
     "name": "stderr",
     "output_type": "stream",
     "text": [
      "  0%|                                                                                    | 0/2 [00:00<?, ?it/s]/home/ltindall/.pyenv/versions/3.10.9/envs/rfml-dev/lib/python3.10/site-packages/sigmf/sigmffile.py:914: UserWarning: Compliant Dataset `data/gamutrf/gamutrf-sd-gr-ieee-wifi/test_offline/anomwifi-encoding-0-sendsps-10000000.s16.zst.sigmf-data` exists but \"core:dataset\" is also defined; using `data/gamutrf/gamutrf-sd-gr-ieee-wifi/test_offline/anomwifi-encoding-0-sendsps-10000000.s16.zst.sigmf-data`\n",
      "  warnings.warn(f'Compliant Dataset `{compliant_data_fn}` exists but '\n"
     ]
    },
    {
     "name": "stdout",
     "output_type": "stream",
     "text": [
      "\n",
      "Loaded \n",
      " Data file: data/gamutrf/gamutrf-sd-gr-ieee-wifi/test_offline/anomwifi-encoding-0-sendsps-10000000.s16.zst.sigmf-data \n",
      " SigMF-Meta file: data/gamutrf/gamutrf-sd-gr-ieee-wifi/test_offline/anomwifi-encoding-0-sendsps-10000000.s16.zst.sigmf-meta\n",
      "\n"
     ]
    },
    {
     "name": "stderr",
     "output_type": "stream",
     "text": [
      "/home/ltindall/rfml-dev/rfml-dev/data.py:919: UserWarning: Matching spectrogram could not be found for annotation: {'core:freq_lower_edge': 5275520000.0, 'core:freq_upper_edge': 5284640000.0, 'core:label': 'anom_wifi', 'core:sample_count': 44392, 'core:sample_start': 23056854}\n",
      "  warnings.warn(\n",
      "/home/ltindall/rfml-dev/rfml-dev/data.py:919: UserWarning: Matching spectrogram could not be found for annotation: {'core:freq_lower_edge': 5275760000.0, 'core:freq_upper_edge': 5285280000.0, 'core:label': 'anom_wifi', 'core:sample_count': 44387, 'core:sample_start': 23588127}\n",
      "  warnings.warn(\n",
      "/home/ltindall/rfml-dev/rfml-dev/data.py:919: UserWarning: Matching spectrogram could not be found for annotation: {'core:freq_lower_edge': 5275040000.0, 'core:freq_upper_edge': 5284320000.0, 'core:label': 'anom_wifi', 'core:sample_count': 44384, 'core:sample_start': 24625029}\n",
      "  warnings.warn(\n",
      "/home/ltindall/rfml-dev/rfml-dev/data.py:919: UserWarning: Matching spectrogram could not be found for annotation: {'core:freq_lower_edge': 5275520000.0, 'core:freq_upper_edge': 5285280000.0, 'core:label': 'anom_wifi', 'core:sample_count': 17451, 'core:sample_start': 29883535}\n",
      "  warnings.warn(\n",
      "/home/ltindall/rfml-dev/rfml-dev/data.py:919: UserWarning: Matching spectrogram could not be found for annotation: {'core:freq_lower_edge': 5274720000.0, 'core:freq_upper_edge': 5284080000.0, 'core:label': 'anom_wifi', 'core:sample_count': 41224, 'core:sample_start': 35108775}\n",
      "  warnings.warn(\n",
      "/home/ltindall/rfml-dev/rfml-dev/data.py:919: UserWarning: Matching spectrogram could not be found for annotation: {'core:freq_lower_edge': 5275600000.0, 'core:freq_upper_edge': 5284640000.0, 'core:label': 'anom_wifi', 'core:sample_count': 28163, 'core:sample_start': 35630295}\n",
      "  warnings.warn(\n",
      "/home/ltindall/rfml-dev/rfml-dev/data.py:919: UserWarning: Matching spectrogram could not be found for annotation: {'core:freq_lower_edge': 5275600000.0, 'core:freq_upper_edge': 5284800000.0, 'core:label': 'anom_wifi', 'core:sample_count': 33033, 'core:sample_start': 36685318}\n",
      "  warnings.warn(\n",
      "/home/ltindall/rfml-dev/rfml-dev/data.py:919: UserWarning: Matching spectrogram could not be found for annotation: {'core:freq_lower_edge': 5274640000.0, 'core:freq_upper_edge': 5284800000.0, 'core:label': 'anom_wifi', 'core:sample_count': 11268, 'core:sample_start': 39320925}\n",
      "  warnings.warn(\n",
      "/home/ltindall/rfml-dev/rfml-dev/data.py:919: UserWarning: Matching spectrogram could not be found for annotation: {'core:freq_lower_edge': 5274880000.0, 'core:freq_upper_edge': 5284720000.0, 'core:label': 'anom_wifi', 'core:sample_count': 12077, 'core:sample_start': 48753986}\n",
      "  warnings.warn(\n",
      "/home/ltindall/rfml-dev/rfml-dev/data.py:919: UserWarning: Matching spectrogram could not be found for annotation: {'core:freq_lower_edge': 5274800000.0, 'core:freq_upper_edge': 5284960000.0, 'core:label': 'anom_wifi', 'core:sample_count': 10289, 'core:sample_start': 58711911}\n",
      "  warnings.warn(\n",
      "/home/ltindall/rfml-dev/rfml-dev/data.py:919: UserWarning: Matching spectrogram could not be found for annotation: {'core:freq_lower_edge': 5275520000.0, 'core:freq_upper_edge': 5285280000.0, 'core:label': 'anom_wifi', 'core:sample_count': 15868, 'core:sample_start': 62907456}\n",
      "  warnings.warn(\n",
      "/home/ltindall/rfml-dev/rfml-dev/data.py:919: UserWarning: Matching spectrogram could not be found for annotation: {'core:freq_lower_edge': 5275600000.0, 'core:freq_upper_edge': 5284960000.0, 'core:label': 'anom_wifi', 'core:sample_count': 35323, 'core:sample_start': 65505692}\n",
      "  warnings.warn(\n",
      "/home/ltindall/rfml-dev/rfml-dev/data.py:919: UserWarning: Matching spectrogram could not be found for annotation: {'core:freq_lower_edge': 5275360000.0, 'core:freq_upper_edge': 5284640000.0, 'core:label': 'anom_wifi', 'core:sample_count': 21452, 'core:sample_start': 68141379}\n",
      "  warnings.warn(\n",
      "/home/ltindall/rfml-dev/rfml-dev/data.py:919: UserWarning: Matching spectrogram could not be found for annotation: {'core:freq_lower_edge': 5275120000.0, 'core:freq_upper_edge': 5284240000.0, 'core:label': 'anom_wifi', 'core:sample_count': 43521, 'core:sample_start': 73894870}\n",
      "  warnings.warn(\n",
      "/home/ltindall/rfml-dev/rfml-dev/data.py:919: UserWarning: Matching spectrogram could not be found for annotation: {'core:freq_lower_edge': 5275040000.0, 'core:freq_upper_edge': 5284720000.0, 'core:label': 'anom_wifi', 'core:sample_count': 16193, 'core:sample_start': 78107953}\n",
      "  warnings.warn(\n",
      "/home/ltindall/rfml-dev/rfml-dev/data.py:919: UserWarning: Matching spectrogram could not be found for annotation: {'core:freq_lower_edge': 5275600000.0, 'core:freq_upper_edge': 5285280000.0, 'core:label': 'anom_wifi', 'core:sample_count': 17660, 'core:sample_start': 85969963}\n",
      "  warnings.warn(\n",
      "/home/ltindall/rfml-dev/rfml-dev/data.py:919: UserWarning: Matching spectrogram could not be found for annotation: {'core:freq_lower_edge': 5275680000.0, 'core:freq_upper_edge': 5284800000.0, 'core:label': 'anom_wifi', 'core:sample_count': 31409, 'core:sample_start': 99604832}\n",
      "  warnings.warn(\n",
      "/home/ltindall/rfml-dev/rfml-dev/data.py:919: UserWarning: Matching spectrogram could not be found for annotation: {'core:freq_lower_edge': 5275360000.0, 'core:freq_upper_edge': 5284480000.0, 'core:label': 'anom_wifi', 'core:sample_count': 31419, 'core:sample_start': 116900500}\n",
      "  warnings.warn(\n",
      "/home/ltindall/rfml-dev/rfml-dev/data.py:919: UserWarning: Matching spectrogram could not be found for annotation: {'core:freq_lower_edge': 5275600000.0, 'core:freq_upper_edge': 5285280000.0, 'core:label': 'anom_wifi', 'core:sample_count': 19277, 'core:sample_start': 124767317}\n",
      "  warnings.warn(\n",
      "/home/ltindall/rfml-dev/rfml-dev/data.py:919: UserWarning: Matching spectrogram could not be found for annotation: {'core:freq_lower_edge': 5275600000.0, 'core:freq_upper_edge': 5284960000.0, 'core:label': 'anom_wifi', 'core:sample_count': 21954, 'core:sample_start': 132640279}\n",
      "  warnings.warn(\n",
      "/home/ltindall/rfml-dev/rfml-dev/data.py:919: UserWarning: Matching spectrogram could not be found for annotation: {'core:freq_lower_edge': 5275120000.0, 'core:freq_upper_edge': 5284800000.0, 'core:label': 'anom_wifi', 'core:sample_count': 11883, 'core:sample_start': 144695233}\n",
      "  warnings.warn(\n",
      "/home/ltindall/rfml-dev/rfml-dev/data.py:919: UserWarning: Matching spectrogram could not be found for annotation: {'core:freq_lower_edge': 5275760000.0, 'core:freq_upper_edge': 5285360000.0, 'core:label': 'anom_wifi', 'core:sample_count': 39111, 'core:sample_start': 145192017}\n",
      "  warnings.warn(\n",
      "/home/ltindall/rfml-dev/rfml-dev/data.py:919: UserWarning: Matching spectrogram could not be found for annotation: {'core:freq_lower_edge': 5274720000.0, 'core:freq_upper_edge': 5284240000.0, 'core:label': 'anom_wifi', 'core:sample_count': 17817, 'core:sample_start': 153598990}\n",
      "  warnings.warn(\n",
      "/home/ltindall/rfml-dev/rfml-dev/data.py:919: UserWarning: Matching spectrogram could not be found for annotation: {'core:freq_lower_edge': 5274720000.0, 'core:freq_upper_edge': 5284160000.0, 'core:label': 'anom_wifi', 'core:sample_count': 28790, 'core:sample_start': 154117926}\n",
      "  warnings.warn(\n",
      "/home/ltindall/rfml-dev/rfml-dev/data.py:919: UserWarning: Matching spectrogram could not be found for annotation: {'core:freq_lower_edge': 5275440000.0, 'core:freq_upper_edge': 5284800000.0, 'core:label': 'anom_wifi', 'core:sample_count': 23388, 'core:sample_start': 155177972}\n",
      "  warnings.warn(\n",
      "/home/ltindall/rfml-dev/rfml-dev/data.py:919: UserWarning: Matching spectrogram could not be found for annotation: {'core:freq_lower_edge': 5275280000.0, 'core:freq_upper_edge': 5284560000.0, 'core:label': 'anom_wifi', 'core:sample_count': 19446, 'core:sample_start': 157270860}\n",
      "  warnings.warn(\n",
      "/home/ltindall/rfml-dev/rfml-dev/data.py:919: UserWarning: Matching spectrogram could not be found for annotation: {'core:freq_lower_edge': 5275360000.0, 'core:freq_upper_edge': 5284640000.0, 'core:label': 'anom_wifi', 'core:sample_count': 27786, 'core:sample_start': 179297109}\n",
      "  warnings.warn(\n",
      "/home/ltindall/rfml-dev/rfml-dev/data.py:919: UserWarning: Matching spectrogram could not be found for annotation: {'core:freq_lower_edge': 5275040000.0, 'core:freq_upper_edge': 5284320000.0, 'core:label': 'anom_wifi', 'core:sample_count': 27799, 'core:sample_start': 179807342}\n",
      "  warnings.warn(\n",
      "/home/ltindall/rfml-dev/rfml-dev/data.py:919: UserWarning: Matching spectrogram could not be found for annotation: {'core:freq_lower_edge': 5275360000.0, 'core:freq_upper_edge': 5284800000.0, 'core:label': 'anom_wifi', 'core:sample_count': 18952, 'core:sample_start': 198169411}\n",
      "  warnings.warn(\n",
      "/home/ltindall/rfml-dev/rfml-dev/data.py:919: UserWarning: Matching spectrogram could not be found for annotation: {'core:freq_lower_edge': 5275360000.0, 'core:freq_upper_edge': 5284720000.0, 'core:label': 'anom_wifi', 'core:sample_count': 29929, 'core:sample_start': 207091401}\n",
      "  warnings.warn(\n",
      "/home/ltindall/rfml-dev/rfml-dev/data.py:919: UserWarning: Matching spectrogram could not be found for annotation: {'core:freq_lower_edge': 5273920000.0, 'core:freq_upper_edge': 5285280000.0, 'core:label': 'anom_wifi', 'core:sample_count': 8156, 'core:sample_start': 209187149}\n",
      "  warnings.warn(\n",
      "/home/ltindall/rfml-dev/rfml-dev/data.py:919: UserWarning: Matching spectrogram could not be found for annotation: {'core:freq_lower_edge': 5275360000.0, 'core:freq_upper_edge': 5284720000.0, 'core:label': 'anom_wifi', 'core:sample_count': 30052, 'core:sample_start': 223342693}\n",
      "  warnings.warn(\n",
      "/home/ltindall/rfml-dev/rfml-dev/data.py:919: UserWarning: Matching spectrogram could not be found for annotation: {'core:freq_lower_edge': 5274880000.0, 'core:freq_upper_edge': 5284320000.0, 'core:label': 'anom_wifi', 'core:sample_count': 40231, 'core:sample_start': 224896098}\n",
      "  warnings.warn(\n",
      "/home/ltindall/rfml-dev/rfml-dev/data.py:919: UserWarning: Matching spectrogram could not be found for annotation: {'core:freq_lower_edge': 5275280000.0, 'core:freq_upper_edge': 5284400000.0, 'core:label': 'anom_wifi', 'core:sample_count': 32233, 'core:sample_start': 231714910}\n",
      "  warnings.warn(\n",
      "/home/ltindall/rfml-dev/rfml-dev/data.py:919: UserWarning: Matching spectrogram could not be found for annotation: {'core:freq_lower_edge': 5275280000.0, 'core:freq_upper_edge': 5284640000.0, 'core:label': 'anom_wifi', 'core:sample_count': 42240, 'core:sample_start': 239040955}\n",
      "  warnings.warn(\n",
      "/home/ltindall/rfml-dev/rfml-dev/data.py:919: UserWarning: Matching spectrogram could not be found for annotation: {'core:freq_lower_edge': 5274720000.0, 'core:freq_upper_edge': 5284240000.0, 'core:label': 'anom_wifi', 'core:sample_count': 21886, 'core:sample_start': 247456371}\n",
      "  warnings.warn(\n",
      "/home/ltindall/rfml-dev/rfml-dev/data.py:919: UserWarning: Matching spectrogram could not be found for annotation: {'core:freq_lower_edge': 5275680000.0, 'core:freq_upper_edge': 5284960000.0, 'core:label': 'anom_wifi', 'core:sample_count': 35793, 'core:sample_start': 253198794}\n",
      "  warnings.warn(\n",
      "/home/ltindall/rfml-dev/rfml-dev/data.py:919: UserWarning: Matching spectrogram could not be found for annotation: {'core:freq_lower_edge': 5275200000.0, 'core:freq_upper_edge': 5284320000.0, 'core:label': 'anom_wifi', 'core:sample_count': 35832, 'core:sample_start': 253725849}\n",
      "  warnings.warn(\n",
      "/home/ltindall/rfml-dev/rfml-dev/data.py:919: UserWarning: Matching spectrogram could not be found for annotation: {'core:freq_lower_edge': 5275760000.0, 'core:freq_upper_edge': 5285120000.0, 'core:label': 'anom_wifi', 'core:sample_count': 42676, 'core:sample_start': 254278399}\n",
      "  warnings.warn(\n",
      "/home/ltindall/rfml-dev/rfml-dev/data.py:919: UserWarning: Matching spectrogram could not be found for annotation: {'core:freq_lower_edge': 5275040000.0, 'core:freq_upper_edge': 5284320000.0, 'core:label': 'anom_wifi', 'core:sample_count': 20731, 'core:sample_start': 257933619}\n",
      "  warnings.warn(\n",
      "/home/ltindall/rfml-dev/rfml-dev/data.py:919: UserWarning: Matching spectrogram could not be found for annotation: {'core:freq_lower_edge': 5275200000.0, 'core:freq_upper_edge': 5284800000.0, 'core:label': 'anom_wifi', 'core:sample_count': 17810, 'core:sample_start': 259522428}\n",
      "  warnings.warn(\n",
      "/home/ltindall/rfml-dev/rfml-dev/data.py:919: UserWarning: Matching spectrogram could not be found for annotation: {'core:freq_lower_edge': 5274720000.0, 'core:freq_upper_edge': 5284240000.0, 'core:label': 'anom_wifi', 'core:sample_count': 27166, 'core:sample_start': 277853036}\n",
      "  warnings.warn(\n",
      "/home/ltindall/rfml-dev/rfml-dev/data.py:919: UserWarning: Matching spectrogram could not be found for annotation: {'core:freq_lower_edge': 5275760000.0, 'core:freq_upper_edge': 5285280000.0, 'core:label': 'anom_wifi', 'core:sample_count': 40249, 'core:sample_start': 290941643}\n",
      "  warnings.warn(\n",
      "/home/ltindall/rfml-dev/rfml-dev/data.py:919: UserWarning: Matching spectrogram could not be found for annotation: {'core:freq_lower_edge': 5275440000.0, 'core:freq_upper_edge': 5284640000.0, 'core:label': 'anom_wifi', 'core:sample_count': 33475, 'core:sample_start': 296723803}\n",
      "  warnings.warn(\n",
      "/home/ltindall/rfml-dev/rfml-dev/data.py:919: UserWarning: Matching spectrogram could not be found for annotation: {'core:freq_lower_edge': 5274800000.0, 'core:freq_upper_edge': 5284320000.0, 'core:label': 'anom_wifi', 'core:sample_count': 25655, 'core:sample_start': 300408317}\n",
      "  warnings.warn(\n",
      "/home/ltindall/rfml-dev/rfml-dev/data.py:919: UserWarning: Matching spectrogram could not be found for annotation: {'core:freq_lower_edge': 5274720000.0, 'core:freq_upper_edge': 5284400000.0, 'core:label': 'anom_wifi', 'core:sample_count': 37956, 'core:sample_start': 306672470}\n",
      "  warnings.warn(\n",
      "/home/ltindall/rfml-dev/rfml-dev/data.py:919: UserWarning: Matching spectrogram could not be found for annotation: {'core:freq_lower_edge': 5275360000.0, 'core:freq_upper_edge': 5284640000.0, 'core:label': 'anom_wifi', 'core:sample_count': 25741, 'core:sample_start': 352833318}\n",
      "  warnings.warn(\n",
      "/home/ltindall/rfml-dev/rfml-dev/data.py:919: UserWarning: Matching spectrogram could not be found for annotation: {'core:freq_lower_edge': 5275360000.0, 'core:freq_upper_edge': 5284880000.0, 'core:label': 'anom_wifi', 'core:sample_count': 25379, 'core:sample_start': 358587943}\n",
      "  warnings.warn(\n",
      "/home/ltindall/rfml-dev/rfml-dev/data.py:919: UserWarning: Matching spectrogram could not be found for annotation: {'core:freq_lower_edge': 5275440000.0, 'core:freq_upper_edge': 5284960000.0, 'core:label': 'anom_wifi', 'core:sample_count': 15784, 'core:sample_start': 359125105}\n",
      "  warnings.warn(\n",
      "/home/ltindall/rfml-dev/rfml-dev/data.py:919: UserWarning: Matching spectrogram could not be found for annotation: {'core:freq_lower_edge': 5275280000.0, 'core:freq_upper_edge': 5284400000.0, 'core:label': 'anom_wifi', 'core:sample_count': 30540, 'core:sample_start': 362781456}\n",
      "  warnings.warn(\n",
      "/home/ltindall/rfml-dev/rfml-dev/data.py:919: UserWarning: Matching spectrogram could not be found for annotation: {'core:freq_lower_edge': 5275120000.0, 'core:freq_upper_edge': 5284400000.0, 'core:label': 'anom_wifi', 'core:sample_count': 41411, 'core:sample_start': 381148516}\n",
      "  warnings.warn(\n",
      "/home/ltindall/rfml-dev/rfml-dev/data.py:919: UserWarning: Matching spectrogram could not be found for annotation: {'core:freq_lower_edge': 5275360000.0, 'core:freq_upper_edge': 5284800000.0, 'core:label': 'anom_wifi', 'core:sample_count': 17322, 'core:sample_start': 397409053}\n",
      "  warnings.warn(\n",
      "/home/ltindall/rfml-dev/rfml-dev/data.py:919: UserWarning: Matching spectrogram could not be found for annotation: {'core:freq_lower_edge': 5275600000.0, 'core:freq_upper_edge': 5284800000.0, 'core:label': 'anom_wifi', 'core:sample_count': 28088, 'core:sample_start': 405793928}\n",
      "  warnings.warn(\n"
     ]
    },
    {
     "name": "stdout",
     "output_type": "stream",
     "text": [
      "Saving data/gamutrf/gamutrf-sd-gr-ieee-wifi/test_offline/anomwifi-encoding-0-sendsps-10000000.s16.zst.sigmf-meta\n",
      "\n",
      "Writing YOLO txt label files\n"
     ]
    },
    {
     "name": "stderr",
     "output_type": "stream",
     "text": [
      "\n",
      "  0%|                                                                                 | 0/1409 [00:00<?, ?it/s]\u001b[A\n",
      "  7%|█████                                                                | 104/1409 [00:00<00:01, 1038.20it/s]\u001b[A\n",
      " 15%|██████████▏                                                          | 208/1409 [00:00<00:01, 1019.46it/s]\u001b[A\n",
      " 22%|███████████████▍                                                      | 310/1409 [00:00<00:01, 989.25it/s]\u001b[A\n",
      " 30%|████████████████████▉                                                | 428/1409 [00:00<00:00, 1060.72it/s]\u001b[A\n",
      " 38%|██████████████████████████▏                                          | 536/1409 [00:00<00:00, 1066.78it/s]\u001b[A\n",
      " 46%|███████████████████████████████▉                                     | 651/1409 [00:00<00:00, 1092.36it/s]\u001b[A\n",
      "100%|████████████████████████████████████████████████████████████████████| 1409/1409 [00:00<00:00, 1742.35it/s]\u001b[A\n",
      " 50%|██████████████████████████████████████                                      | 1/2 [00:04<00:04,  4.45s/it]/home/ltindall/.pyenv/versions/3.10.9/envs/rfml-dev/lib/python3.10/site-packages/sigmf/sigmffile.py:914: UserWarning: Compliant Dataset `data/gamutrf/gamutrf-sd-gr-ieee-wifi/test_offline/wifi-encoding-0-sendsps-10000000.s16.zst.sigmf-data` exists but \"core:dataset\" is also defined; using `data/gamutrf/gamutrf-sd-gr-ieee-wifi/test_offline/wifi-encoding-0-sendsps-10000000.s16.zst.sigmf-data`\n",
      "  warnings.warn(f'Compliant Dataset `{compliant_data_fn}` exists but '\n"
     ]
    },
    {
     "name": "stdout",
     "output_type": "stream",
     "text": [
      "Saving data/gamutrf/gamutrf-sd-gr-ieee-wifi/test_offline/anomwifi-encoding-0-sendsps-10000000.s16.zst.sigmf-meta\n",
      "\n",
      "\n",
      "Loaded \n",
      " Data file: data/gamutrf/gamutrf-sd-gr-ieee-wifi/test_offline/wifi-encoding-0-sendsps-10000000.s16.zst.sigmf-data \n",
      " SigMF-Meta file: data/gamutrf/gamutrf-sd-gr-ieee-wifi/test_offline/wifi-encoding-0-sendsps-10000000.s16.zst.sigmf-meta\n",
      "\n"
     ]
    },
    {
     "name": "stderr",
     "output_type": "stream",
     "text": [
      "/home/ltindall/rfml-dev/rfml-dev/data.py:919: UserWarning: Matching spectrogram could not be found for annotation: {'core:freq_lower_edge': 5275360000.0, 'core:freq_upper_edge': 5284800000.0, 'core:label': 'wifi', 'core:sample_count': 29934, 'core:sample_start': 38266584}\n",
      "  warnings.warn(\n",
      "/home/ltindall/rfml-dev/rfml-dev/data.py:919: UserWarning: Matching spectrogram could not be found for annotation: {'core:freq_lower_edge': 5275360000.0, 'core:freq_upper_edge': 5284560000.0, 'core:label': 'wifi', 'core:sample_count': 37827, 'core:sample_start': 40340658}\n",
      "  warnings.warn(\n",
      "/home/ltindall/rfml-dev/rfml-dev/data.py:919: UserWarning: Matching spectrogram could not be found for annotation: {'core:freq_lower_edge': 5275520000.0, 'core:freq_upper_edge': 5284880000.0, 'core:label': 'wifi', 'core:sample_count': 38121, 'core:sample_start': 42443419}\n",
      "  warnings.warn(\n",
      "/home/ltindall/rfml-dev/rfml-dev/data.py:919: UserWarning: Matching spectrogram could not be found for annotation: {'core:freq_lower_edge': 5274720000.0, 'core:freq_upper_edge': 5284160000.0, 'core:label': 'wifi', 'core:sample_count': 31410, 'core:sample_start': 47706753}\n",
      "  warnings.warn(\n",
      "/home/ltindall/rfml-dev/rfml-dev/data.py:919: UserWarning: Matching spectrogram could not be found for annotation: {'core:freq_lower_edge': 5275040000.0, 'core:freq_upper_edge': 5284800000.0, 'core:label': 'wifi', 'core:sample_count': 19761, 'core:sample_start': 52935809}\n",
      "  warnings.warn(\n",
      "/home/ltindall/rfml-dev/rfml-dev/data.py:919: UserWarning: Matching spectrogram could not be found for annotation: {'core:freq_lower_edge': 5274720000.0, 'core:freq_upper_edge': 5284240000.0, 'core:label': 'wifi', 'core:sample_count': 24879, 'core:sample_start': 73391050}\n",
      "  warnings.warn(\n",
      "/home/ltindall/rfml-dev/rfml-dev/data.py:919: UserWarning: Matching spectrogram could not be found for annotation: {'core:freq_lower_edge': 5274720000.0, 'core:freq_upper_edge': 5284160000.0, 'core:label': 'wifi', 'core:sample_count': 43022, 'core:sample_start': 77041842}\n",
      "  warnings.warn(\n",
      "/home/ltindall/rfml-dev/rfml-dev/data.py:919: UserWarning: Matching spectrogram could not be found for annotation: {'core:freq_lower_edge': 5275360000.0, 'core:freq_upper_edge': 5284640000.0, 'core:label': 'wifi', 'core:sample_count': 36819, 'core:sample_start': 80719614}\n",
      "  warnings.warn(\n",
      "/home/ltindall/rfml-dev/rfml-dev/data.py:919: UserWarning: Matching spectrogram could not be found for annotation: {'core:freq_lower_edge': 5275520000.0, 'core:freq_upper_edge': 5284560000.0, 'core:label': 'wifi', 'core:sample_count': 38608, 'core:sample_start': 83849712}\n",
      "  warnings.warn(\n",
      "/home/ltindall/rfml-dev/rfml-dev/data.py:919: UserWarning: Matching spectrogram could not be found for annotation: {'core:freq_lower_edge': 5274720000.0, 'core:freq_upper_edge': 5285120000.0, 'core:label': 'wifi', 'core:sample_count': 11065, 'core:sample_start': 88079996}\n",
      "  warnings.warn(\n",
      "/home/ltindall/rfml-dev/rfml-dev/data.py:919: UserWarning: Matching spectrogram could not be found for annotation: {'core:freq_lower_edge': 5275360000.0, 'core:freq_upper_edge': 5285440000.0, 'core:label': 'wifi', 'core:sample_count': 21531, 'core:sample_start': 113237855}\n",
      "  warnings.warn(\n",
      "/home/ltindall/rfml-dev/rfml-dev/data.py:919: UserWarning: Matching spectrogram could not be found for annotation: {'core:freq_lower_edge': 5275600000.0, 'core:freq_upper_edge': 5285040000.0, 'core:label': 'wifi', 'core:sample_count': 42349, 'core:sample_start': 117930441}\n",
      "  warnings.warn(\n",
      "/home/ltindall/rfml-dev/rfml-dev/data.py:919: UserWarning: Matching spectrogram could not be found for annotation: {'core:freq_lower_edge': 5275120000.0, 'core:freq_upper_edge': 5284720000.0, 'core:label': 'wifi', 'core:sample_count': 23224, 'core:sample_start': 126863451}\n",
      "  warnings.warn(\n",
      "/home/ltindall/rfml-dev/rfml-dev/data.py:919: UserWarning: Matching spectrogram could not be found for annotation: {'core:freq_lower_edge': 5275360000.0, 'core:freq_upper_edge': 5284640000.0, 'core:label': 'wifi', 'core:sample_count': 32855, 'core:sample_start': 128434768}\n",
      "  warnings.warn(\n",
      "/home/ltindall/rfml-dev/rfml-dev/data.py:919: UserWarning: Matching spectrogram could not be found for annotation: {'core:freq_lower_edge': 5275440000.0, 'core:freq_upper_edge': 5284800000.0, 'core:label': 'wifi', 'core:sample_count': 26351, 'core:sample_start': 144160391}\n",
      "  warnings.warn(\n",
      "/home/ltindall/rfml-dev/rfml-dev/data.py:919: UserWarning: Matching spectrogram could not be found for annotation: {'core:freq_lower_edge': 5275360000.0, 'core:freq_upper_edge': 5285360000.0, 'core:label': 'wifi', 'core:sample_count': 16786, 'core:sample_start': 149421364}\n",
      "  warnings.warn(\n",
      "/home/ltindall/rfml-dev/rfml-dev/data.py:919: UserWarning: Matching spectrogram could not be found for annotation: {'core:freq_lower_edge': 5275280000.0, 'core:freq_upper_edge': 5285280000.0, 'core:label': 'wifi', 'core:sample_count': 16814, 'core:sample_start': 150460334}\n",
      "  warnings.warn(\n",
      "/home/ltindall/rfml-dev/rfml-dev/data.py:919: UserWarning: Matching spectrogram could not be found for annotation: {'core:freq_lower_edge': 5275040000.0, 'core:freq_upper_edge': 5285040000.0, 'core:label': 'wifi', 'core:sample_count': 25827, 'core:sample_start': 158845368}\n",
      "  warnings.warn(\n",
      "/home/ltindall/rfml-dev/rfml-dev/data.py:919: UserWarning: Matching spectrogram could not be found for annotation: {'core:freq_lower_edge': 5275120000.0, 'core:freq_upper_edge': 5285200000.0, 'core:label': 'wifi', 'core:sample_count': 21298, 'core:sample_start': 161479268}\n",
      "  warnings.warn(\n",
      "/home/ltindall/rfml-dev/rfml-dev/data.py:919: UserWarning: Matching spectrogram could not be found for annotation: {'core:freq_lower_edge': 5274720000.0, 'core:freq_upper_edge': 5284240000.0, 'core:label': 'wifi', 'core:sample_count': 21000, 'core:sample_start': 208645958}\n",
      "  warnings.warn(\n",
      "/home/ltindall/rfml-dev/rfml-dev/data.py:919: UserWarning: Matching spectrogram could not be found for annotation: {'core:freq_lower_edge': 5274720000.0, 'core:freq_upper_edge': 5285120000.0, 'core:label': 'wifi', 'core:sample_count': 10885, 'core:sample_start': 217574774}\n",
      "  warnings.warn(\n",
      "/home/ltindall/rfml-dev/rfml-dev/data.py:919: UserWarning: Matching spectrogram could not be found for annotation: {'core:freq_lower_edge': 5275200000.0, 'core:freq_upper_edge': 5284640000.0, 'core:label': 'wifi', 'core:sample_count': 39594, 'core:sample_start': 220687828}\n",
      "  warnings.warn(\n",
      "/home/ltindall/rfml-dev/rfml-dev/data.py:919: UserWarning: Matching spectrogram could not be found for annotation: {'core:freq_lower_edge': 5275440000.0, 'core:freq_upper_edge': 5284640000.0, 'core:label': 'wifi', 'core:sample_count': 20948, 'core:sample_start': 233812226}\n",
      "  warnings.warn(\n",
      "/home/ltindall/rfml-dev/rfml-dev/data.py:919: UserWarning: Matching spectrogram could not be found for annotation: {'core:freq_lower_edge': 5275040000.0, 'core:freq_upper_edge': 5284640000.0, 'core:label': 'wifi', 'core:sample_count': 20441, 'core:sample_start': 239057164}\n",
      "  warnings.warn(\n",
      "/home/ltindall/rfml-dev/rfml-dev/data.py:919: UserWarning: Matching spectrogram could not be found for annotation: {'core:freq_lower_edge': 5274800000.0, 'core:freq_upper_edge': 5285360000.0, 'core:label': 'wifi', 'core:sample_count': 10272, 'core:sample_start': 239597035}\n",
      "  warnings.warn(\n",
      "/home/ltindall/rfml-dev/rfml-dev/data.py:919: UserWarning: Matching spectrogram could not be found for annotation: {'core:freq_lower_edge': 5275360000.0, 'core:freq_upper_edge': 5284720000.0, 'core:label': 'wifi', 'core:sample_count': 34179, 'core:sample_start': 240112755}\n",
      "  warnings.warn(\n",
      "/home/ltindall/rfml-dev/rfml-dev/data.py:919: UserWarning: Matching spectrogram could not be found for annotation: {'core:freq_lower_edge': 5275120000.0, 'core:freq_upper_edge': 5284400000.0, 'core:label': 'wifi', 'core:sample_count': 28734, 'core:sample_start': 247449837}\n",
      "  warnings.warn(\n",
      "/home/ltindall/rfml-dev/rfml-dev/data.py:919: UserWarning: Matching spectrogram could not be found for annotation: {'core:freq_lower_edge': 5275360000.0, 'core:freq_upper_edge': 5284640000.0, 'core:label': 'wifi', 'core:sample_count': 37273, 'core:sample_start': 257401735}\n",
      "  warnings.warn(\n",
      "/home/ltindall/rfml-dev/rfml-dev/data.py:919: UserWarning: Matching spectrogram could not be found for annotation: {'core:freq_lower_edge': 5275440000.0, 'core:freq_upper_edge': 5284560000.0, 'core:label': 'wifi', 'core:sample_count': 29588, 'core:sample_start': 258986577}\n",
      "  warnings.warn(\n",
      "/home/ltindall/rfml-dev/rfml-dev/data.py:919: UserWarning: Matching spectrogram could not be found for annotation: {'core:freq_lower_edge': 5275040000.0, 'core:freq_upper_edge': 5284640000.0, 'core:label': 'wifi', 'core:sample_count': 14851, 'core:sample_start': 262662717}\n",
      "  warnings.warn(\n",
      "/home/ltindall/rfml-dev/rfml-dev/data.py:919: UserWarning: Matching spectrogram could not be found for annotation: {'core:freq_lower_edge': 5274960000.0, 'core:freq_upper_edge': 5284160000.0, 'core:label': 'wifi', 'core:sample_count': 38946, 'core:sample_start': 264236303}\n",
      "  warnings.warn(\n",
      "/home/ltindall/rfml-dev/rfml-dev/data.py:919: UserWarning: Matching spectrogram could not be found for annotation: {'core:freq_lower_edge': 5275440000.0, 'core:freq_upper_edge': 5284640000.0, 'core:label': 'wifi', 'core:sample_count': 29759, 'core:sample_start': 267361448}\n",
      "  warnings.warn(\n",
      "/home/ltindall/rfml-dev/rfml-dev/data.py:919: UserWarning: Matching spectrogram could not be found for annotation: {'core:freq_lower_edge': 5275360000.0, 'core:freq_upper_edge': 5284400000.0, 'core:label': 'wifi', 'core:sample_count': 41685, 'core:sample_start': 267905196}\n",
      "  warnings.warn(\n",
      "/home/ltindall/rfml-dev/rfml-dev/data.py:919: UserWarning: Matching spectrogram could not be found for annotation: {'core:freq_lower_edge': 5275520000.0, 'core:freq_upper_edge': 5284960000.0, 'core:label': 'wifi', 'core:sample_count': 34642, 'core:sample_start': 296718643}\n",
      "  warnings.warn(\n",
      "/home/ltindall/rfml-dev/rfml-dev/data.py:919: UserWarning: Matching spectrogram could not be found for annotation: {'core:freq_lower_edge': 5275520000.0, 'core:freq_upper_edge': 5284800000.0, 'core:label': 'wifi', 'core:sample_count': 36119, 'core:sample_start': 298302492}\n",
      "  warnings.warn(\n",
      "/home/ltindall/rfml-dev/rfml-dev/data.py:919: UserWarning: Matching spectrogram could not be found for annotation: {'core:freq_lower_edge': 5274800000.0, 'core:freq_upper_edge': 5284400000.0, 'core:label': 'wifi', 'core:sample_count': 34787, 'core:sample_start': 322940736}\n",
      "  warnings.warn(\n",
      "/home/ltindall/rfml-dev/rfml-dev/data.py:919: UserWarning: Matching spectrogram could not be found for annotation: {'core:freq_lower_edge': 5275120000.0, 'core:freq_upper_edge': 5284880000.0, 'core:label': 'wifi', 'core:sample_count': 29706, 'core:sample_start': 333445539}\n",
      "  warnings.warn(\n",
      "/home/ltindall/rfml-dev/rfml-dev/data.py:919: UserWarning: Matching spectrogram could not be found for annotation: {'core:freq_lower_edge': 5275280000.0, 'core:freq_upper_edge': 5284720000.0, 'core:label': 'wifi', 'core:sample_count': 40010, 'core:sample_start': 338676946}\n",
      "  warnings.warn(\n",
      "/home/ltindall/rfml-dev/rfml-dev/data.py:919: UserWarning: Matching spectrogram could not be found for annotation: {'core:freq_lower_edge': 5275280000.0, 'core:freq_upper_edge': 5284800000.0, 'core:label': 'wifi', 'core:sample_count': 27464, 'core:sample_start': 341300002}\n",
      "  warnings.warn(\n",
      "/home/ltindall/rfml-dev/rfml-dev/data.py:919: UserWarning: Matching spectrogram could not be found for annotation: {'core:freq_lower_edge': 5275360000.0, 'core:freq_upper_edge': 5285280000.0, 'core:label': 'wifi', 'core:sample_count': 16472, 'core:sample_start': 342352223}\n",
      "  warnings.warn(\n",
      "/home/ltindall/rfml-dev/rfml-dev/data.py:919: UserWarning: Matching spectrogram could not be found for annotation: {'core:freq_lower_edge': 5275440000.0, 'core:freq_upper_edge': 5284880000.0, 'core:label': 'wifi', 'core:sample_count': 41361, 'core:sample_start': 356504670}\n",
      "  warnings.warn(\n",
      "/home/ltindall/rfml-dev/rfml-dev/data.py:919: UserWarning: Matching spectrogram could not be found for annotation: {'core:freq_lower_edge': 5275360000.0, 'core:freq_upper_edge': 5284720000.0, 'core:label': 'wifi', 'core:sample_count': 40192, 'core:sample_start': 360706195}\n",
      "  warnings.warn(\n",
      "/home/ltindall/rfml-dev/rfml-dev/data.py:919: UserWarning: Matching spectrogram could not be found for annotation: {'core:freq_lower_edge': 5274880000.0, 'core:freq_upper_edge': 5284320000.0, 'core:label': 'wifi', 'core:sample_count': 32516, 'core:sample_start': 369086092}\n",
      "  warnings.warn(\n",
      "/home/ltindall/rfml-dev/rfml-dev/data.py:919: UserWarning: Matching spectrogram could not be found for annotation: {'core:freq_lower_edge': 5275280000.0, 'core:freq_upper_edge': 5285120000.0, 'core:label': 'wifi', 'core:sample_count': 14972, 'core:sample_start': 370142694}\n",
      "  warnings.warn(\n",
      "/home/ltindall/rfml-dev/rfml-dev/data.py:919: UserWarning: Matching spectrogram could not be found for annotation: {'core:freq_lower_edge': 5274720000.0, 'core:freq_upper_edge': 5284400000.0, 'core:label': 'wifi', 'core:sample_count': 21654, 'core:sample_start': 381671576}\n",
      "  warnings.warn(\n",
      "/home/ltindall/rfml-dev/rfml-dev/data.py:919: UserWarning: Matching spectrogram could not be found for annotation: {'core:freq_lower_edge': 5275040000.0, 'core:freq_upper_edge': 5284480000.0, 'core:label': 'wifi', 'core:sample_count': 35962, 'core:sample_start': 383246182}\n",
      "  warnings.warn(\n",
      "/home/ltindall/rfml-dev/rfml-dev/data.py:919: UserWarning: Matching spectrogram could not be found for annotation: {'core:freq_lower_edge': 5275440000.0, 'core:freq_upper_edge': 5284800000.0, 'core:label': 'wifi', 'core:sample_count': 40872, 'core:sample_start': 392681859}\n",
      "  warnings.warn(\n",
      "/home/ltindall/rfml-dev/rfml-dev/data.py:919: UserWarning: Matching spectrogram could not be found for annotation: {'core:freq_lower_edge': 5275040000.0, 'core:freq_upper_edge': 5284560000.0, 'core:label': 'wifi', 'core:sample_count': 27478, 'core:sample_start': 393732455}\n",
      "  warnings.warn(\n",
      "/home/ltindall/rfml-dev/rfml-dev/data.py:919: UserWarning: Matching spectrogram could not be found for annotation: {'core:freq_lower_edge': 5275600000.0, 'core:freq_upper_edge': 5285280000.0, 'core:label': 'wifi', 'core:sample_count': 21244, 'core:sample_start': 398448055}\n",
      "  warnings.warn(\n",
      "/home/ltindall/rfml-dev/rfml-dev/data.py:919: UserWarning: Matching spectrogram could not be found for annotation: {'core:freq_lower_edge': 5275200000.0, 'core:freq_upper_edge': 5284560000.0, 'core:label': 'wifi', 'core:sample_count': 40063, 'core:sample_start': 401079213}\n",
      "  warnings.warn(\n"
     ]
    },
    {
     "name": "stdout",
     "output_type": "stream",
     "text": [
      "Saving data/gamutrf/gamutrf-sd-gr-ieee-wifi/test_offline/wifi-encoding-0-sendsps-10000000.s16.zst.sigmf-meta\n",
      "\n",
      "Writing YOLO txt label files\n"
     ]
    },
    {
     "name": "stderr",
     "output_type": "stream",
     "text": [
      "\n",
      "  0%|                                                                                 | 0/1408 [00:00<?, ?it/s]\u001b[A\n",
      "  7%|████▉                                                                | 102/1408 [00:00<00:01, 1014.06it/s]\u001b[A\n",
      " 15%|██████████                                                           | 205/1408 [00:00<00:01, 1019.50it/s]\u001b[A\n",
      " 24%|████████████████▏                                                    | 331/1408 [00:00<00:00, 1126.82it/s]\u001b[A\n",
      " 32%|█████████████████████▊                                               | 444/1408 [00:00<00:00, 1052.04it/s]\u001b[A\n",
      " 39%|███████████████████████████▎                                          | 550/1408 [00:00<00:00, 998.49it/s]\u001b[A\n",
      " 47%|████████████████████████████████▏                                    | 657/1408 [00:00<00:00, 1020.46it/s]\u001b[A\n",
      "100%|████████████████████████████████████████████████████████████████████| 1408/1408 [00:00<00:00, 1792.80it/s]\u001b[A\n",
      "100%|████████████████████████████████████████████████████████████████████████████| 2/2 [00:08<00:00,  4.35s/it]"
     ]
    },
    {
     "name": "stdout",
     "output_type": "stream",
     "text": [
      "Saving data/gamutrf/gamutrf-sd-gr-ieee-wifi/test_offline/wifi-encoding-0-sendsps-10000000.s16.zst.sigmf-meta\n",
      "\n"
     ]
    },
    {
     "name": "stderr",
     "output_type": "stream",
     "text": [
      "\n"
     ]
    }
   ],
   "source": [
    "labels = set()\n",
    "for f in tqdm(glob.glob(str(Path(data_directory,\"*-meta\")))):\n",
    "    \n",
    "    d = Data(f)\n",
    "    d.generate_spectrograms(n_samples, n_fft, cmap_str=\"turbo\", overwrite=False)\n",
    "    yolo_label_outdir = str(Path(data_directory,\"yolo\",\"labels\"))\n",
    "    yolo_image_outdir = str(Path(data_directory,\"yolo\",\"images\"))\n",
    "    d.export_yolo(yolo_label_outdir, image_outdir=yolo_image_outdir, yolo_class_list=yolo_class_list)"
   ]
  },
  {
   "cell_type": "code",
   "execution_count": null,
   "id": "4835ab38-fcee-4122-80d6-2665f3840b65",
   "metadata": {},
   "outputs": [],
   "source": []
  }
 ],
 "metadata": {
  "kernelspec": {
   "display_name": "Python 3 (ipykernel)",
   "language": "python",
   "name": "python3"
  },
  "language_info": {
   "codemirror_mode": {
    "name": "ipython",
    "version": 3
   },
   "file_extension": ".py",
   "mimetype": "text/x-python",
   "name": "python",
   "nbconvert_exporter": "python",
   "pygments_lexer": "ipython3",
   "version": "3.10.9"
  }
 },
 "nbformat": 4,
 "nbformat_minor": 5
}
