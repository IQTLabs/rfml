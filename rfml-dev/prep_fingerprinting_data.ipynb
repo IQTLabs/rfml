{
 "cells": [
  {
   "cell_type": "code",
   "execution_count": 1,
   "id": "a3010bb5-6676-4823-820a-b6b6df675703",
   "metadata": {},
   "outputs": [],
   "source": [
    "import numpy as np \n",
    "import torchsig.transforms as ST\n",
    "\n",
    "from sigmf_pytorch_dataset import SigMFDataset"
   ]
  },
  {
   "cell_type": "markdown",
   "id": "17bd1f76-0fae-499d-a87c-5bc5eab8670f",
   "metadata": {},
   "source": [
    "# Parameters"
   ]
  },
  {
   "cell_type": "code",
   "execution_count": 2,
   "id": "84e058ab-4ac9-40a5-8b1f-2713a5c1f1e9",
   "metadata": {},
   "outputs": [],
   "source": [
    "data_directory = \"data/gamutrf/gamutrf-sd-gr-ieee-wifi/test_offline/\" # directory with SigMF files \n",
    "num_iq_samples = 400 # number of I/Q samples for each input\n",
    "class_list = [\"wifi\", \"anom_wifi\"] # use same order as desired for one hot \n",
    "\n",
    "only_use_start_of_burst = True "
   ]
  },
  {
   "cell_type": "markdown",
   "id": "e78534eb-e774-4455-a780-c6c03336ac25",
   "metadata": {},
   "source": [
    "# Create SigMF Pytorch style dataset"
   ]
  },
  {
   "cell_type": "code",
   "execution_count": 3,
   "id": "2dcd1c9b-e536-4949-88f9-2f901e54d4b9",
   "metadata": {},
   "outputs": [
    {
     "name": "stdout",
     "output_type": "stream",
     "text": [
      "Class List: ['wifi', 'anom_wifi']\n"
     ]
    }
   ],
   "source": [
    "transform = ST.Compose([\n",
    "    ST.ComplexTo2D(),\n",
    "])\n",
    "\n",
    "dataset = SigMFDataset( \n",
    "    root=data_directory, \n",
    "    sample_count= num_iq_samples, \n",
    "    class_list = class_list, \n",
    "    transform = transform,\n",
    "    only_first_samples=only_use_start_of_burst,\n",
    ")"
   ]
  },
  {
   "cell_type": "markdown",
   "id": "2dd01669-6f4f-47f4-b13e-c30d8c18b82b",
   "metadata": {},
   "source": [
    "# Stack data and convert labels to onehot"
   ]
  },
  {
   "cell_type": "code",
   "execution_count": 4,
   "id": "ba597522-defa-4bf5-bbb1-d5d39902ed6a",
   "metadata": {},
   "outputs": [],
   "source": [
    "def labels_to_onehot(labels, n_classes=None):\n",
    "    if n_classes is None:\n",
    "        n_classes = np.max(labels)+1\n",
    "    return np.eye(n_classes)[labels]\n",
    "\n",
    "data = []\n",
    "labels = []\n",
    "\n",
    "for x,y in dataset:\n",
    "    data.append(np.moveaxis(x, 0, 1)) # Switch axis order -> (num_iq_samples, 2)\n",
    "    labels.append(labels_to_onehot(y, n_classes=len(class_list)))\n",
    "\n",
    "data = np.array(data)\n",
    "labels = np.array(labels)"
   ]
  },
  {
   "cell_type": "code",
   "execution_count": 5,
   "id": "a5e19b4e-c51c-4f14-a922-255513b8511b",
   "metadata": {},
   "outputs": [
    {
     "name": "stdout",
     "output_type": "stream",
     "text": [
      "data.shape=(1807, 400, 2)\n",
      "labels.shape=(1807, 2)\n"
     ]
    }
   ],
   "source": [
    "print(f\"{data.shape=}\")\n",
    "print(f\"{labels.shape=}\")"
   ]
  },
  {
   "cell_type": "code",
   "execution_count": 12,
   "id": "ab47c131-eed9-45a1-8b10-d2393d3a9e4d",
   "metadata": {},
   "outputs": [
    {
     "data": {
      "text/plain": [
       "11564800"
      ]
     },
     "execution_count": 12,
     "metadata": {},
     "output_type": "execute_result"
    }
   ],
   "source": [
    "data.nbytes"
   ]
  },
  {
   "cell_type": "code",
   "execution_count": 11,
   "id": "010e5e27-c233-4850-ac97-dee1e7d9c613",
   "metadata": {},
   "outputs": [
    {
     "data": {
      "text/plain": [
       "11564800"
      ]
     },
     "execution_count": 11,
     "metadata": {},
     "output_type": "execute_result"
    }
   ],
   "source": [
    "1807*400*2*8"
   ]
  },
  {
   "cell_type": "code",
   "execution_count": 13,
   "id": "7cc92704-82c1-463d-b3b2-4c2c0a50cc00",
   "metadata": {},
   "outputs": [
    {
     "data": {
      "text/plain": [
       "11.5648"
      ]
     },
     "execution_count": 13,
     "metadata": {},
     "output_type": "execute_result"
    }
   ],
   "source": [
    "data.nbytes/1e6"
   ]
  },
  {
   "cell_type": "code",
   "execution_count": 20,
   "id": "4004ee90-156e-4540-bf09-d8a35365566b",
   "metadata": {},
   "outputs": [
    {
     "name": "stdout",
     "output_type": "stream",
     "text": [
      "Class List: ['wifi', 'anom_wifi']\n",
      "data.shape=(49516, 400, 2)\n",
      "labels.shape=(49516, 2)\n"
     ]
    }
   ],
   "source": [
    "data_directory = \"data/gamutrf/gamutrf-sd-gr-ieee-wifi/gain_40/\" # directory with SigMF files \n",
    "num_iq_samples = 400 # number of I/Q samples for each input\n",
    "class_list = [\"wifi\", \"anom_wifi\"] # use same order as desired for one hot \n",
    "\n",
    "only_use_start_of_burst = True \n",
    "\n",
    "transform = ST.Compose([\n",
    "    ST.ComplexTo2D(),\n",
    "])\n",
    "\n",
    "dataset = SigMFDataset( \n",
    "    root=data_directory, \n",
    "    sample_count= num_iq_samples, \n",
    "    class_list = class_list, \n",
    "    transform = transform,\n",
    "    only_first_samples=only_use_start_of_burst,\n",
    ")\n",
    "\n",
    "def labels_to_onehot(labels, n_classes=None):\n",
    "    if n_classes is None:\n",
    "        n_classes = np.max(labels)+1\n",
    "    return np.eye(n_classes)[labels]\n",
    "\n",
    "data = []\n",
    "labels = []\n",
    "\n",
    "for x,y in dataset:\n",
    "    data.append(np.moveaxis(x, 0, 1)) # Switch axis order -> (num_iq_samples, 2)\n",
    "    labels.append(labels_to_onehot(y, n_classes=len(class_list)))\n",
    "\n",
    "data = np.array(data)\n",
    "labels = np.array(labels)\n",
    "\n",
    "print(f\"{data.shape=}\")\n",
    "print(f\"{labels.shape=}\")"
   ]
  },
  {
   "cell_type": "code",
   "execution_count": 21,
   "id": "5434830c-63e5-4246-85ae-ba5a50bdf18b",
   "metadata": {},
   "outputs": [
    {
     "data": {
      "text/plain": [
       "316.9024"
      ]
     },
     "execution_count": 21,
     "metadata": {},
     "output_type": "execute_result"
    }
   ],
   "source": [
    "data.nbytes/1e6"
   ]
  },
  {
   "cell_type": "code",
   "execution_count": null,
   "id": "94902eee-64d1-4941-b631-622c0d006cd2",
   "metadata": {},
   "outputs": [],
   "source": []
  }
 ],
 "metadata": {
  "kernelspec": {
   "display_name": "Python 3 (ipykernel)",
   "language": "python",
   "name": "python3"
  },
  "language_info": {
   "codemirror_mode": {
    "name": "ipython",
    "version": 3
   },
   "file_extension": ".py",
   "mimetype": "text/x-python",
   "name": "python",
   "nbconvert_exporter": "python",
   "pygments_lexer": "ipython3",
   "version": "3.10.9"
  }
 },
 "nbformat": 4,
 "nbformat_minor": 5
}
